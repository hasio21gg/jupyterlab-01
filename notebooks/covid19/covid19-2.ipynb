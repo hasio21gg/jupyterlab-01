{
 "cells": [
  {
   "cell_type": "markdown",
   "id": "c51ae9bb-6193-4f75-a8b2-23c7fd9e765c",
   "metadata": {},
   "source": [
    "### 蔓延防止等重点措置（まん防）の効果検証を「あえて」DID＋TSclustによる時系列クラスタリング＋CausalImpactでやってみた\n",
    "\n",
    "https://tjo.hatenablog.com/entry/2022/03/16/170000"
   ]
  },
  {
   "cell_type": "code",
   "execution_count": 1,
   "id": "24022f36-22f3-44ea-b2e2-db070e316a50",
   "metadata": {},
   "outputs": [],
   "source": []
  },
  {
   "cell_type": "code",
   "execution_count": 2,
   "id": "dde5425e-7d1d-4734-8f57-21856ed57ca9",
   "metadata": {},
   "outputs": [],
   "source": [
    "# 余分なワーニングを非表示にする\n",
    "import warnings\n",
    "warnings.filterwarnings('ignore')\n",
    "\n",
    "# 必要ライブラリのimport\n",
    "import pandas as pd\n",
    "#import numpy as np\n",
    "import matplotlib.pyplot as plt\n",
    "import datetime as dt\n",
    "# matplotlib日本語化対応\n",
    "import japanize_matplotlib"
   ]
  },
  {
   "cell_type": "code",
   "execution_count": 10,
   "id": "65eca4c0-bfbf-4def-9a80-7964af64eb77",
   "metadata": {},
   "outputs": [
    {
     "data": {
      "text/plain": [
       "0        True\n",
       "1        True\n",
       "2        True\n",
       "3        True\n",
       "4        True\n",
       "         ... \n",
       "23841    True\n",
       "23842    True\n",
       "23843    True\n",
       "23844    True\n",
       "23845    True\n",
       "Length: 23846, dtype: bool"
      ]
     },
     "execution_count": 10,
     "metadata": {},
     "output_type": "execute_result"
    }
   ],
   "source": [
    "# 公開データ\n",
    "url = 'https://stopcovid19.metro.tokyo.lg.jp/data/130001_tokyo_covid19_details_testing_positive_cases.csv'# データ読み込み\n",
    "url2 = 'http://opendata.pref.toyama.jp/files/covid19/20200403/toyama_counts.csv'\n",
    "url3 = 'http://opendata.pref.toyama.jp/files/covid19/20200403/toyama_patients.csv'\n",
    "df = pd.read_csv(url, parse_dates=[0])\n",
    "df2 = pd.read_csv(url2, parse_dates=[0])\n",
    "df3 = pd.read_csv(url3, parse_dates=[0])\n",
    "# 結果確認\n",
    "#display(df.tail(2))\n",
    "#display(df2.tail(2))\n",
    "#display(df3.tail(2))\n",
    "#display(df.tail())\n",
    "df3.isna().any(axis=1)"
   ]
  },
  {
   "cell_type": "code",
   "execution_count": 11,
   "id": "c911c5cb-8cd4-4fa0-8533-bfec9897bef8",
   "metadata": {},
   "outputs": [
    {
     "ename": "NameError",
     "evalue": "name 'library' is not defined",
     "output_type": "error",
     "traceback": [
      "\u001b[0;31m---------------------------------------------------------------------------\u001b[0m",
      "\u001b[0;31mNameError\u001b[0m                                 Traceback (most recent call last)",
      "Input \u001b[0;32mIn [11]\u001b[0m, in \u001b[0;36m<module>\u001b[0;34m\u001b[0m\n\u001b[1;32m      1\u001b[0m \u001b[38;5;66;03m### Import required libraries ###\u001b[39;00m\n\u001b[1;32m      2\u001b[0m \u001b[38;5;66;03m# FYI: this notebook requires {CausalImpact}, {TSclust} & {tidyr}\u001b[39;00m\n\u001b[0;32m----> 3\u001b[0m \u001b[43mlibrary\u001b[49m(CausalImpact)\n\u001b[1;32m      4\u001b[0m library(TSclust)\n",
      "\u001b[0;31mNameError\u001b[0m: name 'library' is not defined"
     ]
    }
   ],
   "source": [
    "### Import required libraries ###\n",
    "# FYI: this notebook requires {CausalImpact}, {TSclust} & {tidyr}\n",
    "library(CausalImpact)\n",
    "library(TSclust)"
   ]
  },
  {
   "cell_type": "code",
   "execution_count": null,
   "id": "4f58f831-5675-47b2-bfde-9c6b9b16edc1",
   "metadata": {},
   "outputs": [],
   "source": []
  }
 ],
 "metadata": {
  "kernelspec": {
   "display_name": "Python 3 (ipykernel)",
   "language": "python",
   "name": "python3"
  },
  "language_info": {
   "codemirror_mode": {
    "name": "ipython",
    "version": 3
   },
   "file_extension": ".py",
   "mimetype": "text/x-python",
   "name": "python",
   "nbconvert_exporter": "python",
   "pygments_lexer": "ipython3",
   "version": "3.10.5"
  }
 },
 "nbformat": 4,
 "nbformat_minor": 5
}
