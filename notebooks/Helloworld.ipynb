{
 "cells": [
  {
   "cell_type": "code",
   "execution_count": 3,
   "id": "a58d284c-5096-4711-8532-201396ce6128",
   "metadata": {},
   "outputs": [],
   "source": [
    "import platform"
   ]
  },
  {
   "cell_type": "code",
   "execution_count": 4,
   "id": "16a163ce-cef5-4da3-a109-cab21ec17c7a",
   "metadata": {},
   "outputs": [
    {
     "name": "stdout",
     "output_type": "stream",
     "text": [
      "3.9.7\n",
      "Linux-5.10.16.3-microsoft-standard-WSL2-x86_64-with-glibc2.31\n"
     ]
    }
   ],
   "source": [
    "print(f'%s' % (platform.python_version()))\n",
    "print(platform.platform())"
   ]
  },
  {
   "cell_type": "code",
   "execution_count": 5,
   "id": "042eb842-65a5-40a9-b2a8-95622befa89c",
   "metadata": {},
   "outputs": [
    {
     "data": {
      "text/plain": [
       "'/home/jovyan/.cache/matplotlib'"
      ]
     },
     "execution_count": 5,
     "metadata": {},
     "output_type": "execute_result"
    }
   ],
   "source": [
    "import matplotlib\n",
    "matplotlib.get_cachedir()"
   ]
  },
  {
   "cell_type": "code",
   "execution_count": 6,
   "id": "2a21df19-7d1c-4e25-acd9-a156209c057f",
   "metadata": {},
   "outputs": [],
   "source": [
    "import matplotlib.font_manager as fm\n",
    "import pandas as pd"
   ]
  },
  {
   "cell_type": "code",
   "execution_count": 7,
   "id": "78efff6e-5eb0-4d44-9613-ef6c09443f74",
   "metadata": {},
   "outputs": [
    {
     "data": {
      "text/plain": [
       "110"
      ]
     },
     "execution_count": 7,
     "metadata": {},
     "output_type": "execute_result"
    }
   ],
   "source": [
    "fonts = fm.findSystemFonts()\n",
    "len(fonts) #=> 100以上はあるはず"
   ]
  },
  {
   "cell_type": "code",
   "execution_count": 8,
   "id": "9436c576-eb3b-4340-9d20-23f36fac9470",
   "metadata": {},
   "outputs": [],
   "source": [
    "l = []\n",
    "for f in fonts:\n",
    "    font = fm.FontProperties(fname=f)\n",
    "    l.append((f, font.get_name(), font.get_family()))\n",
    "df = pd.DataFrame(l, columns=['path', 'name', 'family'])"
   ]
  },
  {
   "cell_type": "code",
   "execution_count": 9,
   "id": "45221e52-ca44-411f-ad40-2771d1dcc628",
   "metadata": {},
   "outputs": [
    {
     "data": {
      "text/html": [
       "<div>\n",
       "<style scoped>\n",
       "    .dataframe tbody tr th:only-of-type {\n",
       "        vertical-align: middle;\n",
       "    }\n",
       "\n",
       "    .dataframe tbody tr th {\n",
       "        vertical-align: top;\n",
       "    }\n",
       "\n",
       "    .dataframe thead th {\n",
       "        text-align: right;\n",
       "    }\n",
       "</style>\n",
       "<table border=\"1\" class=\"dataframe\">\n",
       "  <thead>\n",
       "    <tr style=\"text-align: right;\">\n",
       "      <th></th>\n",
       "      <th>path</th>\n",
       "      <th>name</th>\n",
       "      <th>family</th>\n",
       "    </tr>\n",
       "  </thead>\n",
       "  <tbody>\n",
       "  </tbody>\n",
       "</table>\n",
       "</div>"
      ],
      "text/plain": [
       "Empty DataFrame\n",
       "Columns: [path, name, family]\n",
       "Index: []"
      ]
     },
     "execution_count": 9,
     "metadata": {},
     "output_type": "execute_result"
    }
   ],
   "source": [
    "df[df['path'].apply(lambda s: 'IPA' in s)]"
   ]
  },
  {
   "cell_type": "code",
   "execution_count": 10,
   "id": "b982231e-7e16-44b1-bf1f-76ffa6137275",
   "metadata": {},
   "outputs": [
    {
     "data": {
      "text/html": [
       "<div>\n",
       "<style scoped>\n",
       "    .dataframe tbody tr th:only-of-type {\n",
       "        vertical-align: middle;\n",
       "    }\n",
       "\n",
       "    .dataframe tbody tr th {\n",
       "        vertical-align: top;\n",
       "    }\n",
       "\n",
       "    .dataframe thead th {\n",
       "        text-align: right;\n",
       "    }\n",
       "</style>\n",
       "<table border=\"1\" class=\"dataframe\">\n",
       "  <thead>\n",
       "    <tr style=\"text-align: right;\">\n",
       "      <th></th>\n",
       "      <th>path</th>\n",
       "      <th>name</th>\n",
       "      <th>family</th>\n",
       "    </tr>\n",
       "  </thead>\n",
       "  <tbody>\n",
       "    <tr>\n",
       "      <th>0</th>\n",
       "      <td>/usr/share/fonts/opentype/urw-base35/NimbusSan...</td>\n",
       "      <td>Nimbus Sans</td>\n",
       "      <td>[IPAGothic]</td>\n",
       "    </tr>\n",
       "    <tr>\n",
       "      <th>1</th>\n",
       "      <td>/usr/share/fonts/opentype/ipafont-gothic/ipagp...</td>\n",
       "      <td>IPAPGothic</td>\n",
       "      <td>[IPAGothic]</td>\n",
       "    </tr>\n",
       "    <tr>\n",
       "      <th>2</th>\n",
       "      <td>/usr/share/fonts/opentype/ipafont-mincho/ipamp...</td>\n",
       "      <td>IPAPMincho</td>\n",
       "      <td>[IPAGothic]</td>\n",
       "    </tr>\n",
       "    <tr>\n",
       "      <th>3</th>\n",
       "      <td>/usr/share/fonts/truetype/dejavu/DejaVuSerifCo...</td>\n",
       "      <td>DejaVu Serif</td>\n",
       "      <td>[IPAGothic]</td>\n",
       "    </tr>\n",
       "    <tr>\n",
       "      <th>4</th>\n",
       "      <td>/usr/share/fonts/truetype/liberation/Liberatio...</td>\n",
       "      <td>Liberation Sans</td>\n",
       "      <td>[IPAGothic]</td>\n",
       "    </tr>\n",
       "    <tr>\n",
       "      <th>...</th>\n",
       "      <td>...</td>\n",
       "      <td>...</td>\n",
       "      <td>...</td>\n",
       "    </tr>\n",
       "    <tr>\n",
       "      <th>105</th>\n",
       "      <td>/opt/conda/fonts/Inconsolata-Regular.ttf</td>\n",
       "      <td>Inconsolata</td>\n",
       "      <td>[IPAGothic]</td>\n",
       "    </tr>\n",
       "    <tr>\n",
       "      <th>106</th>\n",
       "      <td>/usr/share/fonts/opentype/urw-base35/P052-Bold...</td>\n",
       "      <td>P052</td>\n",
       "      <td>[IPAGothic]</td>\n",
       "    </tr>\n",
       "    <tr>\n",
       "      <th>107</th>\n",
       "      <td>/opt/conda/fonts/Ubuntu-BI.ttf</td>\n",
       "      <td>Ubuntu</td>\n",
       "      <td>[IPAGothic]</td>\n",
       "    </tr>\n",
       "    <tr>\n",
       "      <th>108</th>\n",
       "      <td>/usr/share/fonts/truetype/fonts-japanese-gothi...</td>\n",
       "      <td>IPAGothic</td>\n",
       "      <td>[IPAGothic]</td>\n",
       "    </tr>\n",
       "    <tr>\n",
       "      <th>109</th>\n",
       "      <td>/usr/share/fonts/truetype/dejavu/DejaVuSans-Ob...</td>\n",
       "      <td>DejaVu Sans</td>\n",
       "      <td>[IPAGothic]</td>\n",
       "    </tr>\n",
       "  </tbody>\n",
       "</table>\n",
       "<p>110 rows × 3 columns</p>\n",
       "</div>"
      ],
      "text/plain": [
       "                                                  path             name  \\\n",
       "0    /usr/share/fonts/opentype/urw-base35/NimbusSan...      Nimbus Sans   \n",
       "1    /usr/share/fonts/opentype/ipafont-gothic/ipagp...       IPAPGothic   \n",
       "2    /usr/share/fonts/opentype/ipafont-mincho/ipamp...       IPAPMincho   \n",
       "3    /usr/share/fonts/truetype/dejavu/DejaVuSerifCo...     DejaVu Serif   \n",
       "4    /usr/share/fonts/truetype/liberation/Liberatio...  Liberation Sans   \n",
       "..                                                 ...              ...   \n",
       "105           /opt/conda/fonts/Inconsolata-Regular.ttf      Inconsolata   \n",
       "106  /usr/share/fonts/opentype/urw-base35/P052-Bold...             P052   \n",
       "107                     /opt/conda/fonts/Ubuntu-BI.ttf           Ubuntu   \n",
       "108  /usr/share/fonts/truetype/fonts-japanese-gothi...        IPAGothic   \n",
       "109  /usr/share/fonts/truetype/dejavu/DejaVuSans-Ob...      DejaVu Sans   \n",
       "\n",
       "          family  \n",
       "0    [IPAGothic]  \n",
       "1    [IPAGothic]  \n",
       "2    [IPAGothic]  \n",
       "3    [IPAGothic]  \n",
       "4    [IPAGothic]  \n",
       "..           ...  \n",
       "105  [IPAGothic]  \n",
       "106  [IPAGothic]  \n",
       "107  [IPAGothic]  \n",
       "108  [IPAGothic]  \n",
       "109  [IPAGothic]  \n",
       "\n",
       "[110 rows x 3 columns]"
      ]
     },
     "execution_count": 10,
     "metadata": {},
     "output_type": "execute_result"
    }
   ],
   "source": [
    "df"
   ]
  },
  {
   "cell_type": "code",
   "execution_count": 4,
   "id": "c88b223c-1874-46ca-aec1-e82c6784fc2d",
   "metadata": {},
   "outputs": [],
   "source": [
    "import matplotlib.pyplot as plt\n",
    "import seaborn as sns\n",
    "import pandas as pd\n",
    "%matplotlib inline"
   ]
  },
  {
   "cell_type": "code",
   "execution_count": 5,
   "id": "54acf24a-4e3f-467a-89a5-30b65085e7cf",
   "metadata": {},
   "outputs": [
    {
     "data": {
      "image/png": "[encoded data removed]",
      "text/plain": [
       "<Figure size 432x288 with 1 Axes>"
      ]
     },
     "metadata": {
      "needs_background": "light"
     },
     "output_type": "display_data"
    }
   ],
   "source": [
    "plt.plot([1,2,3,4])\n",
    "plt.ylabel('数値', fontdict={'family': 'IPAPGothic'})\n",
    "plt.show()"
   ]
  },
  {
   "cell_type": "code",
   "execution_count": 13,
   "id": "9a58449c-e890-4ed5-80df-2585af1399f3",
   "metadata": {},
   "outputs": [
    {
     "data": {
      "text/plain": [
       "<seaborn.axisgrid.JointGrid at 0x7ff4be6bde50>"
      ]
     },
     "execution_count": 13,
     "metadata": {},
     "output_type": "execute_result"
    },
    {
     "data": {
      "image/png": "[encoded data removed]",
      "text/plain": [
       "<Figure size 432x432 with 3 Axes>"
      ]
     },
     "metadata": {},
     "output_type": "display_data"
    }
   ],
   "source": [
    "data = pd.DataFrame([1, 2, 3, 4], columns=['数値'])\n",
    "sns.set(font=['IPAPGothic'])\n",
    "sns.jointplot(x='数値', y='数値', data=data, xlim=(0, 5), ylim=(0, 5))"
   ]
  },
  {
   "cell_type": "code",
   "execution_count": 14,
   "id": "09a38d28-2a76-44dd-b746-78bece20e07c",
   "metadata": {},
   "outputs": [
    {
     "data": {
      "image/png": "[encoded data removed]",
      "text/plain": [
       "<Figure size 432x288 with 1 Axes>"
      ]
     },
     "metadata": {},
     "output_type": "display_data"
    }
   ],
   "source": [
    "plt.plot([1,2,3,4])\n",
    "#plt.ylabel('数値')\n",
    "plt.ylabel('数値', fontdict={'family': 'IPAPGothic'})\n",
    "plt.show()"
   ]
  },
  {
   "cell_type": "code",
   "execution_count": 15,
   "id": "727abca6-22f9-4b8c-998a-18ffe6d18f94",
   "metadata": {},
   "outputs": [
    {
     "data": {
      "text/plain": [
       "'/home/jovyan/.config/matplotlib/matplotlibrc'"
      ]
     },
     "execution_count": 15,
     "metadata": {},
     "output_type": "execute_result"
    }
   ],
   "source": [
    "matplotlib.matplotlib_fname()"
   ]
  },
  {
   "cell_type": "code",
   "execution_count": null,
   "id": "850c1ed5-6ce8-4b1f-8c01-b71045533335",
   "metadata": {},
   "outputs": [],
   "source": []
  }
 ],
 "metadata": {
  "kernelspec": {
   "display_name": "Python 3 (ipykernel)",
   "language": "python",
   "name": "python3"
  },
  "language_info": {
   "codemirror_mode": {
    "name": "ipython",
    "version": 3
   },
   "file_extension": ".py",
   "mimetype": "text/x-python",
   "name": "python",
   "nbconvert_exporter": "python",
   "pygments_lexer": "ipython3",
   "version": "3.9.7"
  }
 },
 "nbformat": 4,
 "nbformat_minor": 5
}
