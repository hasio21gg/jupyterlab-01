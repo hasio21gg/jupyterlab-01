{
 "cells": [
  {
   "cell_type": "code",
   "execution_count": null,
   "id": "a58d284c-5096-4711-8532-201396ce6128",
   "metadata": {},
   "outputs": [],
   "source": [
    "import platform"
   ]
  },
  {
   "cell_type": "code",
   "execution_count": null,
   "id": "16a163ce-cef5-4da3-a109-cab21ec17c7a",
   "metadata": {},
   "outputs": [],
   "source": [
    "print(f'%s' % (platform.python_version()))"
   ]
  },
  {
   "cell_type": "code",
   "execution_count": null,
   "id": "97524140-cb18-4996-8788-0fc0885c6ab4",
   "metadata": {},
   "outputs": [],
   "source": [
    "platform.platform()"
   ]
  },
  {
   "cell_type": "code",
   "execution_count": null,
   "id": "56d2dc8e-e0b3-489a-b145-0d33fe26c432",
   "metadata": {},
   "outputs": [],
   "source": [
    "print('Hello')"
   ]
  },
  {
   "cell_type": "code",
   "execution_count": null,
   "id": "042eb842-65a5-40a9-b2a8-95622befa89c",
   "metadata": {},
   "outputs": [],
   "source": []
  }
 ],
 "metadata": {
  "kernelspec": {
   "display_name": "Python 3 (ipykernel)",
   "language": "python",
   "name": "python3"
  },
  "language_info": {
   "codemirror_mode": {
    "name": "ipython",
    "version": 3
   },
   "file_extension": ".py",
   "mimetype": "text/x-python",
   "name": "python",
   "nbconvert_exporter": "python",
   "pygments_lexer": "ipython3",
   "version": "3.8.10"
  }
 },
 "nbformat": 4,
 "nbformat_minor": 5
}
