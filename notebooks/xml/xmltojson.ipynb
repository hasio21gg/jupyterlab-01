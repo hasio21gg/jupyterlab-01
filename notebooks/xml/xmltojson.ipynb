{
 "cells": [
  {
   "cell_type": "code",
   "execution_count": null,
   "id": "c23dd0af-c748-4c9f-8dc1-498d68ba1218",
   "metadata": {},
   "outputs": [],
   "source": [
    "!pip install xmltodict"
   ]
  },
  {
   "cell_type": "code",
   "execution_count": null,
   "id": "fed58150-d555-4642-aeee-75847c013f12",
   "metadata": {},
   "outputs": [],
   "source": [
    "import xmltodict\n",
    "import json"
   ]
  },
  {
   "cell_type": "code",
   "execution_count": 22,
   "id": "52d4f124-55af-4302-ac99-28e4c4535a88",
   "metadata": {},
   "outputs": [],
   "source": [
    "# XMLファイルの処理\n",
    "with open('SendMail.xml', encoding='shift_jisx0213') as fp:\n",
    "    # xml読み込み\n",
    "    xml_data = fp.read()\n",
    " \n",
    "    # xml → dict\n",
    "    dict_data = xmltodict.parse(xml_data)\n",
    "    #print(dict_data)\n",
    "\n",
    "json_object= json.dumps(dict_data)\n"
   ]
  },
  {
   "cell_type": "code",
   "execution_count": 24,
   "id": "178f26d9-dcad-427c-a16e-eb60019e6b51",
   "metadata": {},
   "outputs": [],
   "source": [
    "with open('SendMail.json', 'w', encoding='shift_jis') as f:\n",
    "    json.dump(json_object, f, indent=4)"
   ]
  },
  {
   "cell_type": "code",
   "execution_count": null,
   "id": "e0791909-f656-4c78-b00d-963a45320f43",
   "metadata": {},
   "outputs": [],
   "source": []
  }
 ],
 "metadata": {
  "kernelspec": {
   "display_name": "Python 3 (ipykernel)",
   "language": "python",
   "name": "python3"
  },
  "language_info": {
   "codemirror_mode": {
    "name": "ipython",
    "version": 3
   },
   "file_extension": ".py",
   "mimetype": "text/x-python",
   "name": "python",
   "nbconvert_exporter": "python",
   "pygments_lexer": "ipython3",
   "version": "3.9.7"
  }
 },
 "nbformat": 4,
 "nbformat_minor": 5
}
