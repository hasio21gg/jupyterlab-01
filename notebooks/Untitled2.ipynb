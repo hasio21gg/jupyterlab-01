{
 "cells": [
  {
   "cell_type": "code",
   "execution_count": 7,
   "id": "75bb63ee-eee0-402b-be1f-a09eb164bf0d",
   "metadata": {},
   "outputs": [],
   "source": [
    "import os\n",
    "import cv2\n",
    "import matplotlib.pyplot as plt\n",
    "import glob\n",
    "from IPython.display import display, Image\n",
    "import numpy as np"
   ]
  },
  {
   "cell_type": "code",
   "execution_count": 8,
   "id": "a3572890-a957-460a-8882-cc332e1c54b2",
   "metadata": {},
   "outputs": [
    {
     "name": "stdout",
     "output_type": "stream",
     "text": [
      "(112, 410, 3)\n",
      "uint8\n"
     ]
    }
   ],
   "source": [
    "im = cv2.imread('../datasets/A1.jpg')\n",
    "print(im.shape)\n",
    "# (225, 400, 3)\n",
    "\n",
    "print(im.dtype)\n",
    "# uint8"
   ]
  },
  {
   "cell_type": "code",
   "execution_count": 9,
   "id": "63d116b3-be75-4155-9be5-2f865dfdb99e",
   "metadata": {},
   "outputs": [
    {
     "name": "stdout",
     "output_type": "stream",
     "text": [
      "False\n"
     ]
    }
   ],
   "source": [
    "cv2.imwrite('../datasets/A1.jpg', im)\n",
    "im_png = cv2.imread('../datasets/A1.jpg')\n",
    "\n",
    "print(np.array_equal(im, im_png))\n",
    "# True"
   ]
  },
  {
   "cell_type": "code",
   "execution_count": null,
   "id": "cb747569-d88b-4a83-bb6d-272a418ec4a8",
   "metadata": {},
   "outputs": [],
   "source": []
  }
 ],
 "metadata": {
  "kernelspec": {
   "display_name": "Python 3 (ipykernel)",
   "language": "python",
   "name": "python3"
  },
  "language_info": {
   "codemirror_mode": {
    "name": "ipython",
    "version": 3
   },
   "file_extension": ".py",
   "mimetype": "text/x-python",
   "name": "python",
   "nbconvert_exporter": "python",
   "pygments_lexer": "ipython3",
   "version": "3.9.7"
  }
 },
 "nbformat": 4,
 "nbformat_minor": 5
}
