{
 "cells": [
  {
   "cell_type": "code",
   "execution_count": 1,
   "id": "db7d2ba7-20d8-4e17-9279-591a51e8f883",
   "metadata": {},
   "outputs": [
    {
     "ename": "LoadError",
     "evalue": "ArgumentError: Package Plots not found in current path:\n- Run `import Pkg; Pkg.add(\"Plots\")` to install the Plots package.\n",
     "output_type": "error",
     "traceback": [
      "ArgumentError: Package Plots not found in current path:\n- Run `import Pkg; Pkg.add(\"Plots\")` to install the Plots package.\n",
      "",
      "Stacktrace:",
      " [1] require(into::Module, mod::Symbol)",
      "   @ Base ./loading.jl:967",
      " [2] eval",
      "   @ ./boot.jl:373 [inlined]",
      " [3] include_string(mapexpr::typeof(REPL.softscope), mod::Module, code::String, filename::String)",
      "   @ Base ./loading.jl:1196"
     ]
    }
   ],
   "source": [
    "using Plots"
   ]
  },
  {
   "cell_type": "code",
   "execution_count": 2,
   "id": "1e898bad-6733-456b-a764-fe7d53114cf0",
   "metadata": {},
   "outputs": [
    {
     "ename": "LoadError",
     "evalue": "UndefVarError: plot not defined",
     "output_type": "error",
     "traceback": [
      "UndefVarError: plot not defined",
      "",
      "Stacktrace:",
      " [1] top-level scope",
      "   @ In[2]:1",
      " [2] eval",
      "   @ ./boot.jl:373 [inlined]",
      " [3] include_string(mapexpr::typeof(REPL.softscope), mod::Module, code::String, filename::String)",
      "   @ Base ./loading.jl:1196"
     ]
    }
   ],
   "source": [
    "plot(sin)"
   ]
  },
  {
   "cell_type": "code",
   "execution_count": 6,
   "id": "a7ad9265-54c5-4269-aa75-0ec888af822e",
   "metadata": {},
   "outputs": [
    {
     "data": {
      "text/latex": [
       "Unrecognized magic \\texttt{\\%add}.\n",
       "\n",
       "Julia does not use the IPython \\texttt{\\%magic} syntax.   To interact with the IJulia kernel, use \\texttt{IJulia.somefunction(...)}, for example.  Julia macros, string macros, and functions can be used to accomplish most of the other functionalities of IPython magics.\n",
       "\n"
      ],
      "text/markdown": [
       "Unrecognized magic `%add`.\n",
       "\n",
       "Julia does not use the IPython `%magic` syntax.   To interact with the IJulia kernel, use `IJulia.somefunction(...)`, for example.  Julia macros, string macros, and functions can be used to accomplish most of the other functionalities of IPython magics.\n"
      ],
      "text/plain": [
       "  Unrecognized magic \u001b[36m%add\u001b[39m.\n",
       "\n",
       "  Julia does not use the IPython \u001b[36m%magic\u001b[39m syntax. To interact with the IJulia\n",
       "  kernel, use \u001b[36mIJulia.somefunction(...)\u001b[39m, for example. Julia macros, string\n",
       "  macros, and functions can be used to accomplish most of the other\n",
       "  functionalities of IPython magics."
      ]
     },
     "metadata": {},
     "output_type": "display_data"
    }
   ],
   "source": [
    "%add Plots"
   ]
  },
  {
   "cell_type": "code",
   "execution_count": 7,
   "id": "ecb7af87-34d4-49a9-b6e2-8d7fc165bf86",
   "metadata": {},
   "outputs": [
    {
     "ename": "LoadError",
     "evalue": "syntax: extra token \"Plots\" after end of expression",
     "output_type": "error",
     "traceback": [
      "syntax: extra token \"Plots\" after end of expression",
      "",
      "Stacktrace:",
      " [1] top-level scope",
      "   @ In[7]:1",
      " [2] eval",
      "   @ ./boot.jl:373 [inlined]",
      " [3] include_string(mapexpr::typeof(REPL.softscope), mod::Module, code::String, filename::String)",
      "   @ Base ./loading.jl:1196"
     ]
    }
   ],
   "source": [
    "add Plots"
   ]
  },
  {
   "cell_type": "code",
   "execution_count": 8,
   "id": "c033ac31-d55c-409a-91fd-01f8f9b37926",
   "metadata": {},
   "outputs": [
    {
     "ename": "LoadError",
     "evalue": "syntax: extra token \"Plots\" after end of expression",
     "output_type": "error",
     "traceback": [
      "syntax: extra token \"Plots\" after end of expression",
      "",
      "Stacktrace:",
      " [1] top-level scope",
      "   @ In[8]:1",
      " [2] eval",
      "   @ ./boot.jl:373 [inlined]",
      " [3] include_string(mapexpr::typeof(REPL.softscope), mod::Module, code::String, filename::String)",
      "   @ Base ./loading.jl:1196"
     ]
    }
   ],
   "source": [
    "add Plots;"
   ]
  },
  {
   "cell_type": "code",
   "execution_count": 9,
   "id": "5cfd8e89-d6d0-43e6-bae7-04995aa97b36",
   "metadata": {},
   "outputs": [
    {
     "ename": "LoadError",
     "evalue": "syntax: extra token \"Plots\" after end of expression",
     "output_type": "error",
     "traceback": [
      "syntax: extra token \"Plots\" after end of expression",
      "",
      "Stacktrace:",
      " [1] top-level scope",
      "   @ In[9]:1",
      " [2] eval",
      "   @ ./boot.jl:373 [inlined]",
      " [3] include_string(mapexpr::typeof(REPL.softscope), mod::Module, code::String, filename::String)",
      "   @ Base ./loading.jl:1196"
     ]
    }
   ],
   "source": [
    "pkg>add Plots"
   ]
  },
  {
   "cell_type": "code",
   "execution_count": 10,
   "id": "954360f7-d1fc-4ed4-948a-407b8c611fdc",
   "metadata": {},
   "outputs": [
    {
     "ename": "LoadError",
     "evalue": "UndefVarError: add not defined",
     "output_type": "error",
     "traceback": [
      "UndefVarError: add not defined",
      "",
      "Stacktrace:",
      " [1] top-level scope",
      "   @ :0",
      " [2] eval",
      "   @ ./boot.jl:373 [inlined]",
      " [3] include_string(mapexpr::typeof(REPL.softscope), mod::Module, code::String, filename::String)",
      "   @ Base ./loading.jl:1196"
     ]
    }
   ],
   "source": [
    "add"
   ]
  },
  {
   "cell_type": "code",
   "execution_count": 11,
   "id": "27422ac2-3630-401b-9abe-80d1b994036d",
   "metadata": {},
   "outputs": [
    {
     "ename": "LoadError",
     "evalue": "syntax: extra token \"Plot\" after end of expression",
     "output_type": "error",
     "traceback": [
      "syntax: extra token \"Plot\" after end of expression",
      "",
      "Stacktrace:",
      " [1] top-level scope",
      "   @ In[11]:1",
      " [2] eval",
      "   @ ./boot.jl:373 [inlined]",
      " [3] include_string(mapexpr::typeof(REPL.softscope), mod::Module, code::String, filename::String)",
      "   @ Base ./loading.jl:1196"
     ]
    }
   ],
   "source": [
    "add Plot"
   ]
  },
  {
   "cell_type": "code",
   "execution_count": 12,
   "id": "4353b1dd-831f-40a4-9d53-2090757d66cb",
   "metadata": {},
   "outputs": [
    {
     "ename": "LoadError",
     "evalue": "syntax: extra token \"Plots\" after end of expression",
     "output_type": "error",
     "traceback": [
      "syntax: extra token \"Plots\" after end of expression",
      "",
      "Stacktrace:",
      " [1] top-level scope",
      "   @ In[12]:1",
      " [2] eval",
      "   @ ./boot.jl:373 [inlined]",
      " [3] include_string(mapexpr::typeof(REPL.softscope), mod::Module, code::String, filename::String)",
      "   @ Base ./loading.jl:1196"
     ]
    }
   ],
   "source": [
    "add Plots"
   ]
  },
  {
   "cell_type": "code",
   "execution_count": 13,
   "id": "fe8d846e-b7b0-4ded-8269-d8b3454704a8",
   "metadata": {},
   "outputs": [
    {
     "ename": "LoadError",
     "evalue": "syntax: extra token \"IJulia\" after end of expression",
     "output_type": "error",
     "traceback": [
      "syntax: extra token \"IJulia\" after end of expression",
      "",
      "Stacktrace:",
      " [1] top-level scope",
      "   @ In[13]:1",
      " [2] eval",
      "   @ ./boot.jl:373 [inlined]",
      " [3] include_string(mapexpr::typeof(REPL.softscope), mod::Module, code::String, filename::String)",
      "   @ Base ./loading.jl:1196"
     ]
    }
   ],
   "source": [
    "add IJulia"
   ]
  },
  {
   "cell_type": "code",
   "execution_count": null,
   "id": "a754d745-4556-4d30-b8d9-61aa1a451e39",
   "metadata": {},
   "outputs": [],
   "source": []
  }
 ],
 "metadata": {
  "kernelspec": {
   "display_name": "Julia 1.7.1",
   "language": "julia",
   "name": "julia-1.7"
  },
  "language_info": {
   "file_extension": ".jl",
   "mimetype": "application/julia",
   "name": "julia",
   "version": "1.7.1"
  }
 },
 "nbformat": 4,
 "nbformat_minor": 5
}
