{
 "cells": [
  {
   "cell_type": "code",
   "execution_count": 1,
   "id": "97c256c0-197c-40a8-a42e-96cfc67c87ba",
   "metadata": {},
   "outputs": [],
   "source": [
    "import numpy as np\n",
    "import pandas as pd"
   ]
  },
  {
   "cell_type": "code",
   "execution_count": 3,
   "id": "7d1f88ac-60dd-4d55-8ae5-74a67941172f",
   "metadata": {},
   "outputs": [
    {
     "data": {
      "text/plain": [
       "0    1.0\n",
       "1    3.0\n",
       "2    5.0\n",
       "3    NaN\n",
       "4    6.8\n",
       "dtype: float64"
      ]
     },
     "execution_count": 3,
     "metadata": {},
     "output_type": "execute_result"
    }
   ],
   "source": [
    "s = pd.Series([1,3,5,np.nan,6.8])\n",
    "s"
   ]
  },
  {
   "cell_type": "code",
   "execution_count": 8,
   "id": "5a4f2892-168e-42e1-897d-01b3a194f935",
   "metadata": {},
   "outputs": [
    {
     "data": {
      "text/plain": [
       "DatetimeIndex(['2013-01-01', '2013-01-02', '2013-01-03', '2013-01-04',\n",
       "               '2013-01-05', '2013-01-06'],\n",
       "              dtype='datetime64[ns]', freq='D')"
      ]
     },
     "execution_count": 8,
     "metadata": {},
     "output_type": "execute_result"
    }
   ],
   "source": [
    "dates = pd.date_range(\"20130101\", periods=6)\n",
    "dates"
   ]
  },
  {
   "cell_type": "code",
   "execution_count": 12,
   "id": "c74832ef-ba70-40e6-9147-2b46079f4ea9",
   "metadata": {},
   "outputs": [
    {
     "data": {
      "text/html": [
       "<div>\n",
       "<style scoped>\n",
       "    .dataframe tbody tr th:only-of-type {\n",
       "        vertical-align: middle;\n",
       "    }\n",
       "\n",
       "    .dataframe tbody tr th {\n",
       "        vertical-align: top;\n",
       "    }\n",
       "\n",
       "    .dataframe thead th {\n",
       "        text-align: right;\n",
       "    }\n",
       "</style>\n",
       "<table border=\"1\" class=\"dataframe\">\n",
       "  <thead>\n",
       "    <tr style=\"text-align: right;\">\n",
       "      <th></th>\n",
       "      <th>A</th>\n",
       "      <th>B</th>\n",
       "      <th>C</th>\n",
       "      <th>D</th>\n",
       "    </tr>\n",
       "  </thead>\n",
       "  <tbody>\n",
       "    <tr>\n",
       "      <th>2013-01-01</th>\n",
       "      <td>0.601775</td>\n",
       "      <td>1.927217</td>\n",
       "      <td>-0.528308</td>\n",
       "      <td>-0.575904</td>\n",
       "    </tr>\n",
       "    <tr>\n",
       "      <th>2013-01-02</th>\n",
       "      <td>0.605653</td>\n",
       "      <td>0.087549</td>\n",
       "      <td>0.096415</td>\n",
       "      <td>-1.678157</td>\n",
       "    </tr>\n",
       "    <tr>\n",
       "      <th>2013-01-03</th>\n",
       "      <td>1.034388</td>\n",
       "      <td>0.817980</td>\n",
       "      <td>0.589834</td>\n",
       "      <td>-1.018562</td>\n",
       "    </tr>\n",
       "    <tr>\n",
       "      <th>2013-01-04</th>\n",
       "      <td>-1.229200</td>\n",
       "      <td>-0.170612</td>\n",
       "      <td>0.303431</td>\n",
       "      <td>-0.569110</td>\n",
       "    </tr>\n",
       "    <tr>\n",
       "      <th>2013-01-05</th>\n",
       "      <td>-0.916935</td>\n",
       "      <td>0.547617</td>\n",
       "      <td>0.305648</td>\n",
       "      <td>1.295048</td>\n",
       "    </tr>\n",
       "    <tr>\n",
       "      <th>2013-01-06</th>\n",
       "      <td>-0.004060</td>\n",
       "      <td>-0.241869</td>\n",
       "      <td>1.027610</td>\n",
       "      <td>2.276999</td>\n",
       "    </tr>\n",
       "  </tbody>\n",
       "</table>\n",
       "</div>"
      ],
      "text/plain": [
       "                   A         B         C         D\n",
       "2013-01-01  0.601775  1.927217 -0.528308 -0.575904\n",
       "2013-01-02  0.605653  0.087549  0.096415 -1.678157\n",
       "2013-01-03  1.034388  0.817980  0.589834 -1.018562\n",
       "2013-01-04 -1.229200 -0.170612  0.303431 -0.569110\n",
       "2013-01-05 -0.916935  0.547617  0.305648  1.295048\n",
       "2013-01-06 -0.004060 -0.241869  1.027610  2.276999"
      ]
     },
     "execution_count": 12,
     "metadata": {},
     "output_type": "execute_result"
    }
   ],
   "source": [
    "df = pd.DataFrame(np.random.randn(6,4), index=dates,columns=list(\"ABCD\"))\n",
    "df"
   ]
  },
  {
   "cell_type": "code",
   "execution_count": 13,
   "id": "1838d197-30f7-4edf-81bd-3a2a83f32eed",
   "metadata": {},
   "outputs": [
    {
     "data": {
      "text/html": [
       "<div>\n",
       "<style scoped>\n",
       "    .dataframe tbody tr th:only-of-type {\n",
       "        vertical-align: middle;\n",
       "    }\n",
       "\n",
       "    .dataframe tbody tr th {\n",
       "        vertical-align: top;\n",
       "    }\n",
       "\n",
       "    .dataframe thead th {\n",
       "        text-align: right;\n",
       "    }\n",
       "</style>\n",
       "<table border=\"1\" class=\"dataframe\">\n",
       "  <thead>\n",
       "    <tr style=\"text-align: right;\">\n",
       "      <th></th>\n",
       "      <th>A</th>\n",
       "      <th>B</th>\n",
       "      <th>C</th>\n",
       "      <th>D</th>\n",
       "      <th>E</th>\n",
       "      <th>F</th>\n",
       "    </tr>\n",
       "  </thead>\n",
       "  <tbody>\n",
       "    <tr>\n",
       "      <th>0</th>\n",
       "      <td>1.0</td>\n",
       "      <td>2013-01-02</td>\n",
       "      <td>1.0</td>\n",
       "      <td>3</td>\n",
       "      <td>test</td>\n",
       "      <td>foo</td>\n",
       "    </tr>\n",
       "    <tr>\n",
       "      <th>1</th>\n",
       "      <td>1.0</td>\n",
       "      <td>2013-01-02</td>\n",
       "      <td>1.0</td>\n",
       "      <td>3</td>\n",
       "      <td>train</td>\n",
       "      <td>foo</td>\n",
       "    </tr>\n",
       "    <tr>\n",
       "      <th>2</th>\n",
       "      <td>1.0</td>\n",
       "      <td>2013-01-02</td>\n",
       "      <td>1.0</td>\n",
       "      <td>3</td>\n",
       "      <td>test</td>\n",
       "      <td>foo</td>\n",
       "    </tr>\n",
       "    <tr>\n",
       "      <th>3</th>\n",
       "      <td>1.0</td>\n",
       "      <td>2013-01-02</td>\n",
       "      <td>1.0</td>\n",
       "      <td>3</td>\n",
       "      <td>train</td>\n",
       "      <td>foo</td>\n",
       "    </tr>\n",
       "  </tbody>\n",
       "</table>\n",
       "</div>"
      ],
      "text/plain": [
       "     A          B    C  D      E    F\n",
       "0  1.0 2013-01-02  1.0  3   test  foo\n",
       "1  1.0 2013-01-02  1.0  3  train  foo\n",
       "2  1.0 2013-01-02  1.0  3   test  foo\n",
       "3  1.0 2013-01-02  1.0  3  train  foo"
      ]
     },
     "execution_count": 13,
     "metadata": {},
     "output_type": "execute_result"
    }
   ],
   "source": [
    "df2 = pd.DataFrame(\n",
    "    {\n",
    "        \"A\":1.0,\n",
    "        \"B\":pd.Timestamp(\"20130102\"),\n",
    "        \"C\":pd.Series(1, index=list(range(4)), dtype=\"float32\"),\n",
    "        \"D\":np.array([3] * 4,dtype=\"int32\"),\n",
    "        \"E\":pd.Categorical([\"test\",\"train\",\"test\",\"train\"]),\n",
    "        \"F\":\"foo\",\n",
    "    }\n",
    ")\n",
    "df2"
   ]
  },
  {
   "cell_type": "code",
   "execution_count": 15,
   "id": "842faad4-80d7-49a5-93e5-106f8131e557",
   "metadata": {},
   "outputs": [
    {
     "data": {
      "text/plain": [
       "A           float64\n",
       "B    datetime64[ns]\n",
       "C           float32\n",
       "D             int32\n",
       "E          category\n",
       "F            object\n",
       "dtype: object"
      ]
     },
     "execution_count": 15,
     "metadata": {},
     "output_type": "execute_result"
    }
   ],
   "source": [
    "df2.dtypes"
   ]
  },
  {
   "cell_type": "code",
   "execution_count": 17,
   "id": "1849006c-d365-4fee-928a-e9d84a6735b7",
   "metadata": {},
   "outputs": [
    {
     "data": {
      "text/plain": [
       "0    1.0\n",
       "1    1.0\n",
       "2    1.0\n",
       "3    1.0\n",
       "Name: A, dtype: float64"
      ]
     },
     "execution_count": 17,
     "metadata": {},
     "output_type": "execute_result"
    }
   ],
   "source": [
    "df2.A"
   ]
  },
  {
   "cell_type": "code",
   "execution_count": 18,
   "id": "82322f81-0f7d-45d5-96b3-bb051412f968",
   "metadata": {},
   "outputs": [
    {
     "data": {
      "text/html": [
       "<div>\n",
       "<style scoped>\n",
       "    .dataframe tbody tr th:only-of-type {\n",
       "        vertical-align: middle;\n",
       "    }\n",
       "\n",
       "    .dataframe tbody tr th {\n",
       "        vertical-align: top;\n",
       "    }\n",
       "\n",
       "    .dataframe thead th {\n",
       "        text-align: right;\n",
       "    }\n",
       "</style>\n",
       "<table border=\"1\" class=\"dataframe\">\n",
       "  <thead>\n",
       "    <tr style=\"text-align: right;\">\n",
       "      <th></th>\n",
       "      <th>A</th>\n",
       "      <th>B</th>\n",
       "      <th>C</th>\n",
       "      <th>D</th>\n",
       "    </tr>\n",
       "  </thead>\n",
       "  <tbody>\n",
       "    <tr>\n",
       "      <th>2013-01-01</th>\n",
       "      <td>0.601775</td>\n",
       "      <td>1.927217</td>\n",
       "      <td>-0.528308</td>\n",
       "      <td>-0.575904</td>\n",
       "    </tr>\n",
       "    <tr>\n",
       "      <th>2013-01-02</th>\n",
       "      <td>0.605653</td>\n",
       "      <td>0.087549</td>\n",
       "      <td>0.096415</td>\n",
       "      <td>-1.678157</td>\n",
       "    </tr>\n",
       "    <tr>\n",
       "      <th>2013-01-03</th>\n",
       "      <td>1.034388</td>\n",
       "      <td>0.817980</td>\n",
       "      <td>0.589834</td>\n",
       "      <td>-1.018562</td>\n",
       "    </tr>\n",
       "    <tr>\n",
       "      <th>2013-01-04</th>\n",
       "      <td>-1.229200</td>\n",
       "      <td>-0.170612</td>\n",
       "      <td>0.303431</td>\n",
       "      <td>-0.569110</td>\n",
       "    </tr>\n",
       "    <tr>\n",
       "      <th>2013-01-05</th>\n",
       "      <td>-0.916935</td>\n",
       "      <td>0.547617</td>\n",
       "      <td>0.305648</td>\n",
       "      <td>1.295048</td>\n",
       "    </tr>\n",
       "  </tbody>\n",
       "</table>\n",
       "</div>"
      ],
      "text/plain": [
       "                   A         B         C         D\n",
       "2013-01-01  0.601775  1.927217 -0.528308 -0.575904\n",
       "2013-01-02  0.605653  0.087549  0.096415 -1.678157\n",
       "2013-01-03  1.034388  0.817980  0.589834 -1.018562\n",
       "2013-01-04 -1.229200 -0.170612  0.303431 -0.569110\n",
       "2013-01-05 -0.916935  0.547617  0.305648  1.295048"
      ]
     },
     "execution_count": 18,
     "metadata": {},
     "output_type": "execute_result"
    }
   ],
   "source": [
    "df.head()"
   ]
  },
  {
   "cell_type": "code",
   "execution_count": 19,
   "id": "12d9110e-7507-4c55-ab74-9be3fef37701",
   "metadata": {},
   "outputs": [
    {
     "data": {
      "text/html": [
       "<div>\n",
       "<style scoped>\n",
       "    .dataframe tbody tr th:only-of-type {\n",
       "        vertical-align: middle;\n",
       "    }\n",
       "\n",
       "    .dataframe tbody tr th {\n",
       "        vertical-align: top;\n",
       "    }\n",
       "\n",
       "    .dataframe thead th {\n",
       "        text-align: right;\n",
       "    }\n",
       "</style>\n",
       "<table border=\"1\" class=\"dataframe\">\n",
       "  <thead>\n",
       "    <tr style=\"text-align: right;\">\n",
       "      <th></th>\n",
       "      <th>A</th>\n",
       "      <th>B</th>\n",
       "      <th>C</th>\n",
       "      <th>D</th>\n",
       "    </tr>\n",
       "  </thead>\n",
       "  <tbody>\n",
       "    <tr>\n",
       "      <th>2013-01-04</th>\n",
       "      <td>-1.229200</td>\n",
       "      <td>-0.170612</td>\n",
       "      <td>0.303431</td>\n",
       "      <td>-0.569110</td>\n",
       "    </tr>\n",
       "    <tr>\n",
       "      <th>2013-01-05</th>\n",
       "      <td>-0.916935</td>\n",
       "      <td>0.547617</td>\n",
       "      <td>0.305648</td>\n",
       "      <td>1.295048</td>\n",
       "    </tr>\n",
       "    <tr>\n",
       "      <th>2013-01-06</th>\n",
       "      <td>-0.004060</td>\n",
       "      <td>-0.241869</td>\n",
       "      <td>1.027610</td>\n",
       "      <td>2.276999</td>\n",
       "    </tr>\n",
       "  </tbody>\n",
       "</table>\n",
       "</div>"
      ],
      "text/plain": [
       "                   A         B         C         D\n",
       "2013-01-04 -1.229200 -0.170612  0.303431 -0.569110\n",
       "2013-01-05 -0.916935  0.547617  0.305648  1.295048\n",
       "2013-01-06 -0.004060 -0.241869  1.027610  2.276999"
      ]
     },
     "execution_count": 19,
     "metadata": {},
     "output_type": "execute_result"
    }
   ],
   "source": [
    "df.tail(3)"
   ]
  },
  {
   "cell_type": "code",
   "execution_count": 20,
   "id": "146187f8-85df-4a46-b9b4-de98ee5fdfb1",
   "metadata": {},
   "outputs": [
    {
     "data": {
      "text/plain": [
       "DatetimeIndex(['2013-01-01', '2013-01-02', '2013-01-03', '2013-01-04',\n",
       "               '2013-01-05', '2013-01-06'],\n",
       "              dtype='datetime64[ns]', freq='D')"
      ]
     },
     "execution_count": 20,
     "metadata": {},
     "output_type": "execute_result"
    }
   ],
   "source": [
    "df.index"
   ]
  },
  {
   "cell_type": "code",
   "execution_count": 21,
   "id": "93985759-14be-4b05-b2ae-bf3ffcded43f",
   "metadata": {},
   "outputs": [
    {
     "data": {
      "text/plain": [
       "Index(['A', 'B', 'C', 'D'], dtype='object')"
      ]
     },
     "execution_count": 21,
     "metadata": {},
     "output_type": "execute_result"
    }
   ],
   "source": [
    "df.columns"
   ]
  },
  {
   "cell_type": "code",
   "execution_count": 22,
   "id": "ba05c734-b929-4535-b2dc-52788b7c1d22",
   "metadata": {},
   "outputs": [
    {
     "data": {
      "text/plain": [
       "array([[ 0.60177452,  1.927217  , -0.52830763, -0.57590369],\n",
       "       [ 0.60565294,  0.08754908,  0.09641535, -1.67815661],\n",
       "       [ 1.03438813,  0.81797957,  0.58983386, -1.01856165],\n",
       "       [-1.22919992, -0.17061234,  0.30343097, -0.5691098 ],\n",
       "       [-0.91693545,  0.54761688,  0.30564829,  1.29504767],\n",
       "       [-0.00405983, -0.24186873,  1.02760989,  2.27699912]])"
      ]
     },
     "execution_count": 22,
     "metadata": {},
     "output_type": "execute_result"
    }
   ],
   "source": [
    "df.to_numpy()"
   ]
  },
  {
   "cell_type": "code",
   "execution_count": 23,
   "id": "ac180f55-b7ac-46e7-87f7-6cb53cc22ed4",
   "metadata": {},
   "outputs": [
    {
     "data": {
      "text/plain": [
       "array([[1.0, Timestamp('2013-01-02 00:00:00'), 1.0, 3, 'test', 'foo'],\n",
       "       [1.0, Timestamp('2013-01-02 00:00:00'), 1.0, 3, 'train', 'foo'],\n",
       "       [1.0, Timestamp('2013-01-02 00:00:00'), 1.0, 3, 'test', 'foo'],\n",
       "       [1.0, Timestamp('2013-01-02 00:00:00'), 1.0, 3, 'train', 'foo']],\n",
       "      dtype=object)"
      ]
     },
     "execution_count": 23,
     "metadata": {},
     "output_type": "execute_result"
    }
   ],
   "source": [
    "df2.to_numpy()"
   ]
  },
  {
   "cell_type": "code",
   "execution_count": 24,
   "id": "8f842145-428c-4ef3-9661-c40eb60b971d",
   "metadata": {},
   "outputs": [
    {
     "data": {
      "text/html": [
       "<div>\n",
       "<style scoped>\n",
       "    .dataframe tbody tr th:only-of-type {\n",
       "        vertical-align: middle;\n",
       "    }\n",
       "\n",
       "    .dataframe tbody tr th {\n",
       "        vertical-align: top;\n",
       "    }\n",
       "\n",
       "    .dataframe thead th {\n",
       "        text-align: right;\n",
       "    }\n",
       "</style>\n",
       "<table border=\"1\" class=\"dataframe\">\n",
       "  <thead>\n",
       "    <tr style=\"text-align: right;\">\n",
       "      <th></th>\n",
       "      <th>A</th>\n",
       "      <th>B</th>\n",
       "      <th>C</th>\n",
       "      <th>D</th>\n",
       "    </tr>\n",
       "  </thead>\n",
       "  <tbody>\n",
       "    <tr>\n",
       "      <th>count</th>\n",
       "      <td>6.000000</td>\n",
       "      <td>6.000000</td>\n",
       "      <td>6.000000</td>\n",
       "      <td>6.000000</td>\n",
       "    </tr>\n",
       "    <tr>\n",
       "      <th>mean</th>\n",
       "      <td>0.015270</td>\n",
       "      <td>0.494647</td>\n",
       "      <td>0.299105</td>\n",
       "      <td>-0.044947</td>\n",
       "    </tr>\n",
       "    <tr>\n",
       "      <th>std</th>\n",
       "      <td>0.910959</td>\n",
       "      <td>0.813678</td>\n",
       "      <td>0.517880</td>\n",
       "      <td>1.507248</td>\n",
       "    </tr>\n",
       "    <tr>\n",
       "      <th>min</th>\n",
       "      <td>-1.229200</td>\n",
       "      <td>-0.241869</td>\n",
       "      <td>-0.528308</td>\n",
       "      <td>-1.678157</td>\n",
       "    </tr>\n",
       "    <tr>\n",
       "      <th>25%</th>\n",
       "      <td>-0.688717</td>\n",
       "      <td>-0.106072</td>\n",
       "      <td>0.148169</td>\n",
       "      <td>-0.907897</td>\n",
       "    </tr>\n",
       "    <tr>\n",
       "      <th>50%</th>\n",
       "      <td>0.298857</td>\n",
       "      <td>0.317583</td>\n",
       "      <td>0.304540</td>\n",
       "      <td>-0.572507</td>\n",
       "    </tr>\n",
       "    <tr>\n",
       "      <th>75%</th>\n",
       "      <td>0.604683</td>\n",
       "      <td>0.750389</td>\n",
       "      <td>0.518787</td>\n",
       "      <td>0.829008</td>\n",
       "    </tr>\n",
       "    <tr>\n",
       "      <th>max</th>\n",
       "      <td>1.034388</td>\n",
       "      <td>1.927217</td>\n",
       "      <td>1.027610</td>\n",
       "      <td>2.276999</td>\n",
       "    </tr>\n",
       "  </tbody>\n",
       "</table>\n",
       "</div>"
      ],
      "text/plain": [
       "              A         B         C         D\n",
       "count  6.000000  6.000000  6.000000  6.000000\n",
       "mean   0.015270  0.494647  0.299105 -0.044947\n",
       "std    0.910959  0.813678  0.517880  1.507248\n",
       "min   -1.229200 -0.241869 -0.528308 -1.678157\n",
       "25%   -0.688717 -0.106072  0.148169 -0.907897\n",
       "50%    0.298857  0.317583  0.304540 -0.572507\n",
       "75%    0.604683  0.750389  0.518787  0.829008\n",
       "max    1.034388  1.927217  1.027610  2.276999"
      ]
     },
     "execution_count": 24,
     "metadata": {},
     "output_type": "execute_result"
    }
   ],
   "source": [
    "df.describe()"
   ]
  },
  {
   "cell_type": "code",
   "execution_count": 25,
   "id": "1f873eac-6d65-4bad-ace1-b4adb9e4e4ec",
   "metadata": {},
   "outputs": [
    {
     "data": {
      "text/html": [
       "<div>\n",
       "<style scoped>\n",
       "    .dataframe tbody tr th:only-of-type {\n",
       "        vertical-align: middle;\n",
       "    }\n",
       "\n",
       "    .dataframe tbody tr th {\n",
       "        vertical-align: top;\n",
       "    }\n",
       "\n",
       "    .dataframe thead th {\n",
       "        text-align: right;\n",
       "    }\n",
       "</style>\n",
       "<table border=\"1\" class=\"dataframe\">\n",
       "  <thead>\n",
       "    <tr style=\"text-align: right;\">\n",
       "      <th></th>\n",
       "      <th>2013-01-01</th>\n",
       "      <th>2013-01-02</th>\n",
       "      <th>2013-01-03</th>\n",
       "      <th>2013-01-04</th>\n",
       "      <th>2013-01-05</th>\n",
       "      <th>2013-01-06</th>\n",
       "    </tr>\n",
       "  </thead>\n",
       "  <tbody>\n",
       "    <tr>\n",
       "      <th>A</th>\n",
       "      <td>0.601775</td>\n",
       "      <td>0.605653</td>\n",
       "      <td>1.034388</td>\n",
       "      <td>-1.229200</td>\n",
       "      <td>-0.916935</td>\n",
       "      <td>-0.004060</td>\n",
       "    </tr>\n",
       "    <tr>\n",
       "      <th>B</th>\n",
       "      <td>1.927217</td>\n",
       "      <td>0.087549</td>\n",
       "      <td>0.817980</td>\n",
       "      <td>-0.170612</td>\n",
       "      <td>0.547617</td>\n",
       "      <td>-0.241869</td>\n",
       "    </tr>\n",
       "    <tr>\n",
       "      <th>C</th>\n",
       "      <td>-0.528308</td>\n",
       "      <td>0.096415</td>\n",
       "      <td>0.589834</td>\n",
       "      <td>0.303431</td>\n",
       "      <td>0.305648</td>\n",
       "      <td>1.027610</td>\n",
       "    </tr>\n",
       "    <tr>\n",
       "      <th>D</th>\n",
       "      <td>-0.575904</td>\n",
       "      <td>-1.678157</td>\n",
       "      <td>-1.018562</td>\n",
       "      <td>-0.569110</td>\n",
       "      <td>1.295048</td>\n",
       "      <td>2.276999</td>\n",
       "    </tr>\n",
       "  </tbody>\n",
       "</table>\n",
       "</div>"
      ],
      "text/plain": [
       "   2013-01-01  2013-01-02  2013-01-03  2013-01-04  2013-01-05  2013-01-06\n",
       "A    0.601775    0.605653    1.034388   -1.229200   -0.916935   -0.004060\n",
       "B    1.927217    0.087549    0.817980   -0.170612    0.547617   -0.241869\n",
       "C   -0.528308    0.096415    0.589834    0.303431    0.305648    1.027610\n",
       "D   -0.575904   -1.678157   -1.018562   -0.569110    1.295048    2.276999"
      ]
     },
     "execution_count": 25,
     "metadata": {},
     "output_type": "execute_result"
    }
   ],
   "source": [
    "df.T"
   ]
  },
  {
   "cell_type": "code",
   "execution_count": 26,
   "id": "1b3ca2b9-789f-493c-8097-86fdbd71c855",
   "metadata": {},
   "outputs": [
    {
     "data": {
      "text/html": [
       "<div>\n",
       "<style scoped>\n",
       "    .dataframe tbody tr th:only-of-type {\n",
       "        vertical-align: middle;\n",
       "    }\n",
       "\n",
       "    .dataframe tbody tr th {\n",
       "        vertical-align: top;\n",
       "    }\n",
       "\n",
       "    .dataframe thead th {\n",
       "        text-align: right;\n",
       "    }\n",
       "</style>\n",
       "<table border=\"1\" class=\"dataframe\">\n",
       "  <thead>\n",
       "    <tr style=\"text-align: right;\">\n",
       "      <th></th>\n",
       "      <th>D</th>\n",
       "      <th>C</th>\n",
       "      <th>B</th>\n",
       "      <th>A</th>\n",
       "    </tr>\n",
       "  </thead>\n",
       "  <tbody>\n",
       "    <tr>\n",
       "      <th>2013-01-01</th>\n",
       "      <td>-0.575904</td>\n",
       "      <td>-0.528308</td>\n",
       "      <td>1.927217</td>\n",
       "      <td>0.601775</td>\n",
       "    </tr>\n",
       "    <tr>\n",
       "      <th>2013-01-02</th>\n",
       "      <td>-1.678157</td>\n",
       "      <td>0.096415</td>\n",
       "      <td>0.087549</td>\n",
       "      <td>0.605653</td>\n",
       "    </tr>\n",
       "    <tr>\n",
       "      <th>2013-01-03</th>\n",
       "      <td>-1.018562</td>\n",
       "      <td>0.589834</td>\n",
       "      <td>0.817980</td>\n",
       "      <td>1.034388</td>\n",
       "    </tr>\n",
       "    <tr>\n",
       "      <th>2013-01-04</th>\n",
       "      <td>-0.569110</td>\n",
       "      <td>0.303431</td>\n",
       "      <td>-0.170612</td>\n",
       "      <td>-1.229200</td>\n",
       "    </tr>\n",
       "    <tr>\n",
       "      <th>2013-01-05</th>\n",
       "      <td>1.295048</td>\n",
       "      <td>0.305648</td>\n",
       "      <td>0.547617</td>\n",
       "      <td>-0.916935</td>\n",
       "    </tr>\n",
       "    <tr>\n",
       "      <th>2013-01-06</th>\n",
       "      <td>2.276999</td>\n",
       "      <td>1.027610</td>\n",
       "      <td>-0.241869</td>\n",
       "      <td>-0.004060</td>\n",
       "    </tr>\n",
       "  </tbody>\n",
       "</table>\n",
       "</div>"
      ],
      "text/plain": [
       "                   D         C         B         A\n",
       "2013-01-01 -0.575904 -0.528308  1.927217  0.601775\n",
       "2013-01-02 -1.678157  0.096415  0.087549  0.605653\n",
       "2013-01-03 -1.018562  0.589834  0.817980  1.034388\n",
       "2013-01-04 -0.569110  0.303431 -0.170612 -1.229200\n",
       "2013-01-05  1.295048  0.305648  0.547617 -0.916935\n",
       "2013-01-06  2.276999  1.027610 -0.241869 -0.004060"
      ]
     },
     "execution_count": 26,
     "metadata": {},
     "output_type": "execute_result"
    }
   ],
   "source": [
    "df.sort_index(axis=1, ascending=False)"
   ]
  },
  {
   "cell_type": "code",
   "execution_count": 27,
   "id": "0e8c76e2-b7ff-412b-9ebe-547e7d917810",
   "metadata": {},
   "outputs": [
    {
     "data": {
      "text/html": [
       "<div>\n",
       "<style scoped>\n",
       "    .dataframe tbody tr th:only-of-type {\n",
       "        vertical-align: middle;\n",
       "    }\n",
       "\n",
       "    .dataframe tbody tr th {\n",
       "        vertical-align: top;\n",
       "    }\n",
       "\n",
       "    .dataframe thead th {\n",
       "        text-align: right;\n",
       "    }\n",
       "</style>\n",
       "<table border=\"1\" class=\"dataframe\">\n",
       "  <thead>\n",
       "    <tr style=\"text-align: right;\">\n",
       "      <th></th>\n",
       "      <th>A</th>\n",
       "      <th>B</th>\n",
       "      <th>C</th>\n",
       "      <th>D</th>\n",
       "    </tr>\n",
       "  </thead>\n",
       "  <tbody>\n",
       "    <tr>\n",
       "      <th>2013-01-06</th>\n",
       "      <td>-0.004060</td>\n",
       "      <td>-0.241869</td>\n",
       "      <td>1.027610</td>\n",
       "      <td>2.276999</td>\n",
       "    </tr>\n",
       "    <tr>\n",
       "      <th>2013-01-04</th>\n",
       "      <td>-1.229200</td>\n",
       "      <td>-0.170612</td>\n",
       "      <td>0.303431</td>\n",
       "      <td>-0.569110</td>\n",
       "    </tr>\n",
       "    <tr>\n",
       "      <th>2013-01-02</th>\n",
       "      <td>0.605653</td>\n",
       "      <td>0.087549</td>\n",
       "      <td>0.096415</td>\n",
       "      <td>-1.678157</td>\n",
       "    </tr>\n",
       "    <tr>\n",
       "      <th>2013-01-05</th>\n",
       "      <td>-0.916935</td>\n",
       "      <td>0.547617</td>\n",
       "      <td>0.305648</td>\n",
       "      <td>1.295048</td>\n",
       "    </tr>\n",
       "    <tr>\n",
       "      <th>2013-01-03</th>\n",
       "      <td>1.034388</td>\n",
       "      <td>0.817980</td>\n",
       "      <td>0.589834</td>\n",
       "      <td>-1.018562</td>\n",
       "    </tr>\n",
       "    <tr>\n",
       "      <th>2013-01-01</th>\n",
       "      <td>0.601775</td>\n",
       "      <td>1.927217</td>\n",
       "      <td>-0.528308</td>\n",
       "      <td>-0.575904</td>\n",
       "    </tr>\n",
       "  </tbody>\n",
       "</table>\n",
       "</div>"
      ],
      "text/plain": [
       "                   A         B         C         D\n",
       "2013-01-06 -0.004060 -0.241869  1.027610  2.276999\n",
       "2013-01-04 -1.229200 -0.170612  0.303431 -0.569110\n",
       "2013-01-02  0.605653  0.087549  0.096415 -1.678157\n",
       "2013-01-05 -0.916935  0.547617  0.305648  1.295048\n",
       "2013-01-03  1.034388  0.817980  0.589834 -1.018562\n",
       "2013-01-01  0.601775  1.927217 -0.528308 -0.575904"
      ]
     },
     "execution_count": 27,
     "metadata": {},
     "output_type": "execute_result"
    }
   ],
   "source": [
    "df.sort_values(by=\"B\")"
   ]
  },
  {
   "cell_type": "code",
   "execution_count": 28,
   "id": "6561112b-a67b-4ed1-b98e-bd8742ac8885",
   "metadata": {},
   "outputs": [
    {
     "data": {
      "text/plain": [
       "2013-01-01    0.601775\n",
       "2013-01-02    0.605653\n",
       "2013-01-03    1.034388\n",
       "2013-01-04   -1.229200\n",
       "2013-01-05   -0.916935\n",
       "2013-01-06   -0.004060\n",
       "Freq: D, Name: A, dtype: float64"
      ]
     },
     "execution_count": 28,
     "metadata": {},
     "output_type": "execute_result"
    }
   ],
   "source": [
    "df[\"A\"]"
   ]
  },
  {
   "cell_type": "code",
   "execution_count": 29,
   "id": "83d52fe3-6c4c-4d9b-bfac-f14b9d2cb191",
   "metadata": {},
   "outputs": [
    {
     "data": {
      "text/html": [
       "<div>\n",
       "<style scoped>\n",
       "    .dataframe tbody tr th:only-of-type {\n",
       "        vertical-align: middle;\n",
       "    }\n",
       "\n",
       "    .dataframe tbody tr th {\n",
       "        vertical-align: top;\n",
       "    }\n",
       "\n",
       "    .dataframe thead th {\n",
       "        text-align: right;\n",
       "    }\n",
       "</style>\n",
       "<table border=\"1\" class=\"dataframe\">\n",
       "  <thead>\n",
       "    <tr style=\"text-align: right;\">\n",
       "      <th></th>\n",
       "      <th>A</th>\n",
       "      <th>B</th>\n",
       "      <th>C</th>\n",
       "      <th>D</th>\n",
       "    </tr>\n",
       "  </thead>\n",
       "  <tbody>\n",
       "    <tr>\n",
       "      <th>2013-01-01</th>\n",
       "      <td>0.601775</td>\n",
       "      <td>1.927217</td>\n",
       "      <td>-0.528308</td>\n",
       "      <td>-0.575904</td>\n",
       "    </tr>\n",
       "    <tr>\n",
       "      <th>2013-01-02</th>\n",
       "      <td>0.605653</td>\n",
       "      <td>0.087549</td>\n",
       "      <td>0.096415</td>\n",
       "      <td>-1.678157</td>\n",
       "    </tr>\n",
       "    <tr>\n",
       "      <th>2013-01-03</th>\n",
       "      <td>1.034388</td>\n",
       "      <td>0.817980</td>\n",
       "      <td>0.589834</td>\n",
       "      <td>-1.018562</td>\n",
       "    </tr>\n",
       "  </tbody>\n",
       "</table>\n",
       "</div>"
      ],
      "text/plain": [
       "                   A         B         C         D\n",
       "2013-01-01  0.601775  1.927217 -0.528308 -0.575904\n",
       "2013-01-02  0.605653  0.087549  0.096415 -1.678157\n",
       "2013-01-03  1.034388  0.817980  0.589834 -1.018562"
      ]
     },
     "execution_count": 29,
     "metadata": {},
     "output_type": "execute_result"
    }
   ],
   "source": [
    "df[0:3]"
   ]
  },
  {
   "cell_type": "code",
   "execution_count": 31,
   "id": "4c67d12a-4384-419d-908a-7c7b430dcdca",
   "metadata": {},
   "outputs": [
    {
     "data": {
      "text/html": [
       "<div>\n",
       "<style scoped>\n",
       "    .dataframe tbody tr th:only-of-type {\n",
       "        vertical-align: middle;\n",
       "    }\n",
       "\n",
       "    .dataframe tbody tr th {\n",
       "        vertical-align: top;\n",
       "    }\n",
       "\n",
       "    .dataframe thead th {\n",
       "        text-align: right;\n",
       "    }\n",
       "</style>\n",
       "<table border=\"1\" class=\"dataframe\">\n",
       "  <thead>\n",
       "    <tr style=\"text-align: right;\">\n",
       "      <th></th>\n",
       "      <th>A</th>\n",
       "      <th>B</th>\n",
       "      <th>C</th>\n",
       "      <th>D</th>\n",
       "    </tr>\n",
       "  </thead>\n",
       "  <tbody>\n",
       "    <tr>\n",
       "      <th>2013-01-02</th>\n",
       "      <td>0.605653</td>\n",
       "      <td>0.087549</td>\n",
       "      <td>0.096415</td>\n",
       "      <td>-1.678157</td>\n",
       "    </tr>\n",
       "    <tr>\n",
       "      <th>2013-01-03</th>\n",
       "      <td>1.034388</td>\n",
       "      <td>0.817980</td>\n",
       "      <td>0.589834</td>\n",
       "      <td>-1.018562</td>\n",
       "    </tr>\n",
       "    <tr>\n",
       "      <th>2013-01-04</th>\n",
       "      <td>-1.229200</td>\n",
       "      <td>-0.170612</td>\n",
       "      <td>0.303431</td>\n",
       "      <td>-0.569110</td>\n",
       "    </tr>\n",
       "  </tbody>\n",
       "</table>\n",
       "</div>"
      ],
      "text/plain": [
       "                   A         B         C         D\n",
       "2013-01-02  0.605653  0.087549  0.096415 -1.678157\n",
       "2013-01-03  1.034388  0.817980  0.589834 -1.018562\n",
       "2013-01-04 -1.229200 -0.170612  0.303431 -0.569110"
      ]
     },
     "execution_count": 31,
     "metadata": {},
     "output_type": "execute_result"
    }
   ],
   "source": [
    "df[\"20130102\":\"20130104\"]"
   ]
  },
  {
   "cell_type": "code",
   "execution_count": 32,
   "id": "06fefd8a-7c96-4b05-ac78-fd043f804561",
   "metadata": {},
   "outputs": [
    {
     "data": {
      "text/plain": [
       "A    0.601775\n",
       "B    1.927217\n",
       "C   -0.528308\n",
       "D   -0.575904\n",
       "Name: 2013-01-01 00:00:00, dtype: float64"
      ]
     },
     "execution_count": 32,
     "metadata": {},
     "output_type": "execute_result"
    }
   ],
   "source": [
    "df.loc[dates[0]]"
   ]
  },
  {
   "cell_type": "code",
   "execution_count": 33,
   "id": "3893a6bf-38a7-4b0b-88b9-714b12f82e80",
   "metadata": {},
   "outputs": [
    {
     "data": {
      "text/html": [
       "<div>\n",
       "<style scoped>\n",
       "    .dataframe tbody tr th:only-of-type {\n",
       "        vertical-align: middle;\n",
       "    }\n",
       "\n",
       "    .dataframe tbody tr th {\n",
       "        vertical-align: top;\n",
       "    }\n",
       "\n",
       "    .dataframe thead th {\n",
       "        text-align: right;\n",
       "    }\n",
       "</style>\n",
       "<table border=\"1\" class=\"dataframe\">\n",
       "  <thead>\n",
       "    <tr style=\"text-align: right;\">\n",
       "      <th></th>\n",
       "      <th>A</th>\n",
       "      <th>B</th>\n",
       "    </tr>\n",
       "  </thead>\n",
       "  <tbody>\n",
       "    <tr>\n",
       "      <th>2013-01-01</th>\n",
       "      <td>0.601775</td>\n",
       "      <td>1.927217</td>\n",
       "    </tr>\n",
       "    <tr>\n",
       "      <th>2013-01-02</th>\n",
       "      <td>0.605653</td>\n",
       "      <td>0.087549</td>\n",
       "    </tr>\n",
       "    <tr>\n",
       "      <th>2013-01-03</th>\n",
       "      <td>1.034388</td>\n",
       "      <td>0.817980</td>\n",
       "    </tr>\n",
       "    <tr>\n",
       "      <th>2013-01-04</th>\n",
       "      <td>-1.229200</td>\n",
       "      <td>-0.170612</td>\n",
       "    </tr>\n",
       "    <tr>\n",
       "      <th>2013-01-05</th>\n",
       "      <td>-0.916935</td>\n",
       "      <td>0.547617</td>\n",
       "    </tr>\n",
       "    <tr>\n",
       "      <th>2013-01-06</th>\n",
       "      <td>-0.004060</td>\n",
       "      <td>-0.241869</td>\n",
       "    </tr>\n",
       "  </tbody>\n",
       "</table>\n",
       "</div>"
      ],
      "text/plain": [
       "                   A         B\n",
       "2013-01-01  0.601775  1.927217\n",
       "2013-01-02  0.605653  0.087549\n",
       "2013-01-03  1.034388  0.817980\n",
       "2013-01-04 -1.229200 -0.170612\n",
       "2013-01-05 -0.916935  0.547617\n",
       "2013-01-06 -0.004060 -0.241869"
      ]
     },
     "execution_count": 33,
     "metadata": {},
     "output_type": "execute_result"
    }
   ],
   "source": [
    "df.loc[:,[\"A\",\"B\"]]"
   ]
  },
  {
   "cell_type": "code",
   "execution_count": 34,
   "id": "55447634-e132-4cbf-8c08-c8ee8caf6e66",
   "metadata": {},
   "outputs": [
    {
     "data": {
      "text/html": [
       "<div>\n",
       "<style scoped>\n",
       "    .dataframe tbody tr th:only-of-type {\n",
       "        vertical-align: middle;\n",
       "    }\n",
       "\n",
       "    .dataframe tbody tr th {\n",
       "        vertical-align: top;\n",
       "    }\n",
       "\n",
       "    .dataframe thead th {\n",
       "        text-align: right;\n",
       "    }\n",
       "</style>\n",
       "<table border=\"1\" class=\"dataframe\">\n",
       "  <thead>\n",
       "    <tr style=\"text-align: right;\">\n",
       "      <th></th>\n",
       "      <th>A</th>\n",
       "      <th>B</th>\n",
       "      <th>C</th>\n",
       "      <th>D</th>\n",
       "    </tr>\n",
       "  </thead>\n",
       "  <tbody>\n",
       "    <tr>\n",
       "      <th>2013-01-01</th>\n",
       "      <td>0.601775</td>\n",
       "      <td>1.927217</td>\n",
       "      <td>-0.528308</td>\n",
       "      <td>-0.575904</td>\n",
       "    </tr>\n",
       "    <tr>\n",
       "      <th>2013-01-02</th>\n",
       "      <td>0.605653</td>\n",
       "      <td>0.087549</td>\n",
       "      <td>0.096415</td>\n",
       "      <td>-1.678157</td>\n",
       "    </tr>\n",
       "    <tr>\n",
       "      <th>2013-01-03</th>\n",
       "      <td>1.034388</td>\n",
       "      <td>0.817980</td>\n",
       "      <td>0.589834</td>\n",
       "      <td>-1.018562</td>\n",
       "    </tr>\n",
       "    <tr>\n",
       "      <th>2013-01-04</th>\n",
       "      <td>-1.229200</td>\n",
       "      <td>-0.170612</td>\n",
       "      <td>0.303431</td>\n",
       "      <td>-0.569110</td>\n",
       "    </tr>\n",
       "    <tr>\n",
       "      <th>2013-01-05</th>\n",
       "      <td>-0.916935</td>\n",
       "      <td>0.547617</td>\n",
       "      <td>0.305648</td>\n",
       "      <td>1.295048</td>\n",
       "    </tr>\n",
       "    <tr>\n",
       "      <th>2013-01-06</th>\n",
       "      <td>-0.004060</td>\n",
       "      <td>-0.241869</td>\n",
       "      <td>1.027610</td>\n",
       "      <td>2.276999</td>\n",
       "    </tr>\n",
       "  </tbody>\n",
       "</table>\n",
       "</div>"
      ],
      "text/plain": [
       "                   A         B         C         D\n",
       "2013-01-01  0.601775  1.927217 -0.528308 -0.575904\n",
       "2013-01-02  0.605653  0.087549  0.096415 -1.678157\n",
       "2013-01-03  1.034388  0.817980  0.589834 -1.018562\n",
       "2013-01-04 -1.229200 -0.170612  0.303431 -0.569110\n",
       "2013-01-05 -0.916935  0.547617  0.305648  1.295048\n",
       "2013-01-06 -0.004060 -0.241869  1.027610  2.276999"
      ]
     },
     "execution_count": 34,
     "metadata": {},
     "output_type": "execute_result"
    }
   ],
   "source": [
    "df"
   ]
  },
  {
   "cell_type": "code",
   "execution_count": 35,
   "id": "fa6b9bad-9d0a-4072-91ac-65b3a40bfff6",
   "metadata": {},
   "outputs": [],
   "source": [
    "rng = pd.date_range(\"1/1/2012\", periods=100, freq=\"S\")"
   ]
  },
  {
   "cell_type": "code",
   "execution_count": 36,
   "id": "9f4f9ffa-fb45-41a7-b59c-dbae0b8d3a47",
   "metadata": {},
   "outputs": [],
   "source": [
    "ts = pd.Series(np.random.randint(0, 500, len(rng)), index=rng)"
   ]
  },
  {
   "cell_type": "code",
   "execution_count": 37,
   "id": "904a3fbc-2ead-4dab-8176-408159fcfa76",
   "metadata": {},
   "outputs": [
    {
     "data": {
      "text/plain": [
       "2012-01-01    24617\n",
       "Freq: 5T, dtype: int64"
      ]
     },
     "execution_count": 37,
     "metadata": {},
     "output_type": "execute_result"
    }
   ],
   "source": [
    "ts.resample(\"5Min\").sum()"
   ]
  },
  {
   "cell_type": "code",
   "execution_count": 38,
   "id": "c912ebcc-86eb-489f-81f1-23212fd20413",
   "metadata": {},
   "outputs": [],
   "source": [
    "rng = pd.date_range(\"3/6/2012 00:00\", periods=5, freq=\"D\")"
   ]
  },
  {
   "cell_type": "code",
   "execution_count": 39,
   "id": "fd2d0cf4-ae1c-4564-aafa-2ae8c73b4193",
   "metadata": {},
   "outputs": [],
   "source": [
    "ts = pd.Series(np.random.randn(len(rng)), rng)"
   ]
  },
  {
   "cell_type": "code",
   "execution_count": 40,
   "id": "7b14473c-0e13-4ccb-a05f-f75ca25233df",
   "metadata": {},
   "outputs": [
    {
     "data": {
      "text/plain": [
       "2012-03-06    0.499942\n",
       "2012-03-07   -0.843190\n",
       "2012-03-08   -0.806787\n",
       "2012-03-09   -0.531232\n",
       "2012-03-10    0.837395\n",
       "Freq: D, dtype: float64"
      ]
     },
     "execution_count": 40,
     "metadata": {},
     "output_type": "execute_result"
    }
   ],
   "source": [
    "ts"
   ]
  },
  {
   "cell_type": "code",
   "execution_count": 41,
   "id": "67c1a25d-0492-4ffe-b1cd-b99a506236ab",
   "metadata": {},
   "outputs": [],
   "source": [
    "ts_utc = ts.tz_localize(\"UTC\")"
   ]
  },
  {
   "cell_type": "code",
   "execution_count": 42,
   "id": "b6ea0206-2c56-4151-8e0f-10fbcbd122d7",
   "metadata": {},
   "outputs": [
    {
     "data": {
      "text/plain": [
       "2012-03-06 00:00:00+00:00    0.499942\n",
       "2012-03-07 00:00:00+00:00   -0.843190\n",
       "2012-03-08 00:00:00+00:00   -0.806787\n",
       "2012-03-09 00:00:00+00:00   -0.531232\n",
       "2012-03-10 00:00:00+00:00    0.837395\n",
       "Freq: D, dtype: float64"
      ]
     },
     "execution_count": 42,
     "metadata": {},
     "output_type": "execute_result"
    }
   ],
   "source": [
    "ts_utc"
   ]
  },
  {
   "cell_type": "code",
   "execution_count": 43,
   "id": "3648c536-ad40-46c1-aa87-9f8ab44cab74",
   "metadata": {},
   "outputs": [
    {
     "data": {
      "text/plain": [
       "2012-03-05 19:00:00-05:00    0.499942\n",
       "2012-03-06 19:00:00-05:00   -0.843190\n",
       "2012-03-07 19:00:00-05:00   -0.806787\n",
       "2012-03-08 19:00:00-05:00   -0.531232\n",
       "2012-03-09 19:00:00-05:00    0.837395\n",
       "Freq: D, dtype: float64"
      ]
     },
     "execution_count": 43,
     "metadata": {},
     "output_type": "execute_result"
    }
   ],
   "source": [
    "ts_utc.tz_convert(\"US/Eastern\")"
   ]
  },
  {
   "cell_type": "code",
   "execution_count": 48,
   "id": "69dac4fc-37ac-4588-b765-0dfded7340c1",
   "metadata": {},
   "outputs": [
    {
     "data": {
      "text/plain": [
       "2012-01-31   -1.239963\n",
       "2012-02-29    0.692401\n",
       "2012-03-31    0.845338\n",
       "2012-04-30   -0.692898\n",
       "2012-05-31    1.317604\n",
       "Freq: M, dtype: float64"
      ]
     },
     "execution_count": 48,
     "metadata": {},
     "output_type": "execute_result"
    }
   ],
   "source": [
    "rng = pd.date_range(\"1/1/2012\", periods=5, freq=\"M\")\n",
    "ts = pd.Series(np.random.randn(len(rng)), index=rng)\n",
    "ts"
   ]
  },
  {
   "cell_type": "code",
   "execution_count": 51,
   "id": "3908e753-b894-4cc0-822d-d2fafadf22d0",
   "metadata": {},
   "outputs": [
    {
     "data": {
      "text/plain": [
       "<bound method NDFrame.to_csv of 2012-01-31   -1.239963\n",
       "2012-02-29    0.692401\n",
       "2012-03-31    0.845338\n",
       "2012-04-30   -0.692898\n",
       "2012-05-31    1.317604\n",
       "Freq: M, dtype: float64>"
      ]
     },
     "execution_count": 51,
     "metadata": {},
     "output_type": "execute_result"
    }
   ],
   "source": [
    "ts.to_csv"
   ]
  },
  {
   "cell_type": "code",
   "execution_count": null,
   "id": "674b3f4d-5144-4a17-9c10-c29eff86db72",
   "metadata": {},
   "outputs": [],
   "source": []
  }
 ],
 "metadata": {
  "kernelspec": {
   "display_name": "Python 3 (ipykernel)",
   "language": "python",
   "name": "python3"
  },
  "language_info": {
   "codemirror_mode": {
    "name": "ipython",
    "version": 3
   },
   "file_extension": ".py",
   "mimetype": "text/x-python",
   "name": "python",
   "nbconvert_exporter": "python",
   "pygments_lexer": "ipython3",
   "version": "3.9.7"
  }
 },
 "nbformat": 4,
 "nbformat_minor": 5
}
