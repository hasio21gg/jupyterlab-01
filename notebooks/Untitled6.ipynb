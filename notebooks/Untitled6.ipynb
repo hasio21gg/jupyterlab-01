{
 "cells": [
  {
   "cell_type": "code",
   "execution_count": 1,
   "id": "0ecc10d5-7155-4069-b29a-dafaa8fe2337",
   "metadata": {},
   "outputs": [],
   "source": [
    "import random\n",
    "\n",
    "class Board:\n",
    "    def __init__(self):\n",
    "        self.position = {}\n",
    "        self.playBoard = [\n",
    "            [0,0,0,0,0],\n",
    "            [0,0,0,0,0],\n",
    "            [0,0,0,0,0],\n",
    "            [0,0,0,0,0],\n",
    "            [0,0,0,0,0],\n",
    "        ]\n",
    "        self.bingo = {\n",
    "            \"row\" : [0,0,0,0,0],\n",
    "            \"col\" : [0,0,0,0,0],\n",
    "            \"diagonal\" : [0,0]\n",
    "        }\n",
    "\n",
    "        self.createBoard()\n",
    "\n",
    "    def createBoard(self):\n",
    "        choices = [i for i in range(1,26)]\n",
    "        for i in range(5):\n",
    "            for j in range(5):\n",
    "                choice = random.choice(choices)\n",
    "                self.playBoard[i][j] = choice\n",
    "                choices.pop(choices.index(choice))\n",
    "                self.position[choice] = (i,j)\n",
    "    \n",
    "    def updateBoard(self, val):\n",
    "        x,y = self.position[val]\n",
    "        self.playBoard[x][y] = 'X'\n",
    "        self.updateBingo(x,y)\n",
    "    \n",
    "    def updateBingo(self, x, y):\n",
    "        self.bingo[\"row\"][x] += 1\n",
    "        self.bingo[\"col\"][y] += 1\n",
    "        if x==y==2:\n",
    "            self.bingo[\"diagonal\"][0] += 1\n",
    "            self.bingo[\"diagonal\"][1] += 1\n",
    "        elif x==y:\n",
    "            self.bingo[\"diagonal\"][0] += 1\n",
    "        elif x+y == 4:\n",
    "            self.bingo[\"diagonal\"][1] += 1\n",
    "    \n",
    "    def checkBingo(self):\n",
    "        return 5 in self.bingo[\"row\"] or 5 in self.bingo[\"col\"] or 5 in self.bingo[\"diagonal\"]"
   ]
  },
  {
   "cell_type": "code",
   "execution_count": 2,
   "id": "0d4c01a3-dfb2-45ce-aec1-2c85d36ee421",
   "metadata": {},
   "outputs": [],
   "source": [
    "class Player(Board):\n",
    "    def __init__(self, name):\n",
    "        self.name = name\n",
    "        self.board = Board()\n",
    "    \n",
    "    def updatePlayerBoard(self, val):\n",
    "        self.board.updateBoard(val)\n",
    "    \n",
    "    def checkBingo(self):\n",
    "        return self.board.checkBingo()"
   ]
  },
  {
   "cell_type": "code",
   "execution_count": 3,
   "id": "b54e252d-d0e4-4e6b-b5ec-31db89d4ca8e",
   "metadata": {},
   "outputs": [],
   "source": [
    "class Game:\n",
    "    def displayBoard(self, player1, player2):\n",
    "        board1 = player1.board.playBoard\n",
    "        board2 = player2.board.playBoard\n",
    "        size = 20\n",
    "        p1len = len(player1.name)\n",
    "        print(player1.name+\" \"*(size-p1len+1)+player2.name)\n",
    "        for i in range(5):\n",
    "            for j in board1[i]:\n",
    "                if j=='X':\n",
    "                    print(f\" {j}\",end=\" \")\n",
    "                elif j>9:\n",
    "                    print(j,end=\" \")\n",
    "                else:\n",
    "                    print(f\"0{j}\",end=\" \")\n",
    "            print(\"      \",end=\"\")\n",
    "            for j in board2[i]:\n",
    "                if j=='X':\n",
    "                    print(f\" {j}\",end=\" \")\n",
    "                elif j>9:\n",
    "                    print(j,end=\" \")\n",
    "                else:\n",
    "                    print(f\"0{j}\",end=\" \")\n",
    "            print()\n",
    "        print()"
   ]
  },
  {
   "cell_type": "code",
   "execution_count": 4,
   "id": "c3b383e6-13b9-4109-b083-c240016ebef4",
   "metadata": {},
   "outputs": [],
   "source": [
    "game = Game()\n",
    "player1 = Player(name=\"player1\")\n",
    "player2 = Player(name=\"player2\")"
   ]
  },
  {
   "cell_type": "code",
   "execution_count": null,
   "id": "4b3d2f0b-3f6e-4624-9836-66a3befd4309",
   "metadata": {},
   "outputs": [
    {
     "name": "stdout",
     "output_type": "stream",
     "text": [
      "player1              player2\n",
      "11 04 01 08 02       19 03 21 08 22 \n",
      "14 21 18 09 10       07 04 15 10 23 \n",
      "07 17 20 24 23       24 02 14 16 25 \n",
      "15 12 25 13 06       20 13 09 17 06 \n",
      "05 22 16 03 19       01 11 05 12 18 \n",
      "\n"
     ]
    },
    {
     "name": "stdin",
     "output_type": "stream",
     "text": [
      "player1's turn :  1\n"
     ]
    },
    {
     "name": "stdout",
     "output_type": "stream",
     "text": [
      "player1              player2\n",
      "11 04  X 08 02       19 03 21 08 22 \n",
      "14 21 18 09 10       07 04 15 10 23 \n",
      "07 17 20 24 23       24 02 14 16 25 \n",
      "15 12 25 13 06       20 13 09 17 06 \n",
      "05 22 16 03 19        X 11 05 12 18 \n",
      "\n"
     ]
    },
    {
     "name": "stdin",
     "output_type": "stream",
     "text": [
      "player1's turn :  2\n"
     ]
    },
    {
     "name": "stdout",
     "output_type": "stream",
     "text": [
      "player1              player2\n",
      "11 04  X 08  X       19 03 21 08 22 \n",
      "14 21 18 09 10       07 04 15 10 23 \n",
      "07 17 20 24 23       24  X 14 16 25 \n",
      "15 12 25 13 06       20 13 09 17 06 \n",
      "05 22 16 03 19        X 11 05 12 18 \n",
      "\n"
     ]
    },
    {
     "name": "stdin",
     "output_type": "stream",
     "text": [
      "player1's turn :  3\n"
     ]
    },
    {
     "name": "stdout",
     "output_type": "stream",
     "text": [
      "player1              player2\n",
      "11 04  X 08  X       19  X 21 08 22 \n",
      "14 21 18 09 10       07 04 15 10 23 \n",
      "07 17 20 24 23       24  X 14 16 25 \n",
      "15 12 25 13 06       20 13 09 17 06 \n",
      "05 22 16  X 19        X 11 05 12 18 \n",
      "\n"
     ]
    },
    {
     "name": "stdin",
     "output_type": "stream",
     "text": [
      "player1's turn :  4\n"
     ]
    },
    {
     "name": "stdout",
     "output_type": "stream",
     "text": [
      "player1              player2\n",
      "11  X  X 08  X       19  X 21 08 22 \n",
      "14 21 18 09 10       07  X 15 10 23 \n",
      "07 17 20 24 23       24  X 14 16 25 \n",
      "15 12 25 13 06       20 13 09 17 06 \n",
      "05 22 16  X 19        X 11 05 12 18 \n",
      "\n"
     ]
    },
    {
     "name": "stdin",
     "output_type": "stream",
     "text": [
      "player1's turn :  5\n"
     ]
    },
    {
     "name": "stdout",
     "output_type": "stream",
     "text": [
      "player1              player2\n",
      "11  X  X 08  X       19  X 21 08 22 \n",
      "14 21 18 09 10       07  X 15 10 23 \n",
      "07 17 20 24 23       24  X 14 16 25 \n",
      "15 12 25 13 06       20 13 09 17 06 \n",
      " X 22 16  X 19        X 11  X 12 18 \n",
      "\n"
     ]
    },
    {
     "name": "stdin",
     "output_type": "stream",
     "text": [
      "player1's turn :  6\n"
     ]
    },
    {
     "name": "stdout",
     "output_type": "stream",
     "text": [
      "player1              player2\n",
      "11  X  X 08  X       19  X 21 08 22 \n",
      "14 21 18 09 10       07  X 15 10 23 \n",
      "07 17 20 24 23       24  X 14 16 25 \n",
      "15 12 25 13  X       20 13 09 17  X \n",
      " X 22 16  X 19        X 11  X 12 18 \n",
      "\n"
     ]
    }
   ],
   "source": [
    "game.displayBoard(player1, player2)\n",
    "\n",
    "while True:\n",
    "    val = int(input(f\"{player1.name}'s turn : \"))\n",
    "    player1.updatePlayerBoard(val)\n",
    "    player2.updatePlayerBoard(val)\n",
    "    game.displayBoard(player1,player2)\n",
    "\n",
    "    if player1.checkBingo() and player2.checkBingo():\n",
    "        print(\"DRAW\")\n",
    "        break\n",
    "    if player1.checkBingo():\n",
    "        print(f\"{player1.name} WON\")\n",
    "        break\n",
    "    if player2.checkBingo():\n",
    "        print(f\"{player2.name} WON\")\n",
    "        break\n",
    "    \n",
    "\n",
    "    val = int(input(f\"{player1.name}'s turn : \"))\n",
    "    player1.updatePlayerBoard(val)\n",
    "    player2.updatePlayerBoard(val)\n",
    "    game.displayBoard(player1,player2)\n",
    "\n",
    "    if player1.checkBingo() and player2.checkBingo():\n",
    "        print(\"DRAW\")\n",
    "        break\n",
    "    if player1.checkBingo():\n",
    "        print(f\"{player1.name} WON\")\n",
    "        break\n",
    "    if player2.checkBingo():\n",
    "        print(f\"{player2.name} WON\")\n",
    "        break"
   ]
  },
  {
   "cell_type": "code",
   "execution_count": null,
   "id": "ec27c522-4c49-43aa-bac0-ec494958c72e",
   "metadata": {},
   "outputs": [],
   "source": []
  }
 ],
 "metadata": {
  "kernelspec": {
   "display_name": "Python 3 (ipykernel)",
   "language": "python",
   "name": "python3"
  },
  "language_info": {
   "codemirror_mode": {
    "name": "ipython",
    "version": 3
   },
   "file_extension": ".py",
   "mimetype": "text/x-python",
   "name": "python",
   "nbconvert_exporter": "python",
   "pygments_lexer": "ipython3",
   "version": "3.9.7"
  }
 },
 "nbformat": 4,
 "nbformat_minor": 5
}
