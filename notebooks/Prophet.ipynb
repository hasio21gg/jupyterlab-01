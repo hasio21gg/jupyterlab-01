{
 "cells": [
  {
   "cell_type": "code",
   "execution_count": 2,
   "id": "79c99991-efe8-4be0-9208-11e155e983b9",
   "metadata": {},
   "outputs": [],
   "source": [
    "# ライブラリのimport\n",
    "from matplotlib import pyplot as plt\n",
    "from matplotlib.dates import MonthLocator, num2date\n",
    "from matplotlib.ticker import FuncFormatter\n",
    "from fbprophet import Prophet"
   ]
  },
  {
   "cell_type": "code",
   "execution_count": null,
   "id": "ec34d0d0-a529-497b-b0c5-46cc98f59801",
   "metadata": {},
   "outputs": [],
   "source": []
  }
 ],
 "metadata": {
  "kernelspec": {
   "display_name": "Python 3 (ipykernel)",
   "language": "python",
   "name": "python3"
  },
  "language_info": {
   "codemirror_mode": {
    "name": "ipython",
    "version": 3
   },
   "file_extension": ".py",
   "mimetype": "text/x-python",
   "name": "python",
   "nbconvert_exporter": "python",
   "pygments_lexer": "ipython3",
   "version": "3.9.7"
  }
 },
 "nbformat": 4,
 "nbformat_minor": 5
}
