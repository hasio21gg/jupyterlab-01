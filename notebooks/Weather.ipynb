{
 "cells": [
  {
   "cell_type": "code",
   "execution_count": 27,
   "id": "16311a25-b50a-4d98-a6fa-7910ba845eaa",
   "metadata": {},
   "outputs": [
    {
     "name": "stdout",
     "output_type": "stream",
     "text": [
      "['2020', '2021', '2022']\n"
     ]
    }
   ],
   "source": [
    "import requests\n",
    "from bs4 import BeautifulSoup #ダウンロードしてなかったらpipでできるからやってね。\n",
    "import csv\n",
    "\n",
    "#place_codeA = [44] #都道府県コード\n",
    "#place_codeB = [47662] #地域コード\n",
    "#place_name = [\"東京\"]\n",
    "place_codeA = [55] #都道府県コード\n",
    "place_codeB = [47607] #地域コード\n",
    "place_name = [\"富山\"]\n",
    "#place_codeA = [14, 31, 32, 33, 35, 34, 36, 54, 56, 55, 48, 41, 57, 42, 43, 40, 52, 51, 49, 45, 53, 50, 46, 68, 69, 61, 60, 67, 66, 63, 65, 64, 73, 72, 74, 71, 81, 82, 85, 83, 84, 86, 88, 87, 91, 62, 44]\n",
    "#place_codeB = [47412, 47575, 47582, 47584, 47588, 47590, 47595, 47604, 47605, 47607, 47610, 47615, 47616, 47624, 47626, 47629, 47632, 47636, 47638, 47648, 47651, 47656, 47670, 47741, 47746, 47759, 47761, 47765, 47768, 47770, 47777, 47780, 47887, 47891, 47893, 47895, 47762, 47807, 47813, 47815, 47817, 47819, 47827, 47830, 47936, 47772, 47662]\n",
    "#place_name = [\"札幌\",\"青森\", \"秋田\", \"盛岡\", \"山形\", \"仙台\", \"福島\", \"新潟\", \"金沢\", \"富山\", \"長野\", \"宇都宮\", \"福井\", \"前橋\", \"熊谷\", \"水戸\", \"岐阜\", \"名古屋\", \"甲府\", \"銚子\", \"津\", \"静岡\", \"横浜\", \"松江\", \"鳥取\", \"京都\", \"彦根\", \"広島\", \"岡山\", \"神戸\", \"和歌山\", \"奈良\", \"松山\", \"高松\", \"高知\", \"徳島\", \"下関\", \"福岡\", \"佐賀\", \"大分\", \"長崎\", \"熊本\", \"鹿児島\", \"宮崎\", \"大阪\", \"東京\"]   \n",
    "\n",
    "years = ['2020','2021','2022']\n",
    "print(years)"
   ]
  },
  {
   "cell_type": "code",
   "execution_count": 28,
   "id": "df417f3f-af4e-449b-9f6c-c2b8038c0f27",
   "metadata": {},
   "outputs": [],
   "source": [
    "# URLで年と月ごとの設定ができるので%sで指定した英数字を埋め込めるようにします。\n",
    "base_url = \"http://www.data.jma.go.jp/obd/stats/etrn/view/daily_s1.php?prec_no=%s&block_no=%s&year=%s&month=%s&day=1&view=p1\"\n",
    "\n",
    "#取ったデータをfloat型に変えるやつ。(データが取れなかったとき気象庁は\"/\"を埋め込んでいるから0に変える)\n",
    "def str2float(str):\n",
    "  try:\n",
    "    return float(str)\n",
    "  except:\n",
    "    return 0.0"
   ]
  },
  {
   "cell_type": "code",
   "execution_count": 29,
   "id": "eececf93-de6c-40ef-a72e-8dc1e9adc46a",
   "metadata": {},
   "outputs": [
    {
     "name": "stdout",
     "output_type": "stream",
     "text": [
      "富山\n",
      "2020\n",
      "2021\n",
      "2022\n"
     ]
    }
   ],
   "source": [
    "if __name__ == \"__main__\":\n",
    "  #都市を網羅\n",
    "  for place in place_name:\n",
    "    #最終的にデータを集めるリスト\n",
    "    All_list = [['年月日', '降水量', '気温_平均', '気温_最高', '気温_最低', '湿度_平均', '湿度_最小', '日照時間']]\n",
    "    print(place)\n",
    "    index = place_name.index(place)\n",
    "\n",
    "    # for文で該当期間抽出\n",
    "    for year in years:\n",
    "    #for year in range(2019,2021):\n",
    "      print(year)\n",
    "      # その年の1月～12月の12回を網羅する。\n",
    "      for month in range(1,13):\n",
    "        #2つの都市コードと年と月を当てはめる。\n",
    "        r = requests.get(base_url%(place_codeA[index], place_codeB[index], year, month))\n",
    "        r.encoding = r.apparent_encoding\n",
    "\n",
    "        # サイトごとスクレイピング\n",
    "        soup = BeautifulSoup(r.text)\n",
    "        # findAllで条件に一致するものをすべて抜き出す。\n",
    "        # 今回の条件はtrタグでclassがmtxになっているもの。\n",
    "        rows = soup.findAll('tr',class_='mtx')\n",
    "\n",
    "        # 表の最初の1~4行目はカラム情報なのでスライスする。\n",
    "        rows = rows[4:]\n",
    "\n",
    "        # 1日〜最終日までの１行を取得\n",
    "        for row in rows:\n",
    "          # trのなかのtdをすべて抜き出す\n",
    "          data = row.findAll('td')\n",
    "\n",
    "          #１行の中には様々なデータがあるので全部取り出す。\n",
    "          rowData = [] #初期化\n",
    "          rowData.append(str(year) + \"/\" + str(month) + \"/\" + str(data[0].string))\n",
    "          rowData.append(str2float(data[3].string))\n",
    "          rowData.append(str2float(data[6].string))\n",
    "          rowData.append(str2float(data[7].string))\n",
    "          rowData.append(str2float(data[8].string))\n",
    "          rowData.append(str2float(data[9].string))\n",
    "          rowData.append(str2float(data[10].string))\n",
    "          rowData.append(str2float(data[16].string))\n",
    "\n",
    "          #天気概況を取りたかったが、前半のコードを変更する必要があるためいったん取得しない\n",
    "          # rowData.append(str2float(data[19].string)) \n",
    "          # rowData.append(str2float(data[20].string)) \n",
    "\n",
    "          #次の行にデータを追加\n",
    "          All_list.append(rowData)\n",
    "\n",
    "    #都市ごとにファイルを生成(csvファイル形式。名前は都市名)\n",
    "    with open(place + '.csv', 'w',encoding=\"utf_8_sig\") as file: #文字化け防止\n",
    "      writer = csv.writer(file, lineterminator='\\n')\n",
    "      writer.writerows(All_list)"
   ]
  },
  {
   "cell_type": "code",
   "execution_count": null,
   "id": "904d5407-d874-4a46-973a-2707e8d9e817",
   "metadata": {},
   "outputs": [],
   "source": []
  }
 ],
 "metadata": {
  "kernelspec": {
   "display_name": "Python 3 (ipykernel)",
   "language": "python",
   "name": "python3"
  },
  "language_info": {
   "codemirror_mode": {
    "name": "ipython",
    "version": 3
   },
   "file_extension": ".py",
   "mimetype": "text/x-python",
   "name": "python",
   "nbconvert_exporter": "python",
   "pygments_lexer": "ipython3",
   "version": "3.9.7"
  }
 },
 "nbformat": 4,
 "nbformat_minor": 5
}
