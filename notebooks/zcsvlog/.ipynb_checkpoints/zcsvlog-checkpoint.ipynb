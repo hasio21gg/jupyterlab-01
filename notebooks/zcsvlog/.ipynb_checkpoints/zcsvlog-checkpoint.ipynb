{
 "cells": [
  {
   "cell_type": "code",
   "execution_count": 32,
   "id": "f553e908-a4c9-46d2-b6f5-b411321656ae",
   "metadata": {},
   "outputs": [],
   "source": [
    "import os\n",
    "import re\n",
    "global HOME_PATH\n",
    "global LOG_PATH\n",
    "HOME_PATH = '/home/jovyan/'\n",
    "LOG_PATH = f\"{HOME_PATH}datasets/Zcsvlogs/\""
   ]
  },
  {
   "cell_type": "code",
   "execution_count": 65,
   "id": "bc200938-43fd-489b-a07b-dffa11c3343d",
   "metadata": {},
   "outputs": [],
   "source": [
    "def main():\n",
    "    files = os.listdir(LOG_PATH)\n",
    "    for file in files:\n",
    "        #m = re.findall(r'^(?P<ymd>\\d{8})(\\d{6})_(\\w+)_(\\w+)_(\\w+)_(\\w+)\\.LOG', file) \n",
    "        y = '20220418'\n",
    "        d = '091633'\n",
    "        #y = '\\d{8}'\n",
    "        #d = '\\d{6}'\n",
    "        s = \\\n",
    "        f'^(?P<ymd>{y})' + \\\n",
    "        f'(?P<hms>{d})_' +  \\\n",
    "        '(?P<zcsv>\\w+)_' +  \\\n",
    "        '(?P<apid>\\w+)_' +  \\\n",
    "        '(?P<ftpid>\\w+)_' + \\\n",
    "        '(?P<filecode>\\w+)\\.LOG'\n",
    "        m = re.match(s, file)\n",
    "        if m :\n",
    "            parse(file, \n",
    "            m.group('ymd'),\n",
    "            m.group('hms'),\n",
    "            m.group('zcsv'),\n",
    "            m.group('apid'),\n",
    "            m.group('ftpid'),\n",
    "            m.group('filecode'))"
   ]
  },
  {
   "cell_type": "code",
   "execution_count": 348,
   "id": "ae39c1b6-c769-4e91-8e44-df5b509361ed",
   "metadata": {},
   "outputs": [],
   "source": [
    "def parse(file, ymd, hms, zcsv, apid, ftpid,filecode):\n",
    "    path = f'{LOG_PATH}{file}'\n",
    "    with open(path, encoding='ShiftJIS') as f:\n",
    "        l = f.readlines()\n",
    "        okey = '$$$'\n",
    "        nkey = ''\n",
    "        start = 0\n",
    "        end = 0\n",
    "        print(f'{file} %d' % (len(l)))\n",
    "        for line in l:\n",
    "            dymd = ''\n",
    "            dhms = ''\n",
    "            dpath = ''\n",
    "            dkbn = 0\n",
    "            dfile = ''\n",
    "            #--------------------------------------------------------------\n",
    "            # ファイルパス出現パターン\n",
    "            # 開始 0→1\n",
    "            s1 = 'のファイルをバックアップします'\n",
    "            m = re.search(s1, line)\n",
    "            #--------------------------------------------------------------\n",
    "            # ファイルパス出現パターン\n",
    "            if m:\n",
    "                #----------------------------------------------------------\n",
    "                # ファイルパス取得パターン\n",
    "                s = '\\[(\\d{4}/\\d{2}/\\d{2})\\s+(\\d{1,2}:\\d{2}:\\d{2})\\.\\d{2}\\]\\s+(.*)' + s1\n",
    "                m = re.match(s, line)\n",
    "                #----------------------------------------------------------\n",
    "                dymd = m.group(1)\n",
    "                dhms = m.group(2)\n",
    "                dpath = m.group(3)\n",
    "                #----------------------------------------------------------\n",
    "                # ファイル名取得パターン\n",
    "                m = re.search('[^\\\\\\\\]+$', dpath)\n",
    "                #----------------------------------------------------------\n",
    "                if m:\n",
    "                    dfile = m.group(0)\n",
    "                    s = f'{zcsv}'\n",
    "                    m = re.search(s, dfile)\n",
    "                    if m:\n",
    "                        dkbn = 1\n",
    "            #--------------------------------------------------------------\n",
    "            # ファイルパス出現パターン\n",
    "            # ファイル出力完了出現パターン\n",
    "            s1 = '出力レコード数'\n",
    "            m = re.search(s1, line)\n",
    "            #--------------------------------------------------------------\n",
    "            if m:\n",
    "                #----------------------------------------------------------\n",
    "                # 変換件数取得パターン\n",
    "                s = '^\\s+' + s1 + '\\s+=\\s+(\\d+)'\n",
    "                m = re.search(s, line)\n",
    "                #----------------------------------------------------------\n",
    "                #if m:\n",
    "                    #print(m.group(1))\n",
    "            #--------------------------------------------------------------\n",
    "            # ファイルパス出現パターン\n",
    "            # ファイル変換終了出現パターン\n",
    "            s1 = 'の変換が正常に完了しました'\n",
    "            m = re.search(s1, line)\n",
    "            #--------------------------------------------------------------            \n",
    "            if m:\n",
    "                s = '\\[(\\d{4}/\\d{2}/\\d{2})\\s+(\\d{1,2}:\\d{2}:\\d{2})\\.\\d{2}\\]\\s+(.*)' + s1\n",
    "                m = re.search(s, line)\n",
    "            \n",
    "            if okey != '$$$' and okey != nkey :\n",
    "                print(f'%s %s' % (okey, dkbn))\n",
    "            okey = nkey\n",
    "            "
   ]
  },
  {
   "cell_type": "code",
   "execution_count": 349,
   "id": "81c49588-282c-4bad-a3df-6485ee1ddd64",
   "metadata": {},
   "outputs": [
    {
     "name": "stdout",
     "output_type": "stream",
     "text": [
      "20220418091633_ZCSV2_ap00476_ftp6001_JIA670.LOG 60\n"
     ]
    }
   ],
   "source": [
    "main()"
   ]
  }
 ],
 "metadata": {
  "kernelspec": {
   "display_name": "Python 3 (ipykernel)",
   "language": "python",
   "name": "python3"
  },
  "language_info": {
   "codemirror_mode": {
    "name": "ipython",
    "version": 3
   },
   "file_extension": ".py",
   "mimetype": "text/x-python",
   "name": "python",
   "nbconvert_exporter": "python",
   "pygments_lexer": "ipython3",
   "version": "3.9.7"
  }
 },
 "nbformat": 4,
 "nbformat_minor": 5
}
