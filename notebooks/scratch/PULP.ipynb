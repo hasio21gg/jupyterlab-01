{
 "cells": [
  {
   "cell_type": "markdown",
   "id": "c3297936-a4fc-419b-8ba6-f718c6a275d7",
   "metadata": {},
   "source": [
    "# 線形計画をPythonで解いてみる\n",
    "\n",
    "[入門オペレーションズリサーチ](https://www.amazon.co.jp/dp/4486017447) の「第12章 仕事の効率を高める 線形計画」の例題をPythonで解いてみる。\n",
    "\n",
    "参考文献： [PuLP による線型計画問題の解き方ことはじめ - Qiita](https://qiita.com/mzmttks/items/82ea3a51e4dbea8fbc17)"
   ]
  },
  {
   "cell_type": "markdown",
   "id": "64fdbbe2-f19b-4d77-8a74-102f2b192c8d",
   "metadata": {},
   "source": [
    "## 12.1 アイス増産計画 （p.151）\n",
    "\n",
    "* 2種類のアイスの生産を計画\n",
    "* 材料の牛乳は全部で8000cc\n",
    "* 作業時間は延べ360分\n",
    "* 儲けを最大にする増産計画を求めたい。\n",
    "\n",
    "| | 牛乳 | 作業時間 | 儲け |\n",
    "|:---|:---|:---|:---|\n",
    "| エスプレッソアイス | 100cc | 7分 | 250円 |\n",
    "| ラズベリーアイス | 150cc | 5分 | 300円 |"
   ]
  },
  {
   "cell_type": "code",
   "execution_count": 1,
   "id": "07ded37a-c4f1-4614-a081-24d7d8231ec3",
   "metadata": {},
   "outputs": [],
   "source": [
    "#!pip install pulp\n",
    "import pulp"
   ]
  },
  {
   "cell_type": "markdown",
   "id": "d049bd60-b92d-40ba-aeb6-4b80f6b3a5bf",
   "metadata": {},
   "source": [
    "エスプレッソアイスの生産量を `x1` 、ラズベリーアイスの生産量を `x2` とする。\n",
    "\n",
    "変数の定義時に最小値最大値を設定する必要があるが、最大値はここでは便宜上 `9999` と置く。（PuLPを使う場合、変数の定義の時点でそれが制約の一部を兼ねる模様）\"\n"
   ]
  },
  {
   "cell_type": "code",
   "execution_count": 2,
   "id": "3d358dd1-1d7a-4a24-86f1-42e44d15eefe",
   "metadata": {},
   "outputs": [],
   "source": [
    "x1 = pulp.LpVariable('x1', 0, 9999, 'Integer') \n",
    "x2 = pulp.LpVariable('x2', 0, 9999, 'Integer') \n"
   ]
  },
  {
   "cell_type": "markdown",
   "id": "2f2fdeba-1a0c-42c7-a0e3-d7bcbf238792",
   "metadata": {},
   "source": [
    "この時、儲けの合計 `(250 * x1 + 300 * x2)` を最大化したい。（目的）"
   ]
  },
  {
   "cell_type": "code",
   "execution_count": 3,
   "id": "c114720c-e1d2-4505-9136-f6b971f9bd65",
   "metadata": {},
   "outputs": [],
   "source": [
    "\n",
    "problem = pulp.LpProblem('アイス増産計画', pulp.LpMaximize)\n",
    "\n",
    "# 目的関数\n",
    "problem += 250 * x1 + 300 * x2\n"
   ]
  },
  {
   "cell_type": "markdown",
   "id": "a28198ea-c5eb-4513-bbdd-075086a41e73",
   "metadata": {},
   "source": [
    "次に制約条件を追加していく。\n",
    "\n",
    "まず、牛乳の使用量の制約。牛乳は合計8000ccまでしか使えないので、各アイスにおける使用量の合計の上限を8000ccとする。\n"
   ]
  },
  {
   "cell_type": "code",
   "execution_count": 4,
   "id": "e0823d4a-5afb-4a1b-8025-1ab29d267100",
   "metadata": {},
   "outputs": [],
   "source": [
    "# 使用量の制約条件\n",
    "problem += 100 * x1 + 150 * x2 <= 8000"
   ]
  },
  {
   "cell_type": "markdown",
   "id": "beda191c-541a-441a-8f9e-c2fdfcbb405d",
   "metadata": {},
   "source": [
    "次に生産時間の制約。増産に使える時間は延べ360分なので、各アイスにおける生産時間の合計の上限を360分とする。\n"
   ]
  },
  {
   "cell_type": "code",
   "execution_count": 5,
   "id": "22dadd30-b31a-4cef-8b38-651ae3568f85",
   "metadata": {},
   "outputs": [],
   "source": [
    "# 生産時間の制約条件\n",
    "problem += 7 * x1 + 5 * x2 <= 360"
   ]
  },
  {
   "cell_type": "markdown",
   "id": "be0314f8-4541-4a09-b61b-0a6a0fbdcbf2",
   "metadata": {},
   "source": [
    "書籍で記載されている `x1` および `x2` が正の値 `(x1, x2 >= 0)` は変数定義時に最小値として設定してあるので、割愛する。\n",
    "\n",
    "解く。"
   ]
  },
  {
   "cell_type": "code",
   "execution_count": 6,
   "id": "ca60fda9-471b-488e-98ef-ba4d971f5d56",
   "metadata": {},
   "outputs": [
    {
     "name": "stdout",
     "output_type": "stream",
     "text": [
      "Welcome to the CBC MILP Solver \n",
      "Version: 2.10.3 \n",
      "Build Date: Dec 15 2019 \n",
      "\n",
      "command line - /opt/conda/lib/python3.9/site-packages/pulp/apis/../solverdir/cbc/linux/64/cbc /tmp/80608731fa9244a6bf56fdefabe6fee6-pulp.mps max timeMode elapsed branch printingOptions all solution /tmp/80608731fa9244a6bf56fdefabe6fee6-pulp.sol (default strategy 1)\n",
      "At line 2 NAME          MODEL\n",
      "At line 3 ROWS\n",
      "At line 7 COLUMNS\n",
      "At line 18 RHS\n",
      "At line 21 BOUNDS\n",
      "At line 24 ENDATA\n",
      "Problem MODEL has 2 rows, 2 columns and 4 elements\n",
      "Coin0008I MODEL read with 0 errors\n",
      "Option for timeMode changed from cpu to elapsed\n",
      "Continuous objective value is 17272.7 - 0.00 seconds\n",
      "Cgl0004I processed model has 2 rows, 2 columns (2 integer (0 of which binary)) and 4 elements\n",
      "Cutoff increment increased from 1e-05 to 49.9999\n",
      "Cbc0012I Integer solution of -17050 found by DiveCoefficient after 0 iterations and 0 nodes (0.01 seconds)\n",
      "Cbc0012I Integer solution of -17150 found by DiveCoefficient after 8 iterations and 0 nodes (0.01 seconds)\n",
      "Cbc0031I 1 added rows had average density of 2\n",
      "Cbc0013I At root node, 1 cuts changed objective from -17272.727 to -17150 in 6 passes\n",
      "Cbc0014I Cut generator 0 (Probing) - 0 row cuts average 0.0 elements, 13 column cuts (13 active)  in 0.000 seconds - new frequency is 1\n",
      "Cbc0014I Cut generator 1 (Gomory) - 8 row cuts average 2.0 elements, 0 column cuts (0 active)  in 0.000 seconds - new frequency is 1\n",
      "Cbc0014I Cut generator 2 (Knapsack) - 0 row cuts average 0.0 elements, 0 column cuts (0 active)  in 0.000 seconds - new frequency is -100\n",
      "Cbc0014I Cut generator 3 (Clique) - 0 row cuts average 0.0 elements, 0 column cuts (0 active)  in 0.000 seconds - new frequency is -100\n",
      "Cbc0014I Cut generator 4 (MixedIntegerRounding2) - 0 row cuts average 0.0 elements, 0 column cuts (0 active)  in 0.000 seconds - new frequency is -100\n",
      "Cbc0014I Cut generator 5 (FlowCover) - 0 row cuts average 0.0 elements, 0 column cuts (0 active)  in 0.000 seconds - new frequency is -100\n",
      "Cbc0001I Search completed - best objective -17150, took 8 iterations and 0 nodes (0.01 seconds)\n",
      "Cbc0035I Maximum depth 0, 0 variables fixed on reduced cost\n",
      "Cuts at root node changed objective from -17272.7 to -17150\n",
      "Probing was tried 6 times and created 13 cuts of which 0 were active after adding rounds of cuts (0.000 seconds)\n",
      "Gomory was tried 6 times and created 8 cuts of which 0 were active after adding rounds of cuts (0.000 seconds)\n",
      "Knapsack was tried 6 times and created 0 cuts of which 0 were active after adding rounds of cuts (0.000 seconds)\n",
      "Clique was tried 6 times and created 0 cuts of which 0 were active after adding rounds of cuts (0.000 seconds)\n",
      "MixedIntegerRounding2 was tried 6 times and created 0 cuts of which 0 were active after adding rounds of cuts (0.000 seconds)\n",
      "FlowCover was tried 6 times and created 0 cuts of which 0 were active after adding rounds of cuts (0.000 seconds)\n",
      "TwoMirCuts was tried 1 times and created 0 cuts of which 0 were active after adding rounds of cuts (0.000 seconds)\n",
      "ZeroHalf was tried 1 times and created 0 cuts of which 0 were active after adding rounds of cuts (0.000 seconds)\n",
      "\n",
      "Result - Optimal solution found\n",
      "\n",
      "Objective value:                17150.00000000\n",
      "Enumerated nodes:               0\n",
      "Total iterations:               8\n",
      "Time (CPU seconds):             0.00\n",
      "Time (Wallclock seconds):       0.01\n",
      "\n",
      "Option for printingOptions changed from normal to all\n",
      "Total time (CPU seconds):       0.00   (Wallclock seconds):       0.02\n",
      "\n",
      "Optimal\n"
     ]
    }
   ],
   "source": [
    "status = problem.solve()\n",
    "print(pulp.LpStatus[status])"
   ]
  },
  {
   "cell_type": "markdown",
   "id": "7ef4fc75-8198-4914-83c5-6e020caa065c",
   "metadata": {},
   "source": [
    "`Optimal` が出ていれば解けている。\n",
    "\n",
    "問題を改めて見てみる。"
   ]
  },
  {
   "cell_type": "code",
   "execution_count": 7,
   "id": "ef8da414-8a22-4813-9c26-87800a838c4f",
   "metadata": {},
   "outputs": [
    {
     "name": "stdout",
     "output_type": "stream",
     "text": [
      "アイス増産計画:\n",
      "MAXIMIZE\n",
      "250*x1 + 300*x2 + 0\n",
      "SUBJECT TO\n",
      "_C1: 100 x1 + 150 x2 <= 8000\n",
      "\n",
      "_C2: 7 x1 + 5 x2 <= 360\n",
      "\n",
      "VARIABLES\n",
      "0 <= x1 <= 9999 Integer\n",
      "0 <= x2 <= 9999 Integer\n",
      "\n"
     ]
    }
   ],
   "source": [
    "print(problem)"
   ]
  },
  {
   "cell_type": "markdown",
   "id": "6afa1ade-bc07-4329-98a8-988dab497c33",
   "metadata": {},
   "source": [
    "求めた値を見てみる。\n",
    "\n",
    "まずは `x1` 、エスプレッソアイスの生産量。"
   ]
  },
  {
   "cell_type": "code",
   "execution_count": 8,
   "id": "c4e4c470-3fd8-49fc-a069-7fae9ce23e20",
   "metadata": {},
   "outputs": [
    {
     "data": {
      "text/plain": [
       "23.0"
      ]
     },
     "execution_count": 8,
     "metadata": {},
     "output_type": "execute_result"
    }
   ],
   "source": [
    "x1.value()"
   ]
  },
  {
   "cell_type": "markdown",
   "id": "66abd8f2-2bf1-4e1a-a930-c2fd74d6ff8a",
   "metadata": {},
   "source": [
    "次に `x2` 、ラズベリーアイスの生産量。"
   ]
  },
  {
   "cell_type": "code",
   "execution_count": 9,
   "id": "6e534f10-d5e7-4ba2-bc09-03093279de72",
   "metadata": {},
   "outputs": [
    {
     "data": {
      "text/plain": [
       "38.0"
      ]
     },
     "execution_count": 9,
     "metadata": {},
     "output_type": "execute_result"
    }
   ],
   "source": [
    "x2.value()"
   ]
  },
  {
   "cell_type": "markdown",
   "id": "8de9e51b-dcf7-43d0-a865-4b17c58cb91d",
   "metadata": {},
   "source": [
    "つまり、制約条件のもとで、エスプレッソアイスを 23、ラズベリーアイスを 38 生産した時に、儲けが最大化される。"
   ]
  },
  {
   "cell_type": "code",
   "execution_count": null,
   "id": "a3d3d740-bfe1-4d48-a4bb-6ffaae169151",
   "metadata": {},
   "outputs": [],
   "source": []
  }
 ],
 "metadata": {
  "kernelspec": {
   "display_name": "Python 3 (ipykernel)",
   "language": "python",
   "name": "python3"
  },
  "language_info": {
   "codemirror_mode": {
    "name": "ipython",
    "version": 3
   },
   "file_extension": ".py",
   "mimetype": "text/x-python",
   "name": "python",
   "nbconvert_exporter": "python",
   "pygments_lexer": "ipython3",
   "version": "3.9.7"
  }
 },
 "nbformat": 4,
 "nbformat_minor": 5
}
