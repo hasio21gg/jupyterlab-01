{
 "cells": [
  {
   "cell_type": "code",
   "execution_count": null,
   "id": "d3d010e3-4a21-43fe-800c-7e98da2271e5",
   "metadata": {},
   "outputs": [],
   "source": [
    "import glob\n",
    "import re\n",
    "from datetime import datetime as dt\n",
    "import pandas as pd"
   ]
  },
  {
   "cell_type": "code",
   "execution_count": null,
   "id": "d56175b6-bb44-4c06-95f1-4d6bf3adf372",
   "metadata": {},
   "outputs": [],
   "source": [
    "def parser(file:str):\n",
    "    #result = 0\n",
    "    res = pd.DataFrame(columns = ['DATETIME','PROTOCOL','TO_ADDR','TO_PORT','FROM_ADDR','FROM_PORT','STATUS'])\n",
    "    datetime_pattern = r'netstat_(\\d{8})(\\d{6}).log'\n",
    "    _, strDT, strTM ,_ = re.split(datetime_pattern, file)\n",
    "    DT = dt.strptime(strDT + strTM, '%Y%m%d%H%M%S')\n",
    "    with open(file, encoding = 'Shift_JIS') as f:\n",
    "        match_pattern = r'^\\s+TCP\\s+'\n",
    "        for line in f:\n",
    "            match = re.match(match_pattern, line)\n",
    "            if match:\n",
    "                line = re.sub('^\\s+', '', line) #先頭空白を除去\n",
    "                line = re.sub('\\s+$', '', line) #末尾空白(改行含む)を除去\n",
    "                line = re.sub('\\s+', ',', line) #空白（複数)区切りをカンマに置換\n",
    "                PROTOCOL,TO_ADDR,TO_PORT, FROM_ADDR,FROM_PORT, STATUS = re.split(r',|:', line, 5)\n",
    "                res.loc[len(res)]=[DT, PROTOCOL,TO_ADDR,TO_PORT, FROM_ADDR,FROM_PORT, STATUS]\n",
    "                #result += 1\n",
    "    return res"
   ]
  },
  {
   "cell_type": "code",
   "execution_count": null,
   "id": "6d66359c-05f3-4a16-880f-1e4290549953",
   "metadata": {},
   "outputs": [],
   "source": [
    "files = glob.glob(\"/home/jovyan/datasets/Netstats/netstat_*.log\")\n",
    "#files = glob.glob(\"/home/jovyan/datasets/Netstats/netstat_2022030404*.log\")\n",
    "df_concat = pd.DataFrame()\n",
    "for file in files:\n",
    "    #print(f'%s %s' % (type(file), file))\n",
    "    df_concat = pd.concat([df_concat, parser(file)])"
   ]
  },
  {
   "cell_type": "code",
   "execution_count": null,
   "id": "c7215034-03b3-43c6-a514-9c890467eab2",
   "metadata": {},
   "outputs": [],
   "source": [
    "df_concat"
   ]
  },
  {
   "cell_type": "code",
   "execution_count": null,
   "id": "e9ae426e-eca5-4325-9f28-b730119a5ec8",
   "metadata": {},
   "outputs": [],
   "source": [
    "df_concat.shape"
   ]
  },
  {
   "cell_type": "code",
   "execution_count": null,
   "id": "b7fc629f-3baa-4097-b18f-c8720d292610",
   "metadata": {},
   "outputs": [],
   "source": [
    "df_concat.to_csv('20220310_netstat.csv')"
   ]
  },
  {
   "cell_type": "code",
   "execution_count": null,
   "id": "c0498dd3-5dac-4d8f-998c-229f5150239e",
   "metadata": {},
   "outputs": [],
   "source": [
    "df = pd.read_csv('~/notebooks/netstats/20220310_netstat.csv', parse_dates=[0])"
   ]
  },
  {
   "cell_type": "code",
   "execution_count": null,
   "id": "a1275fdf-3f53-4166-ba92-201a5f874ff4",
   "metadata": {},
   "outputs": [],
   "source": [
    "#print(df.columns[[0]])\n",
    "#print(df.drop(df.columns[[0]], axis=1))\n",
    "df = df.drop(columns=df.columns[[0]], axis=1)\n",
    "df.head(5)"
   ]
  },
  {
   "cell_type": "code",
   "execution_count": null,
   "id": "4e6eb089-9524-45c7-884d-88c09505a3ef",
   "metadata": {},
   "outputs": [],
   "source": [
    "import matplotlib as mpl\n",
    "import matplotlib.pyplot as plt\n",
    "import matplotlib.dates as mdates\n",
    "%matplotlib inline"
   ]
  },
  {
   "cell_type": "code",
   "execution_count": null,
   "id": "3507e629-5cd5-4bcc-b1e7-b5f98dfab884",
   "metadata": {},
   "outputs": [],
   "source": [
    "fig, ax = plt.subplots(figsize=(10, 5))\n",
    "#ax.bar(df['DATETIME'], df['PROTOCOL'])\n",
    "#ax.plot(df['DATETIME'], df['TO_PORT'],color='orange')\n",
    "#weeks = mdates.WeekdayLocator(byweekday=mdates.TH)\n",
    "#ax.xaxis.set_major_locator(weeks)\n",
    "#plt.show()\n",
    "df.plot(ax=axes[1,2],legend=False, kind='PROTOCOL')"
   ]
  },
  {
   "cell_type": "code",
   "execution_count": null,
   "id": "0eb328d1-5a21-48c4-956a-e8a832e80e39",
   "metadata": {},
   "outputs": [],
   "source": []
  },
  {
   "cell_type": "code",
   "execution_count": null,
   "id": "6be17de7-c7e9-4faa-b011-c89d1f86a335",
   "metadata": {},
   "outputs": [],
   "source": []
  }
 ],
 "metadata": {
  "kernelspec": {
   "display_name": "Python 3 (ipykernel)",
   "language": "python",
   "name": "python3"
  },
  "language_info": {
   "codemirror_mode": {
    "name": "ipython",
    "version": 3
   },
   "file_extension": ".py",
   "mimetype": "text/x-python",
   "name": "python",
   "nbconvert_exporter": "python",
   "pygments_lexer": "ipython3",
   "version": "3.10.5"
  }
 },
 "nbformat": 4,
 "nbformat_minor": 5
}
