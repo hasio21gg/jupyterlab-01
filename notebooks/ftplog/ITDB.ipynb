{
 "cells": [
  {
   "cell_type": "code",
   "execution_count": 3,
   "id": "d7c8e9d1-fd66-4139-a0e5-38fe0652766f",
   "metadata": {},
   "outputs": [],
   "source": [
    "import pandas as pd\n",
    "import datetime as dt\n",
    "import gc"
   ]
  },
  {
   "cell_type": "code",
   "execution_count": 6,
   "id": "c5c9e26a-2448-440d-9f7e-8ac7cf6d6fae",
   "metadata": {},
   "outputs": [],
   "source": [
    "def envset(argLOG_YMD = f'%s' % dt.datetime.now().strftime('%Y%m%d'),\n",
    "           argYMD     = f'%s' % dt.datetime.now().strftime('%Y%m%d')\n",
    "          ):\n",
    "    #-------------------------------------\n",
    "    global HOME_PATH  \n",
    "    global INPUT_PATH\n",
    "    global OUTPUT_PATH\n",
    "    #-------------------------------------\n",
    "    #-------------------------------------    \n",
    "    LOG_YMD = argLOG_YMD\n",
    "    HOME_PATH = '/home/jovyan/'\n",
    "    INPUT_PATH  = HOME_PATH + 'datasets/Ftplogs/Input/'\n",
    "    OUTPUT_PATH = HOME_PATH + 'datasets/Ftplogs/Output/'\n",
    "    #-------------------------------------\n",
    "    print(f'%-20s:{LOG_YMD:<15s}' % (\"LOG_YMD\"))\n",
    "    print(f'%-20s:{HOME_PATH:<15s}' % (\"HOME_PATH\"))\n",
    "    print(f'%-20s:{INPUT_PATH:<15s}' % (\"INPUT_PATH\"))\n",
    "    print(f'%-20s:{OUTPUT_PATH:<15s}' % (\"OUTPUT_PATH\"))"
   ]
  },
  {
   "cell_type": "code",
   "execution_count": 7,
   "id": "4df45cb0-38eb-4792-9ffe-47ade07bd38d",
   "metadata": {},
   "outputs": [
    {
     "name": "stdout",
     "output_type": "stream",
     "text": [
      "LOG_YMD             :20220331       \n",
      "HOME_PATH           :/home/jovyan/  \n",
      "INPUT_PATH          :/home/jovyan/datasets/Ftplogs/Input/\n",
      "OUTPUT_PATH         :/home/jovyan/datasets/Ftplogs/Output/\n"
     ]
    }
   ],
   "source": [
    "envset()"
   ]
  },
  {
   "cell_type": "code",
   "execution_count": 32,
   "id": "307e3381-5c0a-4e21-88d8-9dc06e9f8f8c",
   "metadata": {},
   "outputs": [],
   "source": [
    "def csvtodf(csv_file):\n",
    "    df = pd.read_csv(\n",
    "        csv_file, \n",
    "        index_col='SEQ',\n",
    "        encoding=\"CP932\",\n",
    "        low_memory=False,\n",
    "        parse_dates=['更新日',\n",
    "                    'リ.開始日',\n",
    "                    'リ.満了日',\n",
    "                    '購入日',\n",
    "                    '導入日'])\n",
    "    return df"
   ]
  },
  {
   "cell_type": "code",
   "execution_count": 44,
   "id": "89c5468e-5d54-403c-b711-dc8e931f8c41",
   "metadata": {},
   "outputs": [
    {
     "name": "stdout",
     "output_type": "stream",
     "text": [
      "/home/jovyan/datasets/Ftplogs/Input/IT資産台帳20220331083742.csv\n"
     ]
    },
    {
     "ename": "ValueError",
     "evalue": "Length of new names must be 1, got 3",
     "output_type": "error",
     "traceback": [
      "\u001b[0;31m---------------------------------------------------------------------------\u001b[0m",
      "\u001b[0;31mValueError\u001b[0m                                Traceback (most recent call last)",
      "Input \u001b[0;32mIn [44]\u001b[0m, in \u001b[0;36m<module>\u001b[0;34m\u001b[0m\n\u001b[1;32m      4\u001b[0m df \u001b[38;5;241m=\u001b[39m csvtodf(INFILE)\n\u001b[1;32m      5\u001b[0m df\u001b[38;5;241m.\u001b[39mset_index([df\u001b[38;5;241m.\u001b[39mIPAddress,df\u001b[38;5;241m.\u001b[39m管理ラベル, df\u001b[38;5;241m.\u001b[39mindex])\n\u001b[0;32m----> 6\u001b[0m df\u001b[38;5;241m.\u001b[39mindex\u001b[38;5;241m.\u001b[39mnames \u001b[38;5;241m=\u001b[39m [\n\u001b[1;32m      7\u001b[0m         \u001b[38;5;124m\"\u001b[39m\u001b[38;5;124mIPAddress\u001b[39m\u001b[38;5;124m\"\u001b[39m,\n\u001b[1;32m      8\u001b[0m         \u001b[38;5;124m\"\u001b[39m\u001b[38;5;124mKanriNo\u001b[39m\u001b[38;5;124m\"\u001b[39m,\n\u001b[1;32m      9\u001b[0m         \u001b[38;5;124m\"\u001b[39m\u001b[38;5;124mindex\u001b[39m\u001b[38;5;124m\"\u001b[39m]\n\u001b[1;32m     10\u001b[0m df\u001b[38;5;241m.\u001b[39msort_index()\n",
      "File \u001b[0;32m/opt/conda/lib/python3.9/site-packages/pandas/core/indexes/base.py:1723\u001b[0m, in \u001b[0;36mIndex._set_names\u001b[0;34m(self, values, level)\u001b[0m\n\u001b[1;32m   1721\u001b[0m     \u001b[38;5;28;01mraise\u001b[39;00m \u001b[38;5;167;01mValueError\u001b[39;00m(\u001b[38;5;124m\"\u001b[39m\u001b[38;5;124mNames must be a list-like\u001b[39m\u001b[38;5;124m\"\u001b[39m)\n\u001b[1;32m   1722\u001b[0m \u001b[38;5;28;01mif\u001b[39;00m \u001b[38;5;28mlen\u001b[39m(values) \u001b[38;5;241m!=\u001b[39m \u001b[38;5;241m1\u001b[39m:\n\u001b[0;32m-> 1723\u001b[0m     \u001b[38;5;28;01mraise\u001b[39;00m \u001b[38;5;167;01mValueError\u001b[39;00m(\u001b[38;5;124mf\u001b[39m\u001b[38;5;124m\"\u001b[39m\u001b[38;5;124mLength of new names must be 1, got \u001b[39m\u001b[38;5;132;01m{\u001b[39;00m\u001b[38;5;28mlen\u001b[39m(values)\u001b[38;5;132;01m}\u001b[39;00m\u001b[38;5;124m\"\u001b[39m)\n\u001b[1;32m   1725\u001b[0m \u001b[38;5;66;03m# GH 20527\u001b[39;00m\n\u001b[1;32m   1726\u001b[0m \u001b[38;5;66;03m# All items in 'name' need to be hashable:\u001b[39;00m\n\u001b[1;32m   1727\u001b[0m validate_all_hashable(\u001b[38;5;241m*\u001b[39mvalues, error_name\u001b[38;5;241m=\u001b[39m\u001b[38;5;124mf\u001b[39m\u001b[38;5;124m\"\u001b[39m\u001b[38;5;132;01m{\u001b[39;00m\u001b[38;5;28mtype\u001b[39m(\u001b[38;5;28mself\u001b[39m)\u001b[38;5;241m.\u001b[39m\u001b[38;5;18m__name__\u001b[39m\u001b[38;5;132;01m}\u001b[39;00m\u001b[38;5;124m.name\u001b[39m\u001b[38;5;124m\"\u001b[39m)\n",
      "\u001b[0;31mValueError\u001b[0m: Length of new names must be 1, got 3"
     ]
    }
   ],
   "source": [
    "INFILE = f'{INPUT_PATH}%s' % ('IT資産台帳20220331083742.csv')\n",
    "print(INFILE)\n",
    "df = pd.DataFrame()\n",
    "df = csvtodf(INFILE)\n",
    "df.fillna({'IPAddress': 'XXX', 'age': 20, 'ZZZ': 100}))\n",
    "df.set_index([df.IPAddress,df.管理ラベル, df.index])\n",
    "df.index.names = [\n",
    "        \"IPAddress\",\n",
    "        \"KanriNo\",\n",
    "        \"index\"]\n",
    "df.sort_index()"
   ]
  },
  {
   "cell_type": "code",
   "execution_count": 42,
   "id": "4cd2c22c-7ec5-4b78-bd89-6a1cd15b0574",
   "metadata": {},
   "outputs": [
    {
     "name": "stdout",
     "output_type": "stream",
     "text": [
      "Int64Index([    1,     2,     3,     4,     5,     6,     7,     8,     9,\n",
      "               10,\n",
      "            ...\n",
      "            17468, 17469, 17470, 17471, 17472, 17473, 17474, 17475, 17476,\n",
      "            17477],\n",
      "           dtype='int64', name='SEQ', length=17477)\n"
     ]
    }
   ],
   "source": [
    "print(df.index)"
   ]
  },
  {
   "cell_type": "code",
   "execution_count": null,
   "id": "4b46d952-3554-4d7b-bcb1-1415fffc721e",
   "metadata": {},
   "outputs": [],
   "source": []
  }
 ],
 "metadata": {
  "kernelspec": {
   "display_name": "Python 3 (ipykernel)",
   "language": "python",
   "name": "python3"
  },
  "language_info": {
   "codemirror_mode": {
    "name": "ipython",
    "version": 3
   },
   "file_extension": ".py",
   "mimetype": "text/x-python",
   "name": "python",
   "nbconvert_exporter": "python",
   "pygments_lexer": "ipython3",
   "version": "3.9.7"
  }
 },
 "nbformat": 4,
 "nbformat_minor": 5
}
