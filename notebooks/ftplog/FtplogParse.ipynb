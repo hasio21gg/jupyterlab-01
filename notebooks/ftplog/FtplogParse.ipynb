{
 "cells": [
  {
   "cell_type": "markdown",
   "id": "92de4547-84f2-41a9-ad1e-4dbb80f01116",
   "metadata": {},
   "source": [
    "#### FTP(IIS)のログを解析する\n",
    "##### IN : IIS(FTP)のログ置き場にSMBで取得、必要情報\n",
    "##### OUT:\n",
    "\n",
    "https://sinhrks.hatenablog.com/entry/2014/11/21/231534"
   ]
  },
  {
   "cell_type": "markdown",
   "id": "9e4c68a3-3482-4d30-9cb4-36fab0cf68c1",
   "metadata": {},
   "source": [
    "###### 必要ライブラリ"
   ]
  },
  {
   "cell_type": "code",
   "execution_count": null,
   "id": "35d631a9-8877-4726-a6f1-898ed0018793",
   "metadata": {},
   "outputs": [],
   "source": [
    "!pip install pysmb"
   ]
  },
  {
   "cell_type": "code",
   "execution_count": 1,
   "id": "dfc05d04-cc45-45ff-a6b9-add5e76ccaee",
   "metadata": {},
   "outputs": [],
   "source": [
    "from smb.SMBConnection import SMBConnection\n",
    "import platform\n",
    "import pandas as pd\n",
    "import re\n",
    "import io\n",
    "import datetime as dt\n",
    "from pathlib import Path\n",
    "#from tqdm import tqdm\n",
    "from tqdm.auto import tqdm\n",
    "import typer\n",
    "#import os\n",
    "import gc\n",
    "\n",
    "#import json\n",
    "import pickle"
   ]
  },
  {
   "cell_type": "code",
   "execution_count": 2,
   "id": "0425f382-1916-40ac-8efc-93005d6d234e",
   "metadata": {},
   "outputs": [],
   "source": [
    "global order\n",
    "global logs_head\n",
    "order = [\n",
    "        \"date\",\"time\",\"c-ip\",\"cs-username\",\"s-ip\",\n",
    "        \"s-port\",\"cs-method\",\"cs-uri-stem\",\"sc-status\",\"sc-win32-status\",\n",
    "        \"sc-substatus\",\"time-taken\",\"x-session\",\"x-fullpath\"]\n",
    "logs_head = [\n",
    "    'c-ip','cs-username','s-ip','s-port',\n",
    "    'cs-method','cs-uri-stem','sc-status','sc-win32-status',\n",
    "    'sc-substatus','time-taken','x-session','x-fullpath','timestamp']\n",
    "\n",
    "\n",
    "global FILE_NUMBER\n",
    "FILE_NUMBER = 0"
   ]
  },
  {
   "cell_type": "code",
   "execution_count": 3,
   "id": "823b2b49-c845-471a-9c29-78586a3ee4f7",
   "metadata": {},
   "outputs": [],
   "source": [
    "def envset(argLOG_YMD, argYMD):\n",
    "    global ENV\n",
    "    global ip_address\n",
    "    global user\n",
    "    global password\n",
    "    global remote_hostname \n",
    "    global LOG_YMD\n",
    "    global SHARE_NAME\n",
    "    global FILE_TO_PATH\n",
    "    global HOME_PATH\n",
    "    global OUT_PATH\n",
    "    global LOG_PATH\n",
    "    global YMD\n",
    "    global OUT_FILE\n",
    "    global picklepath\n",
    "    global OUT_SUM_FILE\n",
    "    \n",
    "    LOG_YMD = argLOG_YMD\n",
    "    ENV = 'HONBAN'    \n",
    "    #ENV = 'TEST'\n",
    "    if(ENV == 'TEST'):\n",
    "        ip_address = '172.30.9.85'\n",
    "        user = 'Administrator'\n",
    "        password = 'panic'\n",
    "        remote_hostname = 'RGSV920'\n",
    "    else:\n",
    "        ip_address = '172.30.4.193'\n",
    "        user = 'Administrator'\n",
    "        password = 'panic'\n",
    "        remote_hostname = 'SESV400'\n",
    "\n",
    "    SHARE_NAME = 'd$'\n",
    "    FILE_TO_PATH = 'Ftp/Logs/2021/'\n",
    "    FILE_TO_PATH = 'Ftp/Logs/2022/'\n",
    "    HOME_PATH = '/home/jovyan/'\n",
    "    OUT_PATH = HOME_PATH + 'datasets/Ftplogs/Output/'\n",
    "    LOG_PATH = f'{HOME_PATH}datasets/Ftplogs/{remote_hostname}/'\n",
    "    #YMD = f'%s' % dt.datetime.now().strftime('%Y%m%d')\n",
    "    YMD = argYMD\n",
    "    #\n",
    "    #OUT_FILE = f'{OUT_PATH}Log/{YMD}_{remote_hostname}_{LOG_YMD}_{FILE_NUMBER}_FtpLogs.csv'\n",
    "    #picklepath = f'{OUT_PATH}Pickle/{YMD}_{remote_hostname}_{LOG_YMD}_{FILE_NUMBER}_FtpLogs.csv.pickle'\n",
    "    #OUT_SUM_FILE = f'{OUT_PATH}Sumary/{YMD}_{remote_hostname}_{LOG_YMD}_{FILE_NUMBER}_FtpLogsSumary.csv'\n",
    "    \n",
    "    print(f'%-20s:{ENV:<15s}' % (\"ENV\"))\n",
    "    print(f'%-20s:{ip_address:<15s}' % (\"ip_address\"))\n",
    "    print(f'%-20s:{user:<15s}' % (\"user\"))\n",
    "    print(f'%-20s:{password:<15s}' % (\"password\"))\n",
    "    print(f'%-20s:{remote_hostname:<15s}' % (\"remote_hostname\"))\n",
    "    print(f'%-20s:{SHARE_NAME:<15s}' % (\"SHARE_NAME\"))\n",
    "    print(f'%-20s:{OUT_PATH:<15s}' % (\"OUT_PATH\"))\n",
    "    print(f'%-20s:{LOG_PATH:<15s}' % (\"LOG_PATH\"))\n",
    "    print(f'%-20s:{YMD:<15s}' % (\"YMD\"))\n",
    "    print(f'%-20s:{LOG_YMD:<15s}' % (\"LOG_YMD\"))\n",
    "    \n",
    "   "
   ]
  },
  {
   "cell_type": "code",
   "execution_count": 4,
   "id": "f62dad9a-af61-48f1-8450-38bd3369eece",
   "metadata": {},
   "outputs": [],
   "source": [
    "def filenames(argFILE_NUMBER):\n",
    "    \n",
    "    global OUT_FILE\n",
    "    global picklepath\n",
    "    global OUT_SUM_FILE\n",
    "    \n",
    "    OUT_FILE = f'{OUT_PATH}Log/{YMD}_{remote_hostname}_{LOG_YMD}_{argFILE_NUMBER:02}_FtpLogs.csv'\n",
    "    picklepath = f'{OUT_PATH}Pickle/{YMD}_{remote_hostname}_{LOG_YMD}_{argFILE_NUMBER:02}_FtpLogs.csv.pickle'\n",
    "    OUT_SUM_FILE = f'{OUT_PATH}Sumary/{YMD}_{remote_hostname}_{LOG_YMD}_FtpLogsSumary.csv'\n",
    "    \n",
    "    print(f'%-20s:{OUT_FILE:<15s}' % (\"OUT_FILE\"))\n",
    "    print(f'%-20s:{picklepath:<15s}' % (\"picklepath\"))\n",
    "    print(f'%-20s:{OUT_SUM_FILE:<15s}' % (\"OUT_SUM_FILE\"))\n",
    " "
   ]
  },
  {
   "cell_type": "code",
   "execution_count": 5,
   "id": "3bba5c65-2058-43aa-9590-6c8073db6dea",
   "metadata": {},
   "outputs": [],
   "source": [
    "#\n",
    "def SMBFileList():\n",
    "    print(\"==================================================\")\n",
    "    result = False\n",
    "    conn = SMBConnection(\n",
    "        user,\n",
    "        password,\n",
    "        platform.uname().node,\n",
    "        remote_hostname,\n",
    "        domain='WORKGROUP',\n",
    "        use_ntlm_v2=True)\n",
    "    result = conn.connect(ip_address, 139)\n",
    "    print(result)\n",
    "    return result, conn"
   ]
  },
  {
   "cell_type": "code",
   "execution_count": 6,
   "id": "bc9a6141-61b9-4089-9ff9-6d9702eed8cb",
   "metadata": {},
   "outputs": [],
   "source": [
    "def LogRead(filename, arg1):\n",
    "    #df =pd.DataFrame(columns = order)\n",
    "    def proc1(lines):\n",
    "        cnt = 0\n",
    "        all = len(lines)\n",
    "        bar_template = \"\"\n",
    "        for buf in lines:\n",
    "            cnt+=1\n",
    "            print(f'\\r{filename:_<10}:{cnt:07}/{all:07} [{cnt/all:.2%}]', end=\"\")\n",
    "            _line = buf.decode() if arg1 == 1 else buf\n",
    "            if not re.search('^#', _line):\n",
    "                (\n",
    "                    date,time,cip,csusername,sip,\n",
    "                    sport,csmethod,csuristem,scstatus,scwin32status,\n",
    "                    scsubstatus,timetaken,xsession,xfullpath\n",
    "                ) = _line.split(' ')\n",
    "                df.loc[len(df)] = [\n",
    "                    date,time,cip,csusername,sip,\n",
    "                    sport,csmethod,csuristem,scstatus,scwin32status,\n",
    "                    scsubstatus,timetaken,xsession,xfullpath\n",
    "                ]\n",
    "    def proc2(filepath):\n",
    "        txt = Path(filepath).resolve()\n",
    "        length = sum(1 for row in open(txt, 'r'))\n",
    "        chunksize = 5000\n",
    "        df_t = pd.DataFrame()\n",
    "        typer.secho(f\"Reading file: {txt}\", fg=\"red\", bold=True)\n",
    "        #typer.secho(f\"total rows: {length}\", fg=\"green\", bold=True)\n",
    "        with tqdm(total=length, desc=\"chunks read: \") as bar:\n",
    "            dsz = length\n",
    "            for i, chunk in enumerate(pd.read_csv(txt, \n",
    "                                                  chunksize=chunksize, \n",
    "                                                  low_memory=False, \n",
    "                                                  header = None, \n",
    "                                                  #skiprows=4, \n",
    "                                                  comment='#',\n",
    "                                                  sep=' ', \n",
    "                                                  names=order,\n",
    "                                                  parse_dates={'timestamp':['date', 'time']}\n",
    "                                                  )):\n",
    "                df_t = pd.concat([df_t,chunk])\n",
    "                bar.update(min(dsz, chunksize))\n",
    "                dsz -= chunksize\n",
    "        #typer.secho(\"end of reading chunks...\", fg=typer.colors.BRIGHT_RED, end=\"\")\n",
    "        #typer.secho(f\"Dataframe length:{len(df_t)}\", fg=\"green\", bold=True)\n",
    "        return df_t\n",
    "    if(arg1 == 1):\n",
    "        # 遅いので使わない\n",
    "        with io.BytesIO() as file:\n",
    "            conn.retrieveFile(SHARE_NAME, FILE_TO_PATH + filename, file)\n",
    "            file.seek(0)\n",
    "            proc1(file.read().splitlines())\n",
    "        file.close()\n",
    "    elif(arg1 == 2):\n",
    "        # 遅いので使わない\n",
    "        with open(LOG_PATH + filename) as file:\n",
    "            proc1(file.read().splitlines())\n",
    "        file.close()\n",
    "    elif(arg1 == 3):\n",
    "        df = proc2(LOG_PATH + filename)\n",
    "        #df = pd.read_csv(LOG_PATH + filename, header = None, skiprows=4, sep=' ', names=order)\n",
    "        #return df\n",
    "        #df_res = pd.concat([df_res, df])\n",
    "        #print(\"--------------------------- concat \")\n",
    "        #print(df_res.dtypes)\n",
    "    else:\n",
    "        print(2)        \n",
    "    return df"
   ]
  },
  {
   "cell_type": "code",
   "execution_count": 7,
   "id": "17a508c5-3797-4a33-b8ee-d96dd3c0a99b",
   "metadata": {},
   "outputs": [],
   "source": [
    "def LogWrite(filename, conn):\n",
    "    with open(LOG_PATH + filename, 'wb') as file:\n",
    "        conn.retrieveFile(SHARE_NAME, FILE_TO_PATH + filename, file)\n",
    "    return 1"
   ]
  },
  {
   "cell_type": "code",
   "execution_count": 8,
   "id": "fca6b94c-6521-4e46-906b-afd8713f2ee1",
   "metadata": {},
   "outputs": [],
   "source": [
    "def main(argLOG_YMD, argYMD = f'%s' % dt.datetime.now().strftime('%Y%m%d')):\n",
    "    #print(\"[main]\")\n",
    "    #LOG_YMD = argLOG_YMD\n",
    "    envset(argLOG_YMD, argYMD)\n",
    "\n",
    "    #SMBコネクション生成\n",
    "    #ret, conn = SMBFileList()\n",
    "    ret ,conn = SMBFileList()\n",
    "    assert ret == True\n",
    "\n",
    "    #SMBファイル一覧\n",
    "    #items = []\n",
    "    items = conn.listPath(\n",
    "        SHARE_NAME,\n",
    "        FILE_TO_PATH\n",
    "    )\n",
    "    assert len(items) > 0\n",
    "            \n",
    "    #FTPログヘッダー\n",
    "    #order = [\n",
    "    #    \"date\",\"time\",\"c-ip\",\"cs-username\",\"s-ip\",\n",
    "    #    \"s-port\",\"cs-method\",\"cs-uri-stem\",\"sc-status\",\"sc-win32-status\",\n",
    "    #    \"sc-substatus\",\"time-taken\",\"x-session\",\"x-fullpath\"\n",
    "    #]\n",
    "    #FTPログDataFrame\n",
    "    df_res = pd.DataFrame(columns = order)\n",
    "    df_concat = pd.DataFrame(columns = logs_head)\n",
    "    #print('<==========>')\n",
    "    def proc1(argfilename, df_concat, df_res, OUT_FILE):\n",
    "        df_concat = pd.concat([df_concat, df_res])\n",
    "        df_concat = df_concat.drop(['date','time'], axis=1) \n",
    "        #print(OUT_FILE)\n",
    "        df_concat.index = pd.DatetimeIndex(df_concat.timestamp, name='timestamp')\n",
    "        df_concat.index = df_concat.index.tz_localize('UTC')\n",
    "        df_concat.index = df_concat.index.tz_convert('Asia/Tokyo')\n",
    "        df_concat.timestamp = df_concat.index\n",
    "        df_concat = df_concat.reset_index(drop=True)\n",
    "        df_concat.to_csv(OUT_FILE)\n",
    "        #print(df_concat.info())\n",
    "        df_concat.to_pickle(picklepath)\n",
    "    \n",
    "    #print('<==========>')\n",
    "    FILE_NUMBER = 0\n",
    "    FILE_SIZE = 300000000\n",
    "    FILE_SIZE_CUR = 0\n",
    "    filenames(FILE_NUMBER)\n",
    "    \n",
    "    for item in items:\n",
    "        #print(f'%s %d bytes' % (item.filename, item.alloc_size)) \n",
    "        if(not item.isDirectory and \n",
    "            re.search(LOG_YMD, item.filename)):\n",
    "            print(f'%s %d bytes' % (item.filename, item.alloc_size)) \n",
    "            FILE_SIZE_CUR += item.alloc_size\n",
    "            if(int(FILE_SIZE_CUR/FILE_SIZE) > 0):\n",
    "                FILE_NUMBER += 1\n",
    "                FILE_SIZE_CUR = item.alloc_size\n",
    "                proc1(item.filename, df_concat,df_res, OUT_FILE)\n",
    "                df_res = df_res[:0]\n",
    "                df_concat = df_concat[:0]\n",
    "                gc.collect()                \n",
    "                \n",
    "            filenames(FILE_NUMBER)\n",
    "            LogWrite(item.filename, conn)\n",
    "            df_res = pd.concat([df_res, LogRead(item.filename, 3)])\n",
    "            \n",
    "    conn.close()\n",
    "    \n",
    "    proc1(item.filename, df_concat,df_res, OUT_FILE)\n",
    "    df_res = df_res[:0]\n",
    "    df_concat = df_concat[:0]\n",
    "    gc.collect()                \n",
    "    return FILE_NUMBER\n",
    "    #assert 0 > 1"
   ]
  },
  {
   "cell_type": "code",
   "execution_count": 9,
   "id": "9141642f-8bea-48e3-9087-6e6b9457f2e9",
   "metadata": {},
   "outputs": [],
   "source": [
    "def recov(FILE_NUMBER, argLOG_YMD, argYMD = f'%s' % dt.datetime.now().strftime('%Y%m%d')):\n",
    "    envset(argLOG_YMD, argYMD)\n",
    "    filenames(FILE_NUMBER)\n",
    "    #picklepath = f'{OUT_PATH}{YMD}_{remote_hostname}_{argLOG_YMD}_FtpLogs.csv.pickle'\n",
    "    with open(picklepath, mode='rb') as fp:\n",
    "        df_concat = pickle.load(fp)\n",
    "    \n",
    "    df_concat['index'] = df_concat.reset_index().index\n",
    "    print(len(df_concat['x-session'].unique()))\n",
    "    df_min = df_concat.groupby('x-session', as_index=False)[['index','timestamp']].min()\n",
    "    df_max = df_concat.groupby('x-session', as_index=False)[['index','timestamp']].max()\n",
    "    df_min = df_min.rename(columns={'index':'index_min', 'timestamp':'timestamp_min'})\n",
    "    df_max = df_max.rename(columns={'index':'index_max', 'timestamp':'timestamp_max'})\n",
    "    df2 = pd.merge(df_min,df_max, on='x-session')\n",
    "    \n",
    "    df_group = df_concat.groupby(['x-session','c-ip','s-ip'], as_index=False)[['index']].min()\n",
    "    #print(df_group.info())\n",
    "    \n",
    "    df3 = pd.merge(df2,df_group, on='x-session')\n",
    "\n",
    "    df3['timestamp_diff'] = df3['timestamp_max'] - df3['timestamp_min']\n",
    "    #df3['timestamp_ts'] = df3['timestamp_diff'].map(lambda x: x.total_seconds())\n",
    "    df3['timestamp_ts'] = df3['timestamp_diff'].dt.total_seconds() + 1\n",
    "    #display(df3)\n",
    "    df3 = df3.drop(['index','timestamp_diff'], axis=1) \n",
    "    df3['timestamp'] = df3['timestamp_min'].dt.strftime('%Y/%m/%d %H:%M:%S')\n",
    "    df3['count'] = 1\n",
    "    #\n",
    "    print(df3.info())\n",
    "    ##df3.to_csv(OUT_SUM_FILE)\n",
    "    return df3"
   ]
  },
  {
   "cell_type": "code",
   "execution_count": 10,
   "id": "2a278b4f-efef-4c28-a2f5-f2d428fc8776",
   "metadata": {},
   "outputs": [],
   "source": [
    "def graph(df3):\n",
    "    import matplotlib.pyplot as plt\n",
    "    import collections\n",
    "    import itertools\n",
    "    import warnings\n",
    "    warnings.filterwarnings('ignore')\n",
    "    # matplotlib日本語化対応\n",
    "    import japanize_matplotlib\n",
    "\n",
    "    all_from_list = df3['c-ip'].tolist()\n",
    "    c = collections.Counter(df3['c-ip'].tolist())\n",
    "\n",
    "    tags = pd.Series(c)\n",
    "    #print(tags)\n",
    "    df4 = df3.copy()\n",
    "    df4.set_index('timestamp_min', inplace=True)\n",
    "\n",
    "    df_tag_list = []\n",
    "    # 先頭10\n",
    "    top_tag_list = tags.sort_values(ascending=False).index.tolist()\n",
    "\n",
    "    for t in top_tag_list:\n",
    "        print(t)\n",
    "        df_tag = df3[df3['c-ip'].apply(lambda x: t in x)]\n",
    "        df_tag_list.append(df4[['timestamp_ts']].resample('H').sum())\n",
    "\n",
    "    df_tags = pd.concat(df_tag_list, axis=1)\n",
    "    df_tags.columns = top_tag_list\n",
    "\n",
    "    df_tags[:-1].plot(stacked=True,figsize=(10, 4), title='上位10接続推移')\n",
    "    plt.legend(title=\"接続先\", bbox_to_anchor=(1.05, 1)) # <-- ココ\n",
    "    plt.show()\n",
    "\n",
    "    df_tags[:-1].plot.bar(stacked=True, figsize=(10, 4), title='上位10接続推移積み上げ')\n",
    "    plt.legend(title=\"接続先\", bbox_to_anchor=(1.05, 1)) # <-- ココ\n",
    "    plt.show()\n"
   ]
  },
  {
   "cell_type": "code",
   "execution_count": 12,
   "id": "85a736b1-816d-45fc-89a4-531cea39d92e",
   "metadata": {},
   "outputs": [
    {
     "name": "stdout",
     "output_type": "stream",
     "text": [
      "[IN] YMD: 2203\n",
      "ENV                 :HONBAN         \n",
      "ip_address          :172.30.4.193   \n",
      "user                :Administrator  \n",
      "password            :panic          \n",
      "remote_hostname     :SESV400        \n",
      "SHARE_NAME          :d$             \n",
      "OUT_PATH            :/home/jovyan/datasets/Ftplogs/Output/\n",
      "LOG_PATH            :/home/jovyan/datasets/Ftplogs/SESV400/\n",
      "YMD                 :20220408       \n",
      "LOG_YMD             :2203           \n",
      "==================================================\n",
      "True\n",
      "OUT_FILE            :/home/jovyan/datasets/Ftplogs/Output/Log/20220408_SESV400_2203_00_FtpLogs.csv\n",
      "picklepath          :/home/jovyan/datasets/Ftplogs/Output/Pickle/20220408_SESV400_2203_00_FtpLogs.csv.pickle\n",
      "OUT_SUM_FILE        :/home/jovyan/datasets/Ftplogs/Output/Sumary/20220408_SESV400_2203_FtpLogsSumary.csv\n",
      "u_ex220301.log 72343552 bytes\n",
      "OUT_FILE            :/home/jovyan/datasets/Ftplogs/Output/Log/20220408_SESV400_2203_00_FtpLogs.csv\n",
      "picklepath          :/home/jovyan/datasets/Ftplogs/Output/Pickle/20220408_SESV400_2203_00_FtpLogs.csv.pickle\n",
      "OUT_SUM_FILE        :/home/jovyan/datasets/Ftplogs/Output/Sumary/20220408_SESV400_2203_FtpLogsSumary.csv\n",
      "\u001b[31m\u001b[1mReading file: /home/jovyan/datasets/Ftplogs/SESV400/u_ex220301.log\u001b[0m\n"
     ]
    },
    {
     "data": {
      "application/vnd.jupyter.widget-view+json": {
       "model_id": "ad0016ceeec24b35be43af0ca163c44d",
       "version_major": 2,
       "version_minor": 0
      },
      "text/plain": [
       "chunks read:   0%|          | 0/533906 [00:00<?, ?it/s]"
      ]
     },
     "metadata": {},
     "output_type": "display_data"
    },
    {
     "name": "stdout",
     "output_type": "stream",
     "text": [
      "u_ex220302.log 72241152 bytes\n",
      "OUT_FILE            :/home/jovyan/datasets/Ftplogs/Output/Log/20220408_SESV400_2203_00_FtpLogs.csv\n",
      "picklepath          :/home/jovyan/datasets/Ftplogs/Output/Pickle/20220408_SESV400_2203_00_FtpLogs.csv.pickle\n",
      "OUT_SUM_FILE        :/home/jovyan/datasets/Ftplogs/Output/Sumary/20220408_SESV400_2203_FtpLogsSumary.csv\n",
      "\u001b[31m\u001b[1mReading file: /home/jovyan/datasets/Ftplogs/SESV400/u_ex220302.log\u001b[0m\n"
     ]
    },
    {
     "data": {
      "application/vnd.jupyter.widget-view+json": {
       "model_id": "7817e9f2e98e48dcb4355af3e53543b2",
       "version_major": 2,
       "version_minor": 0
      },
      "text/plain": [
       "chunks read:   0%|          | 0/536012 [00:00<?, ?it/s]"
      ]
     },
     "metadata": {},
     "output_type": "display_data"
    },
    {
     "name": "stdout",
     "output_type": "stream",
     "text": [
      "u_ex220303.log 71847936 bytes\n",
      "OUT_FILE            :/home/jovyan/datasets/Ftplogs/Output/Log/20220408_SESV400_2203_00_FtpLogs.csv\n",
      "picklepath          :/home/jovyan/datasets/Ftplogs/Output/Pickle/20220408_SESV400_2203_00_FtpLogs.csv.pickle\n",
      "OUT_SUM_FILE        :/home/jovyan/datasets/Ftplogs/Output/Sumary/20220408_SESV400_2203_FtpLogsSumary.csv\n",
      "\u001b[31m\u001b[1mReading file: /home/jovyan/datasets/Ftplogs/SESV400/u_ex220303.log\u001b[0m\n"
     ]
    },
    {
     "data": {
      "application/vnd.jupyter.widget-view+json": {
       "model_id": "0be47e8f38fd4ffa841cf8307afb1421",
       "version_major": 2,
       "version_minor": 0
      },
      "text/plain": [
       "chunks read:   0%|          | 0/532704 [00:00<?, ?it/s]"
      ]
     },
     "metadata": {},
     "output_type": "display_data"
    },
    {
     "name": "stdout",
     "output_type": "stream",
     "text": [
      "u_ex220304.log 71376896 bytes\n",
      "OUT_FILE            :/home/jovyan/datasets/Ftplogs/Output/Log/20220408_SESV400_2203_00_FtpLogs.csv\n",
      "picklepath          :/home/jovyan/datasets/Ftplogs/Output/Pickle/20220408_SESV400_2203_00_FtpLogs.csv.pickle\n",
      "OUT_SUM_FILE        :/home/jovyan/datasets/Ftplogs/Output/Sumary/20220408_SESV400_2203_FtpLogsSumary.csv\n",
      "\u001b[31m\u001b[1mReading file: /home/jovyan/datasets/Ftplogs/SESV400/u_ex220304.log\u001b[0m\n"
     ]
    },
    {
     "data": {
      "application/vnd.jupyter.widget-view+json": {
       "model_id": "fa547f52d8064e75a92d4e4bf3861629",
       "version_major": 2,
       "version_minor": 0
      },
      "text/plain": [
       "chunks read:   0%|          | 0/530190 [00:00<?, ?it/s]"
      ]
     },
     "metadata": {},
     "output_type": "display_data"
    },
    {
     "name": "stdout",
     "output_type": "stream",
     "text": [
      "u_ex220305.log 57737216 bytes\n",
      "OUT_FILE            :/home/jovyan/datasets/Ftplogs/Output/Log/20220408_SESV400_2203_01_FtpLogs.csv\n",
      "picklepath          :/home/jovyan/datasets/Ftplogs/Output/Pickle/20220408_SESV400_2203_01_FtpLogs.csv.pickle\n",
      "OUT_SUM_FILE        :/home/jovyan/datasets/Ftplogs/Output/Sumary/20220408_SESV400_2203_FtpLogsSumary.csv\n",
      "\u001b[31m\u001b[1mReading file: /home/jovyan/datasets/Ftplogs/SESV400/u_ex220305.log\u001b[0m\n"
     ]
    },
    {
     "data": {
      "application/vnd.jupyter.widget-view+json": {
       "model_id": "ce9d21324f504707af34e4682e790515",
       "version_major": 2,
       "version_minor": 0
      },
      "text/plain": [
       "chunks read:   0%|          | 0/435931 [00:00<?, ?it/s]"
      ]
     },
     "metadata": {},
     "output_type": "display_data"
    },
    {
     "name": "stdout",
     "output_type": "stream",
     "text": [
      "u_ex220306.log 36233216 bytes\n",
      "OUT_FILE            :/home/jovyan/datasets/Ftplogs/Output/Log/20220408_SESV400_2203_01_FtpLogs.csv\n",
      "picklepath          :/home/jovyan/datasets/Ftplogs/Output/Pickle/20220408_SESV400_2203_01_FtpLogs.csv.pickle\n",
      "OUT_SUM_FILE        :/home/jovyan/datasets/Ftplogs/Output/Sumary/20220408_SESV400_2203_FtpLogsSumary.csv\n",
      "\u001b[31m\u001b[1mReading file: /home/jovyan/datasets/Ftplogs/SESV400/u_ex220306.log\u001b[0m\n"
     ]
    },
    {
     "data": {
      "application/vnd.jupyter.widget-view+json": {
       "model_id": "dd9059dc5a9b40f583f2ee8645f26f50",
       "version_major": 2,
       "version_minor": 0
      },
      "text/plain": [
       "chunks read:   0%|          | 0/274104 [00:00<?, ?it/s]"
      ]
     },
     "metadata": {},
     "output_type": "display_data"
    },
    {
     "name": "stdout",
     "output_type": "stream",
     "text": [
      "u_ex220307.log 66715648 bytes\n",
      "OUT_FILE            :/home/jovyan/datasets/Ftplogs/Output/Log/20220408_SESV400_2203_01_FtpLogs.csv\n",
      "picklepath          :/home/jovyan/datasets/Ftplogs/Output/Pickle/20220408_SESV400_2203_01_FtpLogs.csv.pickle\n",
      "OUT_SUM_FILE        :/home/jovyan/datasets/Ftplogs/Output/Sumary/20220408_SESV400_2203_FtpLogsSumary.csv\n",
      "\u001b[31m\u001b[1mReading file: /home/jovyan/datasets/Ftplogs/SESV400/u_ex220307.log\u001b[0m\n"
     ]
    },
    {
     "data": {
      "application/vnd.jupyter.widget-view+json": {
       "model_id": "46b809ed76c5440681d3e45b1163d933",
       "version_major": 2,
       "version_minor": 0
      },
      "text/plain": [
       "chunks read:   0%|          | 0/495019 [00:00<?, ?it/s]"
      ]
     },
     "metadata": {},
     "output_type": "display_data"
    },
    {
     "name": "stdout",
     "output_type": "stream",
     "text": [
      "u_ex220308.log 65785856 bytes\n",
      "OUT_FILE            :/home/jovyan/datasets/Ftplogs/Output/Log/20220408_SESV400_2203_01_FtpLogs.csv\n",
      "picklepath          :/home/jovyan/datasets/Ftplogs/Output/Pickle/20220408_SESV400_2203_01_FtpLogs.csv.pickle\n",
      "OUT_SUM_FILE        :/home/jovyan/datasets/Ftplogs/Output/Sumary/20220408_SESV400_2203_FtpLogsSumary.csv\n",
      "\u001b[31m\u001b[1mReading file: /home/jovyan/datasets/Ftplogs/SESV400/u_ex220308.log\u001b[0m\n"
     ]
    },
    {
     "data": {
      "application/vnd.jupyter.widget-view+json": {
       "model_id": "0d037663e3a34a8fafc1afa7fdc46e1b",
       "version_major": 2,
       "version_minor": 0
      },
      "text/plain": [
       "chunks read:   0%|          | 0/487528 [00:00<?, ?it/s]"
      ]
     },
     "metadata": {},
     "output_type": "display_data"
    },
    {
     "name": "stdout",
     "output_type": "stream",
     "text": [
      "u_ex220309.log 65462272 bytes\n",
      "OUT_FILE            :/home/jovyan/datasets/Ftplogs/Output/Log/20220408_SESV400_2203_01_FtpLogs.csv\n",
      "picklepath          :/home/jovyan/datasets/Ftplogs/Output/Pickle/20220408_SESV400_2203_01_FtpLogs.csv.pickle\n",
      "OUT_SUM_FILE        :/home/jovyan/datasets/Ftplogs/Output/Sumary/20220408_SESV400_2203_FtpLogsSumary.csv\n",
      "\u001b[31m\u001b[1mReading file: /home/jovyan/datasets/Ftplogs/SESV400/u_ex220309.log\u001b[0m\n"
     ]
    },
    {
     "data": {
      "application/vnd.jupyter.widget-view+json": {
       "model_id": "56e582eecabc49929a441128245db55e",
       "version_major": 2,
       "version_minor": 0
      },
      "text/plain": [
       "chunks read:   0%|          | 0/485364 [00:00<?, ?it/s]"
      ]
     },
     "metadata": {},
     "output_type": "display_data"
    },
    {
     "name": "stdout",
     "output_type": "stream",
     "text": [
      "u_ex220310.log 65200128 bytes\n",
      "OUT_FILE            :/home/jovyan/datasets/Ftplogs/Output/Log/20220408_SESV400_2203_02_FtpLogs.csv\n",
      "picklepath          :/home/jovyan/datasets/Ftplogs/Output/Pickle/20220408_SESV400_2203_02_FtpLogs.csv.pickle\n",
      "OUT_SUM_FILE        :/home/jovyan/datasets/Ftplogs/Output/Sumary/20220408_SESV400_2203_FtpLogsSumary.csv\n",
      "\u001b[31m\u001b[1mReading file: /home/jovyan/datasets/Ftplogs/SESV400/u_ex220310.log\u001b[0m\n"
     ]
    },
    {
     "data": {
      "application/vnd.jupyter.widget-view+json": {
       "model_id": "87b75827c4b94400a6666fa7e061347c",
       "version_major": 2,
       "version_minor": 0
      },
      "text/plain": [
       "chunks read:   0%|          | 0/483336 [00:00<?, ?it/s]"
      ]
     },
     "metadata": {},
     "output_type": "display_data"
    },
    {
     "name": "stdout",
     "output_type": "stream",
     "text": [
      "u_ex220311.log 64835584 bytes\n",
      "OUT_FILE            :/home/jovyan/datasets/Ftplogs/Output/Log/20220408_SESV400_2203_02_FtpLogs.csv\n",
      "picklepath          :/home/jovyan/datasets/Ftplogs/Output/Pickle/20220408_SESV400_2203_02_FtpLogs.csv.pickle\n",
      "OUT_SUM_FILE        :/home/jovyan/datasets/Ftplogs/Output/Sumary/20220408_SESV400_2203_FtpLogsSumary.csv\n",
      "\u001b[31m\u001b[1mReading file: /home/jovyan/datasets/Ftplogs/SESV400/u_ex220311.log\u001b[0m\n"
     ]
    },
    {
     "data": {
      "application/vnd.jupyter.widget-view+json": {
       "model_id": "57fc129d4bd149518a3bd2420d581686",
       "version_major": 2,
       "version_minor": 0
      },
      "text/plain": [
       "chunks read:   0%|          | 0/481089 [00:00<?, ?it/s]"
      ]
     },
     "metadata": {},
     "output_type": "display_data"
    },
    {
     "name": "stdout",
     "output_type": "stream",
     "text": [
      "u_ex220312.log 51412992 bytes\n",
      "OUT_FILE            :/home/jovyan/datasets/Ftplogs/Output/Log/20220408_SESV400_2203_02_FtpLogs.csv\n",
      "picklepath          :/home/jovyan/datasets/Ftplogs/Output/Pickle/20220408_SESV400_2203_02_FtpLogs.csv.pickle\n",
      "OUT_SUM_FILE        :/home/jovyan/datasets/Ftplogs/Output/Sumary/20220408_SESV400_2203_FtpLogsSumary.csv\n",
      "\u001b[31m\u001b[1mReading file: /home/jovyan/datasets/Ftplogs/SESV400/u_ex220312.log\u001b[0m\n"
     ]
    },
    {
     "data": {
      "application/vnd.jupyter.widget-view+json": {
       "model_id": "18b27452d47d489597bd5e96b6fa4918",
       "version_major": 2,
       "version_minor": 0
      },
      "text/plain": [
       "chunks read:   0%|          | 0/388109 [00:00<?, ?it/s]"
      ]
     },
     "metadata": {},
     "output_type": "display_data"
    },
    {
     "name": "stdout",
     "output_type": "stream",
     "text": [
      "u_ex220313.log 29581312 bytes\n",
      "OUT_FILE            :/home/jovyan/datasets/Ftplogs/Output/Log/20220408_SESV400_2203_02_FtpLogs.csv\n",
      "picklepath          :/home/jovyan/datasets/Ftplogs/Output/Pickle/20220408_SESV400_2203_02_FtpLogs.csv.pickle\n",
      "OUT_SUM_FILE        :/home/jovyan/datasets/Ftplogs/Output/Sumary/20220408_SESV400_2203_FtpLogsSumary.csv\n",
      "\u001b[31m\u001b[1mReading file: /home/jovyan/datasets/Ftplogs/SESV400/u_ex220313.log\u001b[0m\n"
     ]
    },
    {
     "data": {
      "application/vnd.jupyter.widget-view+json": {
       "model_id": "4696811d6bbc4a9f8d8cea09699c992d",
       "version_major": 2,
       "version_minor": 0
      },
      "text/plain": [
       "chunks read:   0%|          | 0/224793 [00:00<?, ?it/s]"
      ]
     },
     "metadata": {},
     "output_type": "display_data"
    },
    {
     "name": "stdout",
     "output_type": "stream",
     "text": [
      "u_ex220314.log 64589824 bytes\n",
      "OUT_FILE            :/home/jovyan/datasets/Ftplogs/Output/Log/20220408_SESV400_2203_02_FtpLogs.csv\n",
      "picklepath          :/home/jovyan/datasets/Ftplogs/Output/Pickle/20220408_SESV400_2203_02_FtpLogs.csv.pickle\n",
      "OUT_SUM_FILE        :/home/jovyan/datasets/Ftplogs/Output/Sumary/20220408_SESV400_2203_FtpLogsSumary.csv\n",
      "\u001b[31m\u001b[1mReading file: /home/jovyan/datasets/Ftplogs/SESV400/u_ex220314.log\u001b[0m\n"
     ]
    },
    {
     "data": {
      "application/vnd.jupyter.widget-view+json": {
       "model_id": "6ff32dc029fe4a819684832e71b7b9ab",
       "version_major": 2,
       "version_minor": 0
      },
      "text/plain": [
       "chunks read:   0%|          | 0/479596 [00:00<?, ?it/s]"
      ]
     },
     "metadata": {},
     "output_type": "display_data"
    },
    {
     "name": "stdout",
     "output_type": "stream",
     "text": [
      "u_ex220315.log 64446464 bytes\n",
      "OUT_FILE            :/home/jovyan/datasets/Ftplogs/Output/Log/20220408_SESV400_2203_03_FtpLogs.csv\n",
      "picklepath          :/home/jovyan/datasets/Ftplogs/Output/Pickle/20220408_SESV400_2203_03_FtpLogs.csv.pickle\n",
      "OUT_SUM_FILE        :/home/jovyan/datasets/Ftplogs/Output/Sumary/20220408_SESV400_2203_FtpLogsSumary.csv\n",
      "\u001b[31m\u001b[1mReading file: /home/jovyan/datasets/Ftplogs/SESV400/u_ex220315.log\u001b[0m\n"
     ]
    },
    {
     "data": {
      "application/vnd.jupyter.widget-view+json": {
       "model_id": "f9773ac5f613495c893262f9840c832f",
       "version_major": 2,
       "version_minor": 0
      },
      "text/plain": [
       "chunks read:   0%|          | 0/477793 [00:00<?, ?it/s]"
      ]
     },
     "metadata": {},
     "output_type": "display_data"
    },
    {
     "name": "stdout",
     "output_type": "stream",
     "text": [
      "u_ex220316.log 64831488 bytes\n",
      "OUT_FILE            :/home/jovyan/datasets/Ftplogs/Output/Log/20220408_SESV400_2203_03_FtpLogs.csv\n",
      "picklepath          :/home/jovyan/datasets/Ftplogs/Output/Pickle/20220408_SESV400_2203_03_FtpLogs.csv.pickle\n",
      "OUT_SUM_FILE        :/home/jovyan/datasets/Ftplogs/Output/Sumary/20220408_SESV400_2203_FtpLogsSumary.csv\n",
      "\u001b[31m\u001b[1mReading file: /home/jovyan/datasets/Ftplogs/SESV400/u_ex220316.log\u001b[0m\n"
     ]
    },
    {
     "data": {
      "application/vnd.jupyter.widget-view+json": {
       "model_id": "b2488604dde94339ab0f979a134b27e9",
       "version_major": 2,
       "version_minor": 0
      },
      "text/plain": [
       "chunks read:   0%|          | 0/480561 [00:00<?, ?it/s]"
      ]
     },
     "metadata": {},
     "output_type": "display_data"
    },
    {
     "name": "stdout",
     "output_type": "stream",
     "text": [
      "u_ex220317.log 65437696 bytes\n",
      "OUT_FILE            :/home/jovyan/datasets/Ftplogs/Output/Log/20220408_SESV400_2203_03_FtpLogs.csv\n",
      "picklepath          :/home/jovyan/datasets/Ftplogs/Output/Pickle/20220408_SESV400_2203_03_FtpLogs.csv.pickle\n",
      "OUT_SUM_FILE        :/home/jovyan/datasets/Ftplogs/Output/Sumary/20220408_SESV400_2203_FtpLogsSumary.csv\n",
      "\u001b[31m\u001b[1mReading file: /home/jovyan/datasets/Ftplogs/SESV400/u_ex220317.log\u001b[0m\n"
     ]
    },
    {
     "data": {
      "application/vnd.jupyter.widget-view+json": {
       "model_id": "48977b09d4e7432094be7d835d5a496c",
       "version_major": 2,
       "version_minor": 0
      },
      "text/plain": [
       "chunks read:   0%|          | 0/484951 [00:00<?, ?it/s]"
      ]
     },
     "metadata": {},
     "output_type": "display_data"
    },
    {
     "name": "stdout",
     "output_type": "stream",
     "text": [
      "u_ex220318.log 65204224 bytes\n",
      "OUT_FILE            :/home/jovyan/datasets/Ftplogs/Output/Log/20220408_SESV400_2203_03_FtpLogs.csv\n",
      "picklepath          :/home/jovyan/datasets/Ftplogs/Output/Pickle/20220408_SESV400_2203_03_FtpLogs.csv.pickle\n",
      "OUT_SUM_FILE        :/home/jovyan/datasets/Ftplogs/Output/Sumary/20220408_SESV400_2203_FtpLogsSumary.csv\n",
      "\u001b[31m\u001b[1mReading file: /home/jovyan/datasets/Ftplogs/SESV400/u_ex220318.log\u001b[0m\n"
     ]
    },
    {
     "data": {
      "application/vnd.jupyter.widget-view+json": {
       "model_id": "1b969273e2fd4c3697fc2d21a908a23f",
       "version_major": 2,
       "version_minor": 0
      },
      "text/plain": [
       "chunks read:   0%|          | 0/483718 [00:00<?, ?it/s]"
      ]
     },
     "metadata": {},
     "output_type": "display_data"
    },
    {
     "name": "stdout",
     "output_type": "stream",
     "text": [
      "u_ex220319.log 51380224 bytes\n",
      "OUT_FILE            :/home/jovyan/datasets/Ftplogs/Output/Log/20220408_SESV400_2203_04_FtpLogs.csv\n",
      "picklepath          :/home/jovyan/datasets/Ftplogs/Output/Pickle/20220408_SESV400_2203_04_FtpLogs.csv.pickle\n",
      "OUT_SUM_FILE        :/home/jovyan/datasets/Ftplogs/Output/Sumary/20220408_SESV400_2203_FtpLogsSumary.csv\n",
      "\u001b[31m\u001b[1mReading file: /home/jovyan/datasets/Ftplogs/SESV400/u_ex220319.log\u001b[0m\n"
     ]
    },
    {
     "data": {
      "application/vnd.jupyter.widget-view+json": {
       "model_id": "c874d7db9c764c2b93aecc91f9efc95a",
       "version_major": 2,
       "version_minor": 0
      },
      "text/plain": [
       "chunks read:   0%|          | 0/387854 [00:00<?, ?it/s]"
      ]
     },
     "metadata": {},
     "output_type": "display_data"
    },
    {
     "name": "stdout",
     "output_type": "stream",
     "text": [
      "u_ex220320.log 29212672 bytes\n",
      "OUT_FILE            :/home/jovyan/datasets/Ftplogs/Output/Log/20220408_SESV400_2203_04_FtpLogs.csv\n",
      "picklepath          :/home/jovyan/datasets/Ftplogs/Output/Pickle/20220408_SESV400_2203_04_FtpLogs.csv.pickle\n",
      "OUT_SUM_FILE        :/home/jovyan/datasets/Ftplogs/Output/Sumary/20220408_SESV400_2203_FtpLogsSumary.csv\n",
      "\u001b[31m\u001b[1mReading file: /home/jovyan/datasets/Ftplogs/SESV400/u_ex220320.log\u001b[0m\n"
     ]
    },
    {
     "data": {
      "application/vnd.jupyter.widget-view+json": {
       "model_id": "cb861850e8c8488a9fe40dc10a33ba94",
       "version_major": 2,
       "version_minor": 0
      },
      "text/plain": [
       "chunks read:   0%|          | 0/221998 [00:00<?, ?it/s]"
      ]
     },
     "metadata": {},
     "output_type": "display_data"
    },
    {
     "name": "stdout",
     "output_type": "stream",
     "text": [
      "u_ex220321.log 54013952 bytes\n",
      "OUT_FILE            :/home/jovyan/datasets/Ftplogs/Output/Log/20220408_SESV400_2203_04_FtpLogs.csv\n",
      "picklepath          :/home/jovyan/datasets/Ftplogs/Output/Pickle/20220408_SESV400_2203_04_FtpLogs.csv.pickle\n",
      "OUT_SUM_FILE        :/home/jovyan/datasets/Ftplogs/Output/Sumary/20220408_SESV400_2203_FtpLogsSumary.csv\n",
      "\u001b[31m\u001b[1mReading file: /home/jovyan/datasets/Ftplogs/SESV400/u_ex220321.log\u001b[0m\n"
     ]
    },
    {
     "data": {
      "application/vnd.jupyter.widget-view+json": {
       "model_id": "302a3e83c6ac4db4bd4f359c60b918fa",
       "version_major": 2,
       "version_minor": 0
      },
      "text/plain": [
       "chunks read:   0%|          | 0/409267 [00:00<?, ?it/s]"
      ]
     },
     "metadata": {},
     "output_type": "display_data"
    },
    {
     "name": "stdout",
     "output_type": "stream",
     "text": [
      "u_ex220322.log 65658880 bytes\n",
      "OUT_FILE            :/home/jovyan/datasets/Ftplogs/Output/Log/20220408_SESV400_2203_04_FtpLogs.csv\n",
      "picklepath          :/home/jovyan/datasets/Ftplogs/Output/Pickle/20220408_SESV400_2203_04_FtpLogs.csv.pickle\n",
      "OUT_SUM_FILE        :/home/jovyan/datasets/Ftplogs/Output/Sumary/20220408_SESV400_2203_FtpLogsSumary.csv\n",
      "\u001b[31m\u001b[1mReading file: /home/jovyan/datasets/Ftplogs/SESV400/u_ex220322.log\u001b[0m\n"
     ]
    },
    {
     "data": {
      "application/vnd.jupyter.widget-view+json": {
       "model_id": "edca98a8c7b64ba6bfd6e69b5d06a13a",
       "version_major": 2,
       "version_minor": 0
      },
      "text/plain": [
       "chunks read:   0%|          | 0/485975 [00:00<?, ?it/s]"
      ]
     },
     "metadata": {},
     "output_type": "display_data"
    },
    {
     "name": "stdout",
     "output_type": "stream",
     "text": [
      "u_ex220323.log 64843776 bytes\n",
      "OUT_FILE            :/home/jovyan/datasets/Ftplogs/Output/Log/20220408_SESV400_2203_04_FtpLogs.csv\n",
      "picklepath          :/home/jovyan/datasets/Ftplogs/Output/Pickle/20220408_SESV400_2203_04_FtpLogs.csv.pickle\n",
      "OUT_SUM_FILE        :/home/jovyan/datasets/Ftplogs/Output/Sumary/20220408_SESV400_2203_FtpLogsSumary.csv\n",
      "\u001b[31m\u001b[1mReading file: /home/jovyan/datasets/Ftplogs/SESV400/u_ex220323.log\u001b[0m\n"
     ]
    },
    {
     "data": {
      "application/vnd.jupyter.widget-view+json": {
       "model_id": "9094852b2faf4f69ad99eb7fe1a5fe1f",
       "version_major": 2,
       "version_minor": 0
      },
      "text/plain": [
       "chunks read:   0%|          | 0/480568 [00:00<?, ?it/s]"
      ]
     },
     "metadata": {},
     "output_type": "display_data"
    },
    {
     "name": "stdout",
     "output_type": "stream",
     "text": [
      "u_ex220324.log 64655360 bytes\n",
      "OUT_FILE            :/home/jovyan/datasets/Ftplogs/Output/Log/20220408_SESV400_2203_05_FtpLogs.csv\n",
      "picklepath          :/home/jovyan/datasets/Ftplogs/Output/Pickle/20220408_SESV400_2203_05_FtpLogs.csv.pickle\n",
      "OUT_SUM_FILE        :/home/jovyan/datasets/Ftplogs/Output/Sumary/20220408_SESV400_2203_FtpLogsSumary.csv\n",
      "\u001b[31m\u001b[1mReading file: /home/jovyan/datasets/Ftplogs/SESV400/u_ex220324.log\u001b[0m\n"
     ]
    },
    {
     "data": {
      "application/vnd.jupyter.widget-view+json": {
       "model_id": "c0e107c72c9143e2a86d7afcd73cf065",
       "version_major": 2,
       "version_minor": 0
      },
      "text/plain": [
       "chunks read:   0%|          | 0/479355 [00:00<?, ?it/s]"
      ]
     },
     "metadata": {},
     "output_type": "display_data"
    },
    {
     "name": "stdout",
     "output_type": "stream",
     "text": [
      "u_ex220325.log 65277952 bytes\n",
      "OUT_FILE            :/home/jovyan/datasets/Ftplogs/Output/Log/20220408_SESV400_2203_05_FtpLogs.csv\n",
      "picklepath          :/home/jovyan/datasets/Ftplogs/Output/Pickle/20220408_SESV400_2203_05_FtpLogs.csv.pickle\n",
      "OUT_SUM_FILE        :/home/jovyan/datasets/Ftplogs/Output/Sumary/20220408_SESV400_2203_FtpLogsSumary.csv\n",
      "\u001b[31m\u001b[1mReading file: /home/jovyan/datasets/Ftplogs/SESV400/u_ex220325.log\u001b[0m\n"
     ]
    },
    {
     "data": {
      "application/vnd.jupyter.widget-view+json": {
       "model_id": "cba5d106be8d4e3eab4927a49e11959b",
       "version_major": 2,
       "version_minor": 0
      },
      "text/plain": [
       "chunks read:   0%|          | 0/483940 [00:00<?, ?it/s]"
      ]
     },
     "metadata": {},
     "output_type": "display_data"
    },
    {
     "name": "stdout",
     "output_type": "stream",
     "text": [
      "u_ex220326.log 50974720 bytes\n",
      "OUT_FILE            :/home/jovyan/datasets/Ftplogs/Output/Log/20220408_SESV400_2203_05_FtpLogs.csv\n",
      "picklepath          :/home/jovyan/datasets/Ftplogs/Output/Pickle/20220408_SESV400_2203_05_FtpLogs.csv.pickle\n",
      "OUT_SUM_FILE        :/home/jovyan/datasets/Ftplogs/Output/Sumary/20220408_SESV400_2203_FtpLogsSumary.csv\n",
      "\u001b[31m\u001b[1mReading file: /home/jovyan/datasets/Ftplogs/SESV400/u_ex220326.log\u001b[0m\n"
     ]
    },
    {
     "data": {
      "application/vnd.jupyter.widget-view+json": {
       "model_id": "3868375890504bd39d010efe008c1e22",
       "version_major": 2,
       "version_minor": 0
      },
      "text/plain": [
       "chunks read:   0%|          | 0/384984 [00:00<?, ?it/s]"
      ]
     },
     "metadata": {},
     "output_type": "display_data"
    },
    {
     "name": "stdout",
     "output_type": "stream",
     "text": [
      "u_ex220327.log 29274112 bytes\n",
      "OUT_FILE            :/home/jovyan/datasets/Ftplogs/Output/Log/20220408_SESV400_2203_05_FtpLogs.csv\n",
      "picklepath          :/home/jovyan/datasets/Ftplogs/Output/Pickle/20220408_SESV400_2203_05_FtpLogs.csv.pickle\n",
      "OUT_SUM_FILE        :/home/jovyan/datasets/Ftplogs/Output/Sumary/20220408_SESV400_2203_FtpLogsSumary.csv\n",
      "\u001b[31m\u001b[1mReading file: /home/jovyan/datasets/Ftplogs/SESV400/u_ex220327.log\u001b[0m\n"
     ]
    },
    {
     "data": {
      "application/vnd.jupyter.widget-view+json": {
       "model_id": "b5b3c87290274c828d97f9b46c5d79de",
       "version_major": 2,
       "version_minor": 0
      },
      "text/plain": [
       "chunks read:   0%|          | 0/222150 [00:00<?, ?it/s]"
      ]
     },
     "metadata": {},
     "output_type": "display_data"
    },
    {
     "name": "stdout",
     "output_type": "stream",
     "text": [
      "u_ex220328.log 64471040 bytes\n",
      "OUT_FILE            :/home/jovyan/datasets/Ftplogs/Output/Log/20220408_SESV400_2203_05_FtpLogs.csv\n",
      "picklepath          :/home/jovyan/datasets/Ftplogs/Output/Pickle/20220408_SESV400_2203_05_FtpLogs.csv.pickle\n",
      "OUT_SUM_FILE        :/home/jovyan/datasets/Ftplogs/Output/Sumary/20220408_SESV400_2203_FtpLogsSumary.csv\n",
      "\u001b[31m\u001b[1mReading file: /home/jovyan/datasets/Ftplogs/SESV400/u_ex220328.log\u001b[0m\n"
     ]
    },
    {
     "data": {
      "application/vnd.jupyter.widget-view+json": {
       "model_id": "31c3feeb3da946eaaf17db98ffdd1852",
       "version_major": 2,
       "version_minor": 0
      },
      "text/plain": [
       "chunks read:   0%|          | 0/478179 [00:00<?, ?it/s]"
      ]
     },
     "metadata": {},
     "output_type": "display_data"
    },
    {
     "name": "stdout",
     "output_type": "stream",
     "text": [
      "u_ex220329.log 65454080 bytes\n",
      "OUT_FILE            :/home/jovyan/datasets/Ftplogs/Output/Log/20220408_SESV400_2203_06_FtpLogs.csv\n",
      "picklepath          :/home/jovyan/datasets/Ftplogs/Output/Pickle/20220408_SESV400_2203_06_FtpLogs.csv.pickle\n",
      "OUT_SUM_FILE        :/home/jovyan/datasets/Ftplogs/Output/Sumary/20220408_SESV400_2203_FtpLogsSumary.csv\n",
      "\u001b[31m\u001b[1mReading file: /home/jovyan/datasets/Ftplogs/SESV400/u_ex220329.log\u001b[0m\n"
     ]
    },
    {
     "data": {
      "application/vnd.jupyter.widget-view+json": {
       "model_id": "ef0dd1e6ac21462e8bab5239c510a7b0",
       "version_major": 2,
       "version_minor": 0
      },
      "text/plain": [
       "chunks read:   0%|          | 0/484864 [00:00<?, ?it/s]"
      ]
     },
     "metadata": {},
     "output_type": "display_data"
    },
    {
     "name": "stdout",
     "output_type": "stream",
     "text": [
      "u_ex220330.log 66600960 bytes\n",
      "OUT_FILE            :/home/jovyan/datasets/Ftplogs/Output/Log/20220408_SESV400_2203_06_FtpLogs.csv\n",
      "picklepath          :/home/jovyan/datasets/Ftplogs/Output/Pickle/20220408_SESV400_2203_06_FtpLogs.csv.pickle\n",
      "OUT_SUM_FILE        :/home/jovyan/datasets/Ftplogs/Output/Sumary/20220408_SESV400_2203_FtpLogsSumary.csv\n",
      "\u001b[31m\u001b[1mReading file: /home/jovyan/datasets/Ftplogs/SESV400/u_ex220330.log\u001b[0m\n"
     ]
    },
    {
     "data": {
      "application/vnd.jupyter.widget-view+json": {
       "model_id": "c333199ff426472cbeb59c96ffdd7ff8",
       "version_major": 2,
       "version_minor": 0
      },
      "text/plain": [
       "chunks read:   0%|          | 0/491742 [00:00<?, ?it/s]"
      ]
     },
     "metadata": {},
     "output_type": "display_data"
    },
    {
     "name": "stdout",
     "output_type": "stream",
     "text": [
      "u_ex220331.log 68247552 bytes\n",
      "OUT_FILE            :/home/jovyan/datasets/Ftplogs/Output/Log/20220408_SESV400_2203_06_FtpLogs.csv\n",
      "picklepath          :/home/jovyan/datasets/Ftplogs/Output/Pickle/20220408_SESV400_2203_06_FtpLogs.csv.pickle\n",
      "OUT_SUM_FILE        :/home/jovyan/datasets/Ftplogs/Output/Sumary/20220408_SESV400_2203_FtpLogsSumary.csv\n",
      "\u001b[31m\u001b[1mReading file: /home/jovyan/datasets/Ftplogs/SESV400/u_ex220331.log\u001b[0m\n"
     ]
    },
    {
     "data": {
      "application/vnd.jupyter.widget-view+json": {
       "model_id": "e24f83e1b92143e29adc3a9aab7240b0",
       "version_major": 2,
       "version_minor": 0
      },
      "text/plain": [
       "chunks read:   0%|          | 0/503551 [00:00<?, ?it/s]"
      ]
     },
     "metadata": {},
     "output_type": "display_data"
    },
    {
     "name": "stdout",
     "output_type": "stream",
     "text": [
      "ENV                 :HONBAN         \n",
      "ip_address          :172.30.4.193   \n",
      "user                :Administrator  \n",
      "password            :panic          \n",
      "remote_hostname     :SESV400        \n",
      "SHARE_NAME          :d$             \n",
      "OUT_PATH            :/home/jovyan/datasets/Ftplogs/Output/\n",
      "LOG_PATH            :/home/jovyan/datasets/Ftplogs/SESV400/\n",
      "YMD                 :20220408       \n",
      "LOG_YMD             :2203           \n",
      "OUT_FILE            :/home/jovyan/datasets/Ftplogs/Output/Log/20220408_SESV400_2203_00_FtpLogs.csv\n",
      "picklepath          :/home/jovyan/datasets/Ftplogs/Output/Pickle/20220408_SESV400_2203_00_FtpLogs.csv.pickle\n",
      "OUT_SUM_FILE        :/home/jovyan/datasets/Ftplogs/Output/Sumary/20220408_SESV400_2203_FtpLogsSumary.csv\n",
      "135851\n",
      "<class 'pandas.core.frame.DataFrame'>\n",
      "Int64Index: 136053 entries, 0 to 136052\n",
      "Data columns (total 10 columns):\n",
      " #   Column         Non-Null Count   Dtype                     \n",
      "---  ------         --------------   -----                     \n",
      " 0   x-session      136053 non-null  object                    \n",
      " 1   index_min      136053 non-null  int64                     \n",
      " 2   timestamp_min  136053 non-null  datetime64[ns, Asia/Tokyo]\n",
      " 3   index_max      136053 non-null  int64                     \n",
      " 4   timestamp_max  136053 non-null  datetime64[ns, Asia/Tokyo]\n",
      " 5   c-ip           136053 non-null  object                    \n",
      " 6   s-ip           136053 non-null  object                    \n",
      " 7   timestamp_ts   136053 non-null  float64                   \n",
      " 8   timestamp      136053 non-null  object                    \n",
      " 9   count          136053 non-null  int64                     \n",
      "dtypes: datetime64[ns, Asia/Tokyo](2), float64(1), int64(3), object(4)\n",
      "memory usage: 11.4+ MB\n",
      "None\n",
      "ENV                 :HONBAN         \n",
      "ip_address          :172.30.4.193   \n",
      "user                :Administrator  \n",
      "password            :panic          \n",
      "remote_hostname     :SESV400        \n",
      "SHARE_NAME          :d$             \n",
      "OUT_PATH            :/home/jovyan/datasets/Ftplogs/Output/\n",
      "LOG_PATH            :/home/jovyan/datasets/Ftplogs/SESV400/\n",
      "YMD                 :20220408       \n",
      "LOG_YMD             :2203           \n",
      "OUT_FILE            :/home/jovyan/datasets/Ftplogs/Output/Log/20220408_SESV400_2203_01_FtpLogs.csv\n",
      "picklepath          :/home/jovyan/datasets/Ftplogs/Output/Pickle/20220408_SESV400_2203_01_FtpLogs.csv.pickle\n",
      "OUT_SUM_FILE        :/home/jovyan/datasets/Ftplogs/Output/Sumary/20220408_SESV400_2203_FtpLogsSumary.csv\n",
      "143747\n",
      "<class 'pandas.core.frame.DataFrame'>\n",
      "Int64Index: 143931 entries, 0 to 143930\n",
      "Data columns (total 10 columns):\n",
      " #   Column         Non-Null Count   Dtype                     \n",
      "---  ------         --------------   -----                     \n",
      " 0   x-session      143931 non-null  object                    \n",
      " 1   index_min      143931 non-null  int64                     \n",
      " 2   timestamp_min  143931 non-null  datetime64[ns, Asia/Tokyo]\n",
      " 3   index_max      143931 non-null  int64                     \n",
      " 4   timestamp_max  143931 non-null  datetime64[ns, Asia/Tokyo]\n",
      " 5   c-ip           143931 non-null  object                    \n",
      " 6   s-ip           143931 non-null  object                    \n",
      " 7   timestamp_ts   143931 non-null  float64                   \n",
      " 8   timestamp      143931 non-null  object                    \n",
      " 9   count          143931 non-null  int64                     \n",
      "dtypes: datetime64[ns, Asia/Tokyo](2), float64(1), int64(3), object(4)\n",
      "memory usage: 12.1+ MB\n",
      "None\n",
      "ENV                 :HONBAN         \n",
      "ip_address          :172.30.4.193   \n",
      "user                :Administrator  \n",
      "password            :panic          \n",
      "remote_hostname     :SESV400        \n",
      "SHARE_NAME          :d$             \n",
      "OUT_PATH            :/home/jovyan/datasets/Ftplogs/Output/\n",
      "LOG_PATH            :/home/jovyan/datasets/Ftplogs/SESV400/\n",
      "YMD                 :20220408       \n",
      "LOG_YMD             :2203           \n",
      "OUT_FILE            :/home/jovyan/datasets/Ftplogs/Output/Log/20220408_SESV400_2203_02_FtpLogs.csv\n",
      "picklepath          :/home/jovyan/datasets/Ftplogs/Output/Pickle/20220408_SESV400_2203_02_FtpLogs.csv.pickle\n",
      "OUT_SUM_FILE        :/home/jovyan/datasets/Ftplogs/Output/Sumary/20220408_SESV400_2203_FtpLogsSumary.csv\n",
      "134426\n",
      "<class 'pandas.core.frame.DataFrame'>\n",
      "Int64Index: 134601 entries, 0 to 134600\n",
      "Data columns (total 10 columns):\n",
      " #   Column         Non-Null Count   Dtype                     \n",
      "---  ------         --------------   -----                     \n",
      " 0   x-session      134601 non-null  object                    \n",
      " 1   index_min      134601 non-null  int64                     \n",
      " 2   timestamp_min  134601 non-null  datetime64[ns, Asia/Tokyo]\n",
      " 3   index_max      134601 non-null  int64                     \n",
      " 4   timestamp_max  134601 non-null  datetime64[ns, Asia/Tokyo]\n",
      " 5   c-ip           134601 non-null  object                    \n",
      " 6   s-ip           134601 non-null  object                    \n",
      " 7   timestamp_ts   134601 non-null  float64                   \n",
      " 8   timestamp      134601 non-null  object                    \n",
      " 9   count          134601 non-null  int64                     \n",
      "dtypes: datetime64[ns, Asia/Tokyo](2), float64(1), int64(3), object(4)\n",
      "memory usage: 11.3+ MB\n",
      "None\n",
      "ENV                 :HONBAN         \n",
      "ip_address          :172.30.4.193   \n",
      "user                :Administrator  \n",
      "password            :panic          \n",
      "remote_hostname     :SESV400        \n",
      "SHARE_NAME          :d$             \n",
      "OUT_PATH            :/home/jovyan/datasets/Ftplogs/Output/\n",
      "LOG_PATH            :/home/jovyan/datasets/Ftplogs/SESV400/\n",
      "YMD                 :20220408       \n",
      "LOG_YMD             :2203           \n",
      "OUT_FILE            :/home/jovyan/datasets/Ftplogs/Output/Log/20220408_SESV400_2203_03_FtpLogs.csv\n",
      "picklepath          :/home/jovyan/datasets/Ftplogs/Output/Pickle/20220408_SESV400_2203_03_FtpLogs.csv.pickle\n",
      "OUT_SUM_FILE        :/home/jovyan/datasets/Ftplogs/Output/Sumary/20220408_SESV400_2203_FtpLogsSumary.csv\n",
      "121717\n",
      "<class 'pandas.core.frame.DataFrame'>\n",
      "Int64Index: 121941 entries, 0 to 121940\n",
      "Data columns (total 10 columns):\n",
      " #   Column         Non-Null Count   Dtype                     \n",
      "---  ------         --------------   -----                     \n",
      " 0   x-session      121941 non-null  object                    \n",
      " 1   index_min      121941 non-null  int64                     \n",
      " 2   timestamp_min  121941 non-null  datetime64[ns, Asia/Tokyo]\n",
      " 3   index_max      121941 non-null  int64                     \n",
      " 4   timestamp_max  121941 non-null  datetime64[ns, Asia/Tokyo]\n",
      " 5   c-ip           121941 non-null  object                    \n",
      " 6   s-ip           121941 non-null  object                    \n",
      " 7   timestamp_ts   121941 non-null  float64                   \n",
      " 8   timestamp      121941 non-null  object                    \n",
      " 9   count          121941 non-null  int64                     \n",
      "dtypes: datetime64[ns, Asia/Tokyo](2), float64(1), int64(3), object(4)\n",
      "memory usage: 10.2+ MB\n",
      "None\n",
      "ENV                 :HONBAN         \n",
      "ip_address          :172.30.4.193   \n",
      "user                :Administrator  \n",
      "password            :panic          \n",
      "remote_hostname     :SESV400        \n",
      "SHARE_NAME          :d$             \n",
      "OUT_PATH            :/home/jovyan/datasets/Ftplogs/Output/\n",
      "LOG_PATH            :/home/jovyan/datasets/Ftplogs/SESV400/\n",
      "YMD                 :20220408       \n",
      "LOG_YMD             :2203           \n",
      "OUT_FILE            :/home/jovyan/datasets/Ftplogs/Output/Log/20220408_SESV400_2203_04_FtpLogs.csv\n",
      "picklepath          :/home/jovyan/datasets/Ftplogs/Output/Pickle/20220408_SESV400_2203_04_FtpLogs.csv.pickle\n",
      "OUT_SUM_FILE        :/home/jovyan/datasets/Ftplogs/Output/Sumary/20220408_SESV400_2203_FtpLogsSumary.csv\n",
      "132298\n",
      "<class 'pandas.core.frame.DataFrame'>\n",
      "Int64Index: 132409 entries, 0 to 132408\n",
      "Data columns (total 10 columns):\n",
      " #   Column         Non-Null Count   Dtype                     \n",
      "---  ------         --------------   -----                     \n",
      " 0   x-session      132409 non-null  object                    \n",
      " 1   index_min      132409 non-null  int64                     \n",
      " 2   timestamp_min  132409 non-null  datetime64[ns, Asia/Tokyo]\n",
      " 3   index_max      132409 non-null  int64                     \n",
      " 4   timestamp_max  132409 non-null  datetime64[ns, Asia/Tokyo]\n",
      " 5   c-ip           132409 non-null  object                    \n",
      " 6   s-ip           132409 non-null  object                    \n",
      " 7   timestamp_ts   132409 non-null  float64                   \n",
      " 8   timestamp      132409 non-null  object                    \n",
      " 9   count          132409 non-null  int64                     \n",
      "dtypes: datetime64[ns, Asia/Tokyo](2), float64(1), int64(3), object(4)\n",
      "memory usage: 11.1+ MB\n",
      "None\n",
      "ENV                 :HONBAN         \n",
      "ip_address          :172.30.4.193   \n",
      "user                :Administrator  \n",
      "password            :panic          \n",
      "remote_hostname     :SESV400        \n",
      "SHARE_NAME          :d$             \n",
      "OUT_PATH            :/home/jovyan/datasets/Ftplogs/Output/\n",
      "LOG_PATH            :/home/jovyan/datasets/Ftplogs/SESV400/\n",
      "YMD                 :20220408       \n",
      "LOG_YMD             :2203           \n",
      "OUT_FILE            :/home/jovyan/datasets/Ftplogs/Output/Log/20220408_SESV400_2203_05_FtpLogs.csv\n",
      "picklepath          :/home/jovyan/datasets/Ftplogs/Output/Pickle/20220408_SESV400_2203_05_FtpLogs.csv.pickle\n",
      "OUT_SUM_FILE        :/home/jovyan/datasets/Ftplogs/Output/Sumary/20220408_SESV400_2203_FtpLogsSumary.csv\n",
      "133282\n",
      "<class 'pandas.core.frame.DataFrame'>\n",
      "Int64Index: 133447 entries, 0 to 133446\n",
      "Data columns (total 10 columns):\n",
      " #   Column         Non-Null Count   Dtype                     \n",
      "---  ------         --------------   -----                     \n",
      " 0   x-session      133447 non-null  object                    \n",
      " 1   index_min      133447 non-null  int64                     \n",
      " 2   timestamp_min  133447 non-null  datetime64[ns, Asia/Tokyo]\n",
      " 3   index_max      133447 non-null  int64                     \n",
      " 4   timestamp_max  133447 non-null  datetime64[ns, Asia/Tokyo]\n",
      " 5   c-ip           133447 non-null  object                    \n",
      " 6   s-ip           133447 non-null  object                    \n",
      " 7   timestamp_ts   133447 non-null  float64                   \n",
      " 8   timestamp      133447 non-null  object                    \n",
      " 9   count          133447 non-null  int64                     \n",
      "dtypes: datetime64[ns, Asia/Tokyo](2), float64(1), int64(3), object(4)\n",
      "memory usage: 11.2+ MB\n",
      "None\n"
     ]
    }
   ],
   "source": [
    "#lp = ['21010','21011','21012'] #20220323\n",
    "#lp = ['21013','21022','21022'] #20220325\n",
    "#lp = ['21030','21031','21032','21033']  #20220325\n",
    "#lp = ['21040','21041','21042','21043']  #20220325\n",
    "#lp = ['21050','21051','21052','21053']  #20220325\n",
    "#lp = ['21060','21061','21062','21063']  #20220325\n",
    "#lp = ['21070','21071','21072','21073']  #20220325\n",
    "#lp = ['21080','21081','21082','21083']  #20220328\n",
    "#lp = ['21090','21091','21092','21093']  #20220328\n",
    "# #lp = ['21100','21101','21102','21103']  #20220328\n",
    "# #lp = ['21102']  #20220328-1 ['211020','211021','211022','211023','211024','211025']\n",
    "# #lp = ['21102']  #20220328-1 ['211026','211027','211028','211029']\n",
    "# #lp = ['21103']  #20220328\n",
    "#lp = ['2110']  #20220329\n",
    "#lp = ['2111']  #20220329\n",
    "#lp = ['2112']  #20220329\n",
    "#lp = ['2201']  #20220329\n",
    "#lp = ['2202']  #20220329\n",
    "lp = ['2203']  #20220408\n",
    "df = pd.DataFrame()\n",
    "for l in lp:\n",
    "    print(f'[IN] YMD: {l}')\n",
    "    n = main(l)\n",
    "    for i in range(n):\n",
    "        df = pd.concat([df, recov(i, l)])\n",
    "        \n",
    "    df.to_csv(OUT_SUM_FILE)\n",
    "    #graph(recov(l, n))"
   ]
  },
  {
   "cell_type": "code",
   "execution_count": null,
   "id": "9a731bf2-a0ee-4170-925a-e4bbf2b41edc",
   "metadata": {},
   "outputs": [],
   "source": []
  }
 ],
 "metadata": {
  "kernelspec": {
   "display_name": "Python 3 (ipykernel)",
   "language": "python",
   "name": "python3"
  },
  "language_info": {
   "codemirror_mode": {
    "name": "ipython",
    "version": 3
   },
   "file_extension": ".py",
   "mimetype": "text/x-python",
   "name": "python",
   "nbconvert_exporter": "python",
   "pygments_lexer": "ipython3",
   "version": "3.9.7"
  }
 },
 "nbformat": 4,
 "nbformat_minor": 5
}
