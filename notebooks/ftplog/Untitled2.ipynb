{
 "cells": [
  {
   "cell_type": "code",
   "execution_count": 2,
   "id": "f19390bc-05a6-49af-b1f6-b7f8709a89b6",
   "metadata": {},
   "outputs": [
    {
     "name": "stdout",
     "output_type": "stream",
     "text": [
      "Collecting typer\n",
      "  Downloading typer-0.4.0-py3-none-any.whl (27 kB)\n",
      "Requirement already satisfied: click<9.0.0,>=7.1.1 in /opt/conda/lib/python3.9/site-packages (from typer) (8.0.3)\n",
      "Installing collected packages: typer\n",
      "Successfully installed typer-0.4.0\n"
     ]
    }
   ],
   "source": [
    "#!pip install typer"
   ]
  },
  {
   "cell_type": "code",
   "execution_count": 3,
   "id": "ade33d39-a499-47b9-9b2e-9c0431bbaddc",
   "metadata": {},
   "outputs": [],
   "source": [
    "from pathlib import Path\n",
    "import pandas as pd\n",
    "import tqdm\n",
    "import typer"
   ]
  },
  {
   "cell_type": "code",
   "execution_count": 4,
   "id": "cd15d009-cd91-4250-8098-7994984a610c",
   "metadata": {},
   "outputs": [
    {
     "name": "stdout",
     "output_type": "stream",
     "text": [
      "\u001b[31m\u001b[1mReading file: /home/jovyan/datasets/Ftplogs/Output/20220317_RGSV920_FtpLogs.csv\u001b[0m\n",
      "\u001b[32m\u001b[1mtotal rows: 145\u001b[0m\n"
     ]
    },
    {
     "ename": "AttributeError",
     "evalue": "module 'tqdm' has no attribute 'auto'",
     "output_type": "error",
     "traceback": [
      "\u001b[0;31m---------------------------------------------------------------------------\u001b[0m",
      "\u001b[0;31mAttributeError\u001b[0m                            Traceback (most recent call last)",
      "Input \u001b[0;32mIn [4]\u001b[0m, in \u001b[0;36m<module>\u001b[0;34m\u001b[0m\n\u001b[1;32m     14\u001b[0m typer\u001b[38;5;241m.\u001b[39msecho(\u001b[38;5;124mf\u001b[39m\u001b[38;5;124m\"\u001b[39m\u001b[38;5;124mtotal rows: \u001b[39m\u001b[38;5;132;01m{\u001b[39;00mlength\u001b[38;5;132;01m}\u001b[39;00m\u001b[38;5;124m\"\u001b[39m, fg\u001b[38;5;241m=\u001b[39m\u001b[38;5;124m\"\u001b[39m\u001b[38;5;124mgreen\u001b[39m\u001b[38;5;124m\"\u001b[39m, bold\u001b[38;5;241m=\u001b[39m\u001b[38;5;28;01mTrue\u001b[39;00m)\n\u001b[1;32m     16\u001b[0m \u001b[38;5;66;03m# tqdm context\u001b[39;00m\n\u001b[0;32m---> 17\u001b[0m \u001b[38;5;28;01mwith\u001b[39;00m \u001b[43mtqdm\u001b[49m\u001b[38;5;241;43m.\u001b[39;49m\u001b[43mauto\u001b[49m\u001b[38;5;241m.\u001b[39mtqdm(total\u001b[38;5;241m=\u001b[39mlength, desc\u001b[38;5;241m=\u001b[39m\u001b[38;5;124m\"\u001b[39m\u001b[38;5;124mchunks read: \u001b[39m\u001b[38;5;124m\"\u001b[39m) \u001b[38;5;28;01mas\u001b[39;00m bar:\n\u001b[1;32m     18\u001b[0m     \u001b[38;5;66;03m# enumerate chunks read without low_memory (it is massive for pandas to precisely assign dtypes)\u001b[39;00m\n\u001b[1;32m     19\u001b[0m     \u001b[38;5;28;01mfor\u001b[39;00m i, chunk \u001b[38;5;129;01min\u001b[39;00m \u001b[38;5;28menumerate\u001b[39m(pd\u001b[38;5;241m.\u001b[39mread_csv(txt, chunksize\u001b[38;5;241m=\u001b[39mchunksize, low_memory\u001b[38;5;241m=\u001b[39m\u001b[38;5;28;01mFalse\u001b[39;00m)):\n\u001b[1;32m     20\u001b[0m         \n\u001b[1;32m     21\u001b[0m         \u001b[38;5;66;03m# print the chunk number\u001b[39;00m\n\u001b[1;32m     22\u001b[0m         \u001b[38;5;28mprint\u001b[39m(i)\n",
      "\u001b[0;31mAttributeError\u001b[0m: module 'tqdm' has no attribute 'auto'"
     ]
    }
   ],
   "source": [
    "txt = Path(\"/home/jovyan/datasets/Ftplogs/Output/20220317_RGSV920_FtpLogs.csv\").resolve()\n",
    "\n",
    "# read number of rows quickly\n",
    "length = sum(1 for row in open(txt, 'r'))\n",
    "\n",
    "# define a chunksize\n",
    "chunksize = 5000\n",
    "\n",
    "# initiate a blank dataframe\n",
    "df = pd.DataFrame()\n",
    "\n",
    "# fancy logging with typer\n",
    "typer.secho(f\"Reading file: {txt}\", fg=\"red\", bold=True)\n",
    "typer.secho(f\"total rows: {length}\", fg=\"green\", bold=True)\n",
    "\n",
    "# tqdm context\n",
    "with tqdm.auto.tqdm(total=length, desc=\"chunks read: \") as bar:\n",
    "    # enumerate chunks read without low_memory (it is massive for pandas to precisely assign dtypes)\n",
    "    for i, chunk in enumerate(pd.read_csv(txt, chunksize=chunksize, low_memory=False)):\n",
    "        \n",
    "        # print the chunk number\n",
    "        print(i)\n",
    "        \n",
    "        # append it to df\n",
    "        df = df.append(other=chunk)\n",
    "        \n",
    "        # update tqdm progress bar\n",
    "        bar.update(chunksize)\n",
    "        \n",
    "        # 6 chunks are enough to test\n",
    "        if i==5:\n",
    "            break\n",
    "            \n",
    "# finally inform with a friendly message\n",
    "typer.secho(\"end of reading chunks...\", fg=typer.colors.BRIGHT_RED)\n",
    "typer.secho(f\"Dataframe length:{len(df)}\", fg=\"green\", bold=True)\n",
    "    "
   ]
  },
  {
   "cell_type": "code",
   "execution_count": null,
   "id": "d6418cb3-5cbd-4976-b701-a2b0e07c095f",
   "metadata": {},
   "outputs": [],
   "source": []
  }
 ],
 "metadata": {
  "kernelspec": {
   "display_name": "Python 3 (ipykernel)",
   "language": "python",
   "name": "python3"
  },
  "language_info": {
   "codemirror_mode": {
    "name": "ipython",
    "version": 3
   },
   "file_extension": ".py",
   "mimetype": "text/x-python",
   "name": "python",
   "nbconvert_exporter": "python",
   "pygments_lexer": "ipython3",
   "version": "3.9.7"
  }
 },
 "nbformat": 4,
 "nbformat_minor": 5
}
