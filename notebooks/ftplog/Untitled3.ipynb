{
 "cells": [
  {
   "cell_type": "code",
   "execution_count": 17,
   "id": "a490c866-e1c9-4adb-9c88-22e8d1f25df0",
   "metadata": {},
   "outputs": [],
   "source": [
    "import pandas as pd\n",
    "import datetime as dt\n",
    "from pathlib import Path\n",
    "from tqdm import tqdm\n",
    "import time"
   ]
  },
  {
   "cell_type": "code",
   "execution_count": 18,
   "id": "930dadf9-a9dc-4b71-8f9a-925d557eaea1",
   "metadata": {},
   "outputs": [
    {
     "name": "stdout",
     "output_type": "stream",
     "text": [
      "145\n"
     ]
    }
   ],
   "source": [
    "filepath = '/home/jovyan/datasets/Ftplogs/Output/20220318_RGSV920_FtpLogs.csv'\n",
    "txt = Path(filepath).resolve()\n",
    "length = sum(1 for row in open(txt, 'r'))\n",
    "print(length)"
   ]
  },
  {
   "cell_type": "code",
   "execution_count": 93,
   "id": "ddd1f4fb-ce02-4662-8949-2c6346874b44",
   "metadata": {},
   "outputs": [
    {
     "name": "stderr",
     "output_type": "stream",
     "text": [
      "chunks read: 100%|██████████| 145/145 [00:00<00:00, 1376.09it/s]\n"
     ]
    }
   ],
   "source": [
    "dsz = length\n",
    "chunksize = 5000\n",
    "df = pd.DataFrame()\n",
    "order = [\n",
    "    \"date\",\"time\",\"c-ip\",\"cs-username\",\"s-ip\",\n",
    "    \"s-port\",\"cs-method\",\"cs-uri-stem\",\"sc-status\",\"sc-win32-status\",\n",
    "    \"sc-substatus\",\"time-taken\",\"x-session\",\"x-fullpath\"\n",
    "]\n",
    "with tqdm(total=length, desc=\"chunks read: \") as bar:\n",
    "    for i, chunk in enumerate(pd.read_csv(txt, chunksize=chunksize, low_memory=False, index_col=0)):\n",
    "        df = pd.concat([df,chunk])\n",
    "        bar.update(min(dsz, chunksize))\n",
    "        dsz -= chunksize\n",
    "        #time.sleep(1)"
   ]
  },
  {
   "cell_type": "code",
   "execution_count": 98,
   "id": "5c2555fa-be63-4fd4-8499-2eeab461b228",
   "metadata": {},
   "outputs": [],
   "source": [
    "#print(df.head(10))\n",
    "#print(df.reset_index())\n",
    "#print(list(df.groupby('x-session').index))\n",
    "df['index'] = df.reset_index().index\n",
    "df2 = df.groupby('x-session')['index'].min()\n",
    "df3 = df.groupby('x-session')['index'].max()"
   ]
  },
  {
   "cell_type": "code",
   "execution_count": 101,
   "id": "520cb88d-1cf9-43fe-9687-cdd1a6ab2625",
   "metadata": {},
   "outputs": [
    {
     "ename": "SyntaxError",
     "evalue": "cannot assign to function call (2474342182.py, line 6)",
     "output_type": "error",
     "traceback": [
      "\u001b[0;36m  Input \u001b[0;32mIn [101]\u001b[0;36m\u001b[0m\n\u001b[0;31m    df2 = df.groupby('x-session'), as_index = False).min().pivot('index')\u001b[0m\n\u001b[0m          ^\u001b[0m\n\u001b[0;31mSyntaxError\u001b[0m\u001b[0;31m:\u001b[0m cannot assign to function call\n"
     ]
    }
   ],
   "source": [
    "print(df.head(10))\n",
    "#print(df2.head(10))\n",
    "#print(df3.head(10))\n",
    "\n",
    "# GroupBy multiple columns using pivot function\n",
    "df2 = df.groupby('x-session'), as_index = False).min().pivot('index')\n",
    "#print(df2)\n"
   ]
  },
  {
   "cell_type": "code",
   "execution_count": null,
   "id": "e181875e-3ce7-4ca7-b816-a63dee032751",
   "metadata": {},
   "outputs": [],
   "source": []
  },
  {
   "cell_type": "code",
   "execution_count": null,
   "id": "13d11e14-7e6a-409a-8fe1-bce8ceac7dc0",
   "metadata": {},
   "outputs": [],
   "source": []
  }
 ],
 "metadata": {
  "kernelspec": {
   "display_name": "Python 3 (ipykernel)",
   "language": "python",
   "name": "python3"
  },
  "language_info": {
   "codemirror_mode": {
    "name": "ipython",
    "version": 3
   },
   "file_extension": ".py",
   "mimetype": "text/x-python",
   "name": "python",
   "nbconvert_exporter": "python",
   "pygments_lexer": "ipython3",
   "version": "3.9.7"
  }
 },
 "nbformat": 4,
 "nbformat_minor": 5
}
