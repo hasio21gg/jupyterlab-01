{
 "cells": [
  {
   "cell_type": "code",
   "execution_count": 9,
   "id": "78b1aed1-fa1b-47f4-b339-0c3f5e43d380",
   "metadata": {},
   "outputs": [],
   "source": [
    "from smb.SMBConnection import SMBConnection\n",
    "import platform"
   ]
  },
  {
   "cell_type": "code",
   "execution_count": 37,
   "id": "73944b90-808b-4240-b683-3d34dbbc47da",
   "metadata": {},
   "outputs": [],
   "source": [
    "def envset():\n",
    "    global ip_address\n",
    "    global user\n",
    "    global password\n",
    "    global remote_hostname \n",
    "    global SHARE_NAME\n",
    "    global FILE_TO_PATH\n",
    "    \n",
    "    ip_address = '172.28.91.205'\n",
    "    #ip_address = 'localhost'\n",
    "    user = 'Administrator'\n",
    "    password = 'r4HwzVdV2A'\n",
    "    remote_hostname = 'D08591'\n",
    "    \n",
    "    SHARE_NAME = 'Root'\n",
    "    FILE_TO_PATH = 'ftplogs/'"
   ]
  },
  {
   "cell_type": "code",
   "execution_count": 40,
   "id": "adb2b6f9-91e9-475a-b167-7d34a388fda2",
   "metadata": {},
   "outputs": [],
   "source": [
    "def SMBFileList():\n",
    "    print(\"==================================================\")\n",
    "    result = False\n",
    "    conn = SMBConnection(\n",
    "        user,\n",
    "        password,\n",
    "        platform.uname().node,\n",
    "        remote_hostname,\n",
    "        domain='WORKGROUP',\n",
    "        use_ntlm_v2=True)\n",
    "    result = conn.connect(ip_address, 139)\n",
    "    print(result)\n",
    "    return result, conn"
   ]
  },
  {
   "cell_type": "code",
   "execution_count": 41,
   "id": "3c6aa4b7-3f77-4cd5-b9f6-e2a9e39c7ff1",
   "metadata": {},
   "outputs": [
    {
     "name": "stdout",
     "output_type": "stream",
     "text": [
      "==================================================\n",
      "True\n"
     ]
    }
   ],
   "source": [
    "envset()\n",
    "ret ,conn = SMBFileList()\n",
    "\n",
    "#SMBファイル一覧\n",
    "items = conn.listPath(\n",
    "    '\\\\cloudrive\\Root',\n",
    "    'ftplogs'\n",
    ")"
   ]
  },
  {
   "cell_type": "code",
   "execution_count": null,
   "id": "0cce50d9-e3bc-44a8-9b34-c6d31e0891fc",
   "metadata": {},
   "outputs": [],
   "source": []
  }
 ],
 "metadata": {
  "kernelspec": {
   "display_name": "Python 3 (ipykernel)",
   "language": "python",
   "name": "python3"
  },
  "language_info": {
   "codemirror_mode": {
    "name": "ipython",
    "version": 3
   },
   "file_extension": ".py",
   "mimetype": "text/x-python",
   "name": "python",
   "nbconvert_exporter": "python",
   "pygments_lexer": "ipython3",
   "version": "3.9.7"
  }
 },
 "nbformat": 4,
 "nbformat_minor": 5
}
